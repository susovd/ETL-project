{
 "cells": [
  {
   "cell_type": "markdown",
   "metadata": {},
   "source": [
    "# Code to extract TV info from Good Guys"
   ]
  },
  {
   "cell_type": "code",
   "execution_count": 1,
   "metadata": {},
   "outputs": [],
   "source": [
    "# Dependencies\n",
    "#import requests\n",
    "from bs4 import BeautifulSoup as bs\n",
    "from time import sleep\n",
    "import pandas as pd\n",
    "from splinter import Browser\n",
    "from splinter.exceptions import ElementDoesNotExist\n",
    "from selenium.webdriver import ActionChains\n",
    "from webdriver_manager.chrome import ChromeDriverManager"
   ]
  },
  {
   "cell_type": "markdown",
   "metadata": {},
   "source": [
    "There are 136 televisions listed on the Good Guys website contained in 3 webpages (60 per page) so we will be using Splinter to help us automate through the pages (as at 11.08.2020)"
   ]
  },
  {
   "cell_type": "code",
   "execution_count": 2,
   "metadata": {},
   "outputs": [
    {
     "name": "stderr",
     "output_type": "stream",
     "text": [
      "[WDM] - Current google-chrome version is 84.0.4147\n",
      "[WDM] - Get LATEST driver version for 84.0.4147\n"
     ]
    },
    {
     "name": "stdout",
     "output_type": "stream",
     "text": [
      " \n"
     ]
    },
    {
     "name": "stderr",
     "output_type": "stream",
     "text": [
      "[WDM] - Driver [C:\\Users\\foong\\.wdm\\drivers\\chromedriver\\win32\\84.0.4147.30\\chromedriver.exe] found in cache\n"
     ]
    }
   ],
   "source": [
    "executable_path = {'executable_path': ChromeDriverManager().install()}\n",
    "browser = Browser('chrome', **executable_path, headless=False)\n",
    "\n",
    "url = \"https://www.thegoodguys.com.au/televisions/all-tvs\"\n",
    "browser.visit(url)"
   ]
  },
  {
   "cell_type": "markdown",
   "metadata": {},
   "source": [
    "## Automate Browser Navigation"
   ]
  },
  {
   "cell_type": "code",
   "execution_count": 3,
   "metadata": {},
   "outputs": [],
   "source": [
    "# Create function to automate browser navigation for loop\n",
    "\n",
    "def scroll_and_next(page_no):\n",
    "\n",
    "    # Ensuring the link is in view\n",
    "    browser.execute_script('window.scrollTo(0, 10000);')\n",
    "\n",
    "    # Find Next button and click to navigate to next page\n",
    "    browser.find_by_text(\"Next\").first.click()\n",
    "    \n",
    "    sleep(5)"
   ]
  },
  {
   "cell_type": "markdown",
   "metadata": {},
   "source": [
    "## Use Beautiful Soup To Get Web Results"
   ]
  },
  {
   "cell_type": "code",
   "execution_count": 4,
   "metadata": {},
   "outputs": [
    {
     "name": "stdout",
     "output_type": "stream",
     "text": [
      "There are 60 results on this page\n"
     ]
    }
   ],
   "source": [
    "# Create function to retrieve url page, create Beautiful Soup object, \n",
    "# parse and get results for loop.\n",
    "\n",
    "def get_results(page_no): \n",
    "    \n",
    "    # Create a Beautiful Soup object; parse with 'html.parser'\n",
    "    soup = bs(browser.html, \"html.parser\")\n",
    "\n",
    "    # results are returned as an iterable list\n",
    "    results = soup.select(\"#product_listing_tab\")[0].find_all(\"li\")\n",
    "    \n",
    "    return results\n",
    "      \n",
    "# Example: show the number of results in first page\n",
    "print(f\"There are {len(get_results(0))} results on this page\")"
   ]
  },
  {
   "cell_type": "code",
   "execution_count": 5,
   "metadata": {},
   "outputs": [
    {
     "data": {
      "text/plain": [
       "60"
      ]
     },
     "execution_count": 5,
     "metadata": {},
     "output_type": "execute_result"
    }
   ],
   "source": [
    "# Retrieve results for first page of results (60 televisions)\n",
    "# To illustrate examples in the functions below\n",
    "\n",
    "page_no = 1\n",
    "results = get_results(page_no) # Store results in variable \"results\"\n",
    "len(results)"
   ]
  },
  {
   "cell_type": "markdown",
   "metadata": {},
   "source": [
    "## Find Product Category"
   ]
  },
  {
   "cell_type": "code",
   "execution_count": 6,
   "metadata": {},
   "outputs": [
    {
     "name": "stdout",
     "output_type": "stream",
     "text": [
      "Televisions\n"
     ]
    }
   ],
   "source": [
    "# Create function to get product category for loop\n",
    "\n",
    "def category_finder(x):\n",
    "    onclick = results[x].a[\"onclick\"]\n",
    "    start = onclick.rfind(\"Product Category L1 :\") + len(\"Product Category L1 :\")\n",
    "    end = onclick.rfind(\"','TGGCATLPEventAction':'Product Category L2 :\")\n",
    "    category = onclick[start:end]\n",
    "    return category\n",
    "\n",
    "# Example: to find the Product Category for the first result\n",
    "print(category_finder(0))"
   ]
  },
  {
   "cell_type": "markdown",
   "metadata": {},
   "source": [
    "## Find Currency Code"
   ]
  },
  {
   "cell_type": "code",
   "execution_count": 7,
   "metadata": {},
   "outputs": [
    {
     "name": "stdout",
     "output_type": "stream",
     "text": [
      "AUD\n"
     ]
    }
   ],
   "source": [
    "# Create function to get currency code for loop\n",
    "\n",
    "def currency_finder(x):\n",
    "    scripts = results[x].script.find_next(\"script\").string\n",
    "    start = scripts.rfind(\"currencyCode\")+len(\"currencyCode\")+4\n",
    "    end = start + 3\n",
    "    currency = scripts[start:end]\n",
    "    return currency\n",
    "\n",
    "# Example: to find the Currency Code for the first result\n",
    "print(currency_finder(0))"
   ]
  },
  {
   "cell_type": "markdown",
   "metadata": {},
   "source": [
    "## Find Brand"
   ]
  },
  {
   "cell_type": "code",
   "execution_count": 8,
   "metadata": {},
   "outputs": [
    {
     "name": "stdout",
     "output_type": "stream",
     "text": [
      "Sony\n"
     ]
    }
   ],
   "source": [
    "# Create function to get brand for loop\n",
    "\n",
    "def brand_finder(x):\n",
    "    brand = results[x].select('input[type=\"hidden\"]')[3][\"value\"]\n",
    "    return brand\n",
    "\n",
    "# Example: to find the Brand for the first result\n",
    "print(brand_finder(0))"
   ]
  },
  {
   "cell_type": "markdown",
   "metadata": {},
   "source": [
    "## Find Model Number"
   ]
  },
  {
   "cell_type": "code",
   "execution_count": 9,
   "metadata": {},
   "outputs": [
    {
     "name": "stdout",
     "output_type": "stream",
     "text": [
      "KDL32W660E\n"
     ]
    }
   ],
   "source": [
    "# Create function to get model number for loop\n",
    "\n",
    "def model_finder(x):\n",
    "    model = results[x].find(\"div\", class_=\"product-tile-model\").text\n",
    "    return model\n",
    "\n",
    "# Example: to find the Model Number for the first result\n",
    "print(model_finder(0))"
   ]
  },
  {
   "cell_type": "markdown",
   "metadata": {},
   "source": [
    "## Find Name"
   ]
  },
  {
   "cell_type": "code",
   "execution_count": 10,
   "metadata": {},
   "outputs": [
    {
     "name": "stdout",
     "output_type": "stream",
     "text": [
      "Sony 32\"(81cm) FHD LED LCD Smart TV\n"
     ]
    }
   ],
   "source": [
    "# Create function to get name for loop\n",
    "\n",
    "def name_finder(x):\n",
    "    brand = results[x].select('input[type=\"hidden\"]')[3][\"value\"]\n",
    "    name = results[x].select('input[type=\"hidden\"]')[4][\"value\"]\n",
    "    return brand + \" \" + name\n",
    "\n",
    "# Example: to find the Product Name for the first result\n",
    "print(name_finder(0))"
   ]
  },
  {
   "cell_type": "markdown",
   "metadata": {},
   "source": [
    "## Find Screen Size"
   ]
  },
  {
   "cell_type": "code",
   "execution_count": 11,
   "metadata": {},
   "outputs": [
    {
     "name": "stdout",
     "output_type": "stream",
     "text": [
      "32\"(81cm)\n"
     ]
    }
   ],
   "source": [
    "# Create function to get screen size for loop\n",
    "\n",
    "def size_finder(x):\n",
    "    name = results[x].select('input[type=\"hidden\"]')[4][\"value\"]\n",
    "    size = name.split()[0]\n",
    "    return size\n",
    "\n",
    "# Example: to find the Screen Size for the first result\n",
    "print(size_finder(0))"
   ]
  },
  {
   "cell_type": "markdown",
   "metadata": {},
   "source": [
    "## Find Price"
   ]
  },
  {
   "cell_type": "code",
   "execution_count": 12,
   "metadata": {},
   "outputs": [
    {
     "name": "stdout",
     "output_type": "stream",
     "text": [
      "$595.00\n"
     ]
    }
   ],
   "source": [
    "# Create function to get price for loop\n",
    "\n",
    "def price_finder(x):\n",
    "    price = results[x].select('input[type=\"hidden\"]')[5][\"value\"]\n",
    "    return price\n",
    "\n",
    "# Example: to find the Price for the first result\n",
    "print(price_finder(0))"
   ]
  },
  {
   "cell_type": "markdown",
   "metadata": {},
   "source": [
    "## Find Link to Product Image"
   ]
  },
  {
   "cell_type": "code",
   "execution_count": 13,
   "metadata": {},
   "outputs": [
    {
     "name": "stdout",
     "output_type": "stream",
     "text": [
      "//thegoodguys.sirv.com/products/50048259/50048259_511653.PNG?scale.height=215&scale.width=215&canvas.height=215&canvas.width=215&canvas.opacity=0\n"
     ]
    }
   ],
   "source": [
    "# Create function to get image link for loop\n",
    "\n",
    "def image_finder(x):\n",
    "    image = results[x].img[\"data-src\"]\n",
    "    return image\n",
    "\n",
    "# Example: to find the link to Product Image for the first result\n",
    "print(image_finder(0))"
   ]
  },
  {
   "cell_type": "markdown",
   "metadata": {},
   "source": [
    "## The Loop"
   ]
  },
  {
   "cell_type": "code",
   "execution_count": 14,
   "metadata": {},
   "outputs": [],
   "source": [
    "# Create lists to hold values\n",
    "\n",
    "categories = list()\n",
    "currencies = list()\n",
    "brands = list()\n",
    "models = list()\n",
    "names = list()\n",
    "sizes = list()\n",
    "prices = list()\n",
    "images = list()"
   ]
  },
  {
   "cell_type": "code",
   "execution_count": 15,
   "metadata": {
    "scrolled": true
   },
   "outputs": [
    {
     "name": "stdout",
     "output_type": "stream",
     "text": [
      "Price not available:  Hitachi 55\"(140cm) UHD HDR LED LCD Smart TV\n",
      "Price not available:  Sony 85\" Z9G 8K UHD ANDROID LCD LED TV\n",
      "Price not available:  FFALCON 32\" F1 HD LED TV\n",
      "Price not available:  Sony 65\" A8H 4K UHD ANDROID BRAVIA OLED TV\n",
      "Price not available:  Sony 55\" A8H 4K UHD ANDROID BRAVIA OLED TV\n",
      "Price not available:  Hisense 24\"(60cm) HD LED LCD TV\n"
     ]
    }
   ],
   "source": [
    "# Loop inside a loop \n",
    "# Loop splinter to navigate through the pages\n",
    "# Loop beautiful soup for returned results \n",
    "\n",
    "x = 0 # Set variables - x to loop through results\n",
    "page_no = 1 # Set variables - page_no to loop through web pages\n",
    "\n",
    "while page_no <= 3: # Only 3 web pages\n",
    "    \n",
    "    if page_no == 1: # If page 1, do not activate splinter to navigate next page\n",
    "        \n",
    "        results = get_results(page_no) # Run get_results function to retrieve results into a variable\n",
    "        \n",
    "        page_no += 1\n",
    "        \n",
    "        for x in range(len(results)): # Then loop through results list to get values using functions defined earlier\n",
    "\n",
    "            try:\n",
    "\n",
    "                category = category_finder(x)\n",
    "                currency = currency_finder(x)\n",
    "                brand = brand_finder(x)\n",
    "                model = model_finder(x)\n",
    "                name = name_finder(x)\n",
    "                size = size_finder(x)\n",
    "                price = price_finder(x)\n",
    "                image = image_finder(x)\n",
    "\n",
    "                if (category and currency and brand and model and name and size and price and image):\n",
    "                # append values from each function into the lists created if no missing values(namely price is not available when product is out of stock)\n",
    "                \n",
    "                            categories.append(category)\n",
    "                            currencies.append(currency)\n",
    "                            brands.append(brand)\n",
    "                            models.append(model)\n",
    "                            names.append(name)\n",
    "                            sizes.append(size)\n",
    "                            prices.append(price)\n",
    "                            images.append(image)\n",
    "\n",
    "            except: # Manage exceptions\n",
    "                print(\"Price not available: \",name_finder(x)) # So we can view items with no pricing\n",
    "\n",
    "\n",
    "            x += 1\n",
    "             \n",
    "    else: \n",
    "    \n",
    "        scroll_and_next(page_no) # If we are not on page 1, then use function to navigate to next page\n",
    "    \n",
    "        sleep(15) # Sleep to allow time for new page results to load\n",
    "        \n",
    "        results = get_results(page_no) # Retrieve results from new page and store in variable for loop\n",
    "\n",
    "        page_no += 1\n",
    "\n",
    "        for x in range(len(results)):\n",
    "\n",
    "            try:\n",
    "\n",
    "                category = category_finder(x)\n",
    "                currency = currency_finder(x)\n",
    "                brand = brand_finder(x)\n",
    "                model = model_finder(x)\n",
    "                name = name_finder(x)\n",
    "                size = size_finder(x)\n",
    "                price = price_finder(x)\n",
    "                image = image_finder(x)\n",
    "\n",
    "                if (category and currency and brand and model and name and size and price and image):\n",
    "\n",
    "                            categories.append(category)\n",
    "                            currencies.append(currency)\n",
    "                            brands.append(brand)\n",
    "                            models.append(model)\n",
    "                            names.append(name)\n",
    "                            sizes.append(size)\n",
    "                            prices.append(price)\n",
    "                            images.append(image)\n",
    "\n",
    "            except:\n",
    "                print(\"Price not available: \",name_finder(x))\n",
    "\n",
    "\n",
    "            x += 1"
   ]
  },
  {
   "cell_type": "code",
   "execution_count": 16,
   "metadata": {},
   "outputs": [
    {
     "name": "stdout",
     "output_type": "stream",
     "text": [
      "129\n",
      "129\n",
      "129\n",
      "129\n",
      "129\n",
      "129\n",
      "129\n"
     ]
    }
   ],
   "source": [
    "# Check number of results - site lists 136 products in total (as at 11.08.2020)\n",
    "\n",
    "print(len(categories))\n",
    "print(len(currencies))\n",
    "print(len(brands))\n",
    "print(len(names))\n",
    "print(len(sizes))\n",
    "print(len(prices))\n",
    "print(len(images))"
   ]
  },
  {
   "cell_type": "code",
   "execution_count": 17,
   "metadata": {},
   "outputs": [
    {
     "data": {
      "text/html": [
       "<div>\n",
       "<style scoped>\n",
       "    .dataframe tbody tr th:only-of-type {\n",
       "        vertical-align: middle;\n",
       "    }\n",
       "\n",
       "    .dataframe tbody tr th {\n",
       "        vertical-align: top;\n",
       "    }\n",
       "\n",
       "    .dataframe thead th {\n",
       "        text-align: right;\n",
       "    }\n",
       "</style>\n",
       "<table border=\"1\" class=\"dataframe\">\n",
       "  <thead>\n",
       "    <tr style=\"text-align: right;\">\n",
       "      <th></th>\n",
       "      <th>retailer</th>\n",
       "      <th>category</th>\n",
       "      <th>currency</th>\n",
       "      <th>brand</th>\n",
       "      <th>model</th>\n",
       "      <th>name</th>\n",
       "      <th>size</th>\n",
       "      <th>price</th>\n",
       "      <th>image</th>\n",
       "    </tr>\n",
       "  </thead>\n",
       "  <tbody>\n",
       "    <tr>\n",
       "      <th>0</th>\n",
       "      <td>Good Guys</td>\n",
       "      <td>Televisions</td>\n",
       "      <td>AUD</td>\n",
       "      <td>Sony</td>\n",
       "      <td>KDL32W660E</td>\n",
       "      <td>Sony 32\"(81cm) FHD LED LCD Smart TV</td>\n",
       "      <td>32\"(81cm)</td>\n",
       "      <td>$595.00</td>\n",
       "      <td>//thegoodguys.sirv.com/products/50048259/50048...</td>\n",
       "    </tr>\n",
       "    <tr>\n",
       "      <th>1</th>\n",
       "      <td>Good Guys</td>\n",
       "      <td>Televisions</td>\n",
       "      <td>AUD</td>\n",
       "      <td>Hitachi</td>\n",
       "      <td>50UHDSM8</td>\n",
       "      <td>Hitachi 50\"(127cm) UHD LED LCD Smart TV</td>\n",
       "      <td>50\"(127cm)</td>\n",
       "      <td>$699.00</td>\n",
       "      <td>//thegoodguys.sirv.com/products/50063086/50063...</td>\n",
       "    </tr>\n",
       "    <tr>\n",
       "      <th>2</th>\n",
       "      <td>Good Guys</td>\n",
       "      <td>Televisions</td>\n",
       "      <td>AUD</td>\n",
       "      <td>Hitachi</td>\n",
       "      <td>40FHDSM8</td>\n",
       "      <td>Hitachi 40\"(101cm) FHD LED LCD Smart TV</td>\n",
       "      <td>40\"(101cm)</td>\n",
       "      <td>$399.00</td>\n",
       "      <td>//thegoodguys.sirv.com/products/50063088/50063...</td>\n",
       "    </tr>\n",
       "    <tr>\n",
       "      <th>3</th>\n",
       "      <td>Good Guys</td>\n",
       "      <td>Televisions</td>\n",
       "      <td>AUD</td>\n",
       "      <td>Philips</td>\n",
       "      <td>50PUT6103/79</td>\n",
       "      <td>Philips 50\"(126cm) UHD LED LCD Smart TV</td>\n",
       "      <td>50\"(126cm)</td>\n",
       "      <td>$599.00</td>\n",
       "      <td>//thegoodguys.sirv.com/products/50063014/50063...</td>\n",
       "    </tr>\n",
       "    <tr>\n",
       "      <th>4</th>\n",
       "      <td>Good Guys</td>\n",
       "      <td>Televisions</td>\n",
       "      <td>AUD</td>\n",
       "      <td>TCL</td>\n",
       "      <td>40D3000F</td>\n",
       "      <td>TCL 40\"(101cm) FHD LED LCD TV</td>\n",
       "      <td>40\"(101cm)</td>\n",
       "      <td>$445.00</td>\n",
       "      <td>//thegoodguys.sirv.com/products/50052593/50052...</td>\n",
       "    </tr>\n",
       "  </tbody>\n",
       "</table>\n",
       "</div>"
      ],
      "text/plain": [
       "    retailer     category currency    brand         model  \\\n",
       "0  Good Guys  Televisions      AUD     Sony    KDL32W660E   \n",
       "1  Good Guys  Televisions      AUD  Hitachi      50UHDSM8   \n",
       "2  Good Guys  Televisions      AUD  Hitachi      40FHDSM8   \n",
       "3  Good Guys  Televisions      AUD  Philips  50PUT6103/79   \n",
       "4  Good Guys  Televisions      AUD      TCL      40D3000F   \n",
       "\n",
       "                                      name        size    price  \\\n",
       "0      Sony 32\"(81cm) FHD LED LCD Smart TV   32\"(81cm)  $595.00   \n",
       "1  Hitachi 50\"(127cm) UHD LED LCD Smart TV  50\"(127cm)  $699.00   \n",
       "2  Hitachi 40\"(101cm) FHD LED LCD Smart TV  40\"(101cm)  $399.00   \n",
       "3  Philips 50\"(126cm) UHD LED LCD Smart TV  50\"(126cm)  $599.00   \n",
       "4            TCL 40\"(101cm) FHD LED LCD TV  40\"(101cm)  $445.00   \n",
       "\n",
       "                                               image  \n",
       "0  //thegoodguys.sirv.com/products/50048259/50048...  \n",
       "1  //thegoodguys.sirv.com/products/50063086/50063...  \n",
       "2  //thegoodguys.sirv.com/products/50063088/50063...  \n",
       "3  //thegoodguys.sirv.com/products/50063014/50063...  \n",
       "4  //thegoodguys.sirv.com/products/50052593/50052...  "
      ]
     },
     "execution_count": 17,
     "metadata": {},
     "output_type": "execute_result"
    }
   ],
   "source": [
    "df = pd.DataFrame({\n",
    "        \"retailer\": \"Good Guys\",\n",
    "        \"category\": \"Televisions\",\n",
    "        \"currency\": currencies,\n",
    "        \"brand\": brands,\n",
    "        \"model\": models,\n",
    "        \"name\": names,\n",
    "        \"size\": sizes,\n",
    "        \"price\": prices,\n",
    "        \"image\": images\n",
    "})\n",
    "\n",
    "df.head()"
   ]
  },
  {
   "cell_type": "code",
   "execution_count": 18,
   "metadata": {},
   "outputs": [
    {
     "data": {
      "text/html": [
       "<div>\n",
       "<style scoped>\n",
       "    .dataframe tbody tr th:only-of-type {\n",
       "        vertical-align: middle;\n",
       "    }\n",
       "\n",
       "    .dataframe tbody tr th {\n",
       "        vertical-align: top;\n",
       "    }\n",
       "\n",
       "    .dataframe thead th {\n",
       "        text-align: right;\n",
       "    }\n",
       "</style>\n",
       "<table border=\"1\" class=\"dataframe\">\n",
       "  <thead>\n",
       "    <tr style=\"text-align: right;\">\n",
       "      <th></th>\n",
       "      <th>retailer</th>\n",
       "      <th>category</th>\n",
       "      <th>currency</th>\n",
       "      <th>brand</th>\n",
       "      <th>model</th>\n",
       "      <th>name</th>\n",
       "      <th>size</th>\n",
       "      <th>price</th>\n",
       "      <th>image</th>\n",
       "    </tr>\n",
       "  </thead>\n",
       "  <tbody>\n",
       "    <tr>\n",
       "      <th>count</th>\n",
       "      <td>129</td>\n",
       "      <td>129</td>\n",
       "      <td>129</td>\n",
       "      <td>129</td>\n",
       "      <td>129</td>\n",
       "      <td>129</td>\n",
       "      <td>129</td>\n",
       "      <td>129</td>\n",
       "      <td>129</td>\n",
       "    </tr>\n",
       "    <tr>\n",
       "      <th>unique</th>\n",
       "      <td>1</td>\n",
       "      <td>1</td>\n",
       "      <td>1</td>\n",
       "      <td>11</td>\n",
       "      <td>129</td>\n",
       "      <td>129</td>\n",
       "      <td>20</td>\n",
       "      <td>69</td>\n",
       "      <td>129</td>\n",
       "    </tr>\n",
       "    <tr>\n",
       "      <th>top</th>\n",
       "      <td>Good Guys</td>\n",
       "      <td>Televisions</td>\n",
       "      <td>AUD</td>\n",
       "      <td>Samsung</td>\n",
       "      <td>VG-SCFT65BW/RU</td>\n",
       "      <td>Hisense 65\" S8 4K UHD SMART LED TV</td>\n",
       "      <td>65\"</td>\n",
       "      <td>$5995.00</td>\n",
       "      <td>//thegoodguys.sirv.com/products/50070885/50070...</td>\n",
       "    </tr>\n",
       "    <tr>\n",
       "      <th>freq</th>\n",
       "      <td>129</td>\n",
       "      <td>129</td>\n",
       "      <td>129</td>\n",
       "      <td>40</td>\n",
       "      <td>1</td>\n",
       "      <td>1</td>\n",
       "      <td>29</td>\n",
       "      <td>5</td>\n",
       "      <td>1</td>\n",
       "    </tr>\n",
       "  </tbody>\n",
       "</table>\n",
       "</div>"
      ],
      "text/plain": [
       "         retailer     category currency    brand           model  \\\n",
       "count         129          129      129      129             129   \n",
       "unique          1            1        1       11             129   \n",
       "top     Good Guys  Televisions      AUD  Samsung  VG-SCFT65BW/RU   \n",
       "freq          129          129      129       40               1   \n",
       "\n",
       "                                      name size     price  \\\n",
       "count                                  129  129       129   \n",
       "unique                                 129   20        69   \n",
       "top     Hisense 65\" S8 4K UHD SMART LED TV  65\"  $5995.00   \n",
       "freq                                     1   29         5   \n",
       "\n",
       "                                                    image  \n",
       "count                                                 129  \n",
       "unique                                                129  \n",
       "top     //thegoodguys.sirv.com/products/50070885/50070...  \n",
       "freq                                                    1  "
      ]
     },
     "execution_count": 18,
     "metadata": {},
     "output_type": "execute_result"
    }
   ],
   "source": [
    "df.describe()"
   ]
  },
  {
   "cell_type": "code",
   "execution_count": 19,
   "metadata": {},
   "outputs": [
    {
     "data": {
      "text/plain": [
       "retailer    0\n",
       "category    0\n",
       "currency    0\n",
       "brand       0\n",
       "model       0\n",
       "name        0\n",
       "size        0\n",
       "price       0\n",
       "image       0\n",
       "dtype: int64"
      ]
     },
     "execution_count": 19,
     "metadata": {},
     "output_type": "execute_result"
    }
   ],
   "source": [
    "df.isnull().sum() # To check if there are any null values"
   ]
  },
  {
   "cell_type": "code",
   "execution_count": 20,
   "metadata": {},
   "outputs": [
    {
     "data": {
      "text/plain": [
       "retailer    0\n",
       "category    0\n",
       "currency    0\n",
       "brand       0\n",
       "model       0\n",
       "name        0\n",
       "size        0\n",
       "price       0\n",
       "image       0\n",
       "dtype: int64"
      ]
     },
     "execution_count": 20,
     "metadata": {},
     "output_type": "execute_result"
    }
   ],
   "source": [
    "df[df.duplicated()].count() # To check if there are any duplicated values"
   ]
  },
  {
   "cell_type": "code",
   "execution_count": 21,
   "metadata": {},
   "outputs": [],
   "source": [
    "df.to_csv(\"output/good_guys_rerun.csv\") "
   ]
  },
  {
   "cell_type": "code",
   "execution_count": null,
   "metadata": {},
   "outputs": [],
   "source": []
  }
 ],
 "metadata": {
  "kernelspec": {
   "display_name": "Python [conda env:PythonData]",
   "language": "python",
   "name": "conda-env-PythonData-py"
  },
  "language_info": {
   "codemirror_mode": {
    "name": "ipython",
    "version": 3
   },
   "file_extension": ".py",
   "mimetype": "text/x-python",
   "name": "python",
   "nbconvert_exporter": "python",
   "pygments_lexer": "ipython3",
   "version": "3.8.3"
  }
 },
 "nbformat": 4,
 "nbformat_minor": 4
}
