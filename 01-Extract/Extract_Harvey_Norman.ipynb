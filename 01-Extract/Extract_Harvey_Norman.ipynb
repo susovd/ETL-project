{
 "cells": [
  {
   "cell_type": "code",
   "execution_count": 1,
   "metadata": {},
   "outputs": [],
   "source": [
    "# Dependencies\n",
    "import requests\n",
    "from bs4 import BeautifulSoup \n",
    "from time import sleep\n",
    "import pandas as pd\n",
    "from splinter import Browser\n",
    "from splinter.exceptions import ElementDoesNotExist\n",
    "from selenium.webdriver import ActionChains\n",
    "from webdriver_manager.chrome import ChromeDriverManager"
   ]
  },
  {
   "cell_type": "code",
   "execution_count": 2,
   "metadata": {},
   "outputs": [],
   "source": [
    "#trying to scrapre price for multiple TVs at once.\n",
    "#url to be scrapped\n",
    "url = \"https://www.harveynorman.com.au/tv-blu-ray-home-theatre/tvs-by-screen-size/all-tvs\""
   ]
  },
  {
   "cell_type": "code",
   "execution_count": 3,
   "metadata": {},
   "outputs": [],
   "source": [
    "#retreice page with the requests module\n",
    "response = requests.get(url)"
   ]
  },
  {
   "cell_type": "code",
   "execution_count": 4,
   "metadata": {
    "scrolled": true
   },
   "outputs": [
    {
     "name": "stderr",
     "output_type": "stream",
     "text": [
      "[WDM] - Current google-chrome version is 84.0.4147\n",
      "[WDM] - Get LATEST driver version for 84.0.4147\n"
     ]
    },
    {
     "name": "stdout",
     "output_type": "stream",
     "text": [
      " \n"
     ]
    },
    {
     "name": "stderr",
     "output_type": "stream",
     "text": [
      "[WDM] - Get LATEST driver version for 84.0.4147\n",
      "[WDM] - Trying to download new driver from http://chromedriver.storage.googleapis.com/84.0.4147.30/chromedriver_win32.zip\n",
      "[WDM] - Driver has been saved in cache [C:\\Users\\racha\\.wdm\\drivers\\chromedriver\\win32\\84.0.4147.30]\n"
     ]
    }
   ],
   "source": [
    "executable_path = {'executable_path': ChromeDriverManager().install()}\n",
    "browser = Browser('chrome', **executable_path, headless=False)\n",
    "\n",
    "\n",
    "browser.visit(url)"
   ]
  },
  {
   "cell_type": "code",
   "execution_count": 5,
   "metadata": {},
   "outputs": [],
   "source": [
    "# Create BeautifulSoup object; parse with 'html.parser'\n",
    "soup = BeautifulSoup(browser.html, 'html.parser')"
   ]
  },
  {
   "cell_type": "code",
   "execution_count": 6,
   "metadata": {},
   "outputs": [],
   "source": [
    "#create price list\n",
    "#there are 3 pages of results.Hence,we loop 3 times.\n",
    "#price is inside span tag and has 'price' tag\n",
    "prices = []\n",
    "for x in range(1, 4):\n",
    "    \n",
    "    results = soup.find_all(\"span\", class_ = 'price')\n",
    "    \n",
    "    for price in results:\n",
    "        a = price.text\n",
    "        prices.append(a)\n",
    "        \n",
    "        #print(price.text)\n",
    "    \n",
    "    sleep(15)\n",
    "    browser.links.find_by_partial_text('Next')"
   ]
  },
  {
   "cell_type": "code",
   "execution_count": 7,
   "metadata": {},
   "outputs": [
    {
     "data": {
      "text/plain": [
       "138"
      ]
     },
     "execution_count": 7,
     "metadata": {},
     "output_type": "execute_result"
    }
   ],
   "source": [
    "#check number of items in the list\n",
    "len(prices)"
   ]
  },
  {
   "cell_type": "code",
   "execution_count": 8,
   "metadata": {},
   "outputs": [
    {
     "name": "stdout",
     "output_type": "stream",
     "text": [
      "$45\n",
      "\n",
      "$79                            \n",
      "\n",
      "$279                        \n",
      "$699\n",
      "$85\n",
      "$99.95\n",
      "\n",
      "$2995                        \n",
      "$1395\n",
      "$1495\n",
      "\n",
      "$1895                        \n",
      "\n",
      "$1595                        \n",
      "$2895\n",
      "\n",
      "$1295                        \n",
      "$2695\n",
      "$8995\n",
      "\n",
      "$5995                        \n",
      "$4795\n",
      "$5995\n",
      "$2995\n",
      "$4495\n",
      "$2995\n",
      "$2195\n",
      "$5495\n",
      "$3495\n",
      "$2295\n",
      "\n",
      "$3095                        \n",
      "\n",
      "$4295                        \n",
      "\n",
      "$7995                        \n",
      "$5495\n",
      "$7495\n",
      "$1895\n",
      "$2295\n",
      "$2695\n",
      "$4195\n",
      "$3995\n",
      "$5495\n",
      "\n",
      "$3995                        \n",
      "$3495\n",
      "\n",
      "$1995                        \n",
      "$1595\n",
      "$3995\n",
      "$1995\n",
      "$12995\n",
      "$7995\n",
      "$5995\n",
      "$12995\n",
      "$45\n",
      "\n",
      "$79                            \n",
      "\n",
      "$279                        \n",
      "$699\n",
      "$85\n",
      "$99.95\n",
      "\n",
      "$2995                        \n",
      "$1395\n",
      "$1495\n",
      "\n",
      "$1895                        \n",
      "\n",
      "$1595                        \n",
      "$2895\n",
      "\n",
      "$1295                        \n",
      "$2695\n",
      "$8995\n",
      "\n",
      "$5995                        \n",
      "$4795\n",
      "$5995\n",
      "$2995\n",
      "$4495\n",
      "$2995\n",
      "$2195\n",
      "$5495\n",
      "$3495\n",
      "$2295\n",
      "\n",
      "$3095                        \n",
      "\n",
      "$4295                        \n",
      "\n",
      "$7995                        \n",
      "$5495\n",
      "$7495\n",
      "$1895\n",
      "$2295\n",
      "$2695\n",
      "$4195\n",
      "$3995\n",
      "$5495\n",
      "\n",
      "$3995                        \n",
      "$3495\n",
      "\n",
      "$1995                        \n",
      "$1595\n",
      "$3995\n",
      "$1995\n",
      "$12995\n",
      "$7995\n",
      "$5995\n",
      "$12995\n",
      "$45\n",
      "\n",
      "$79                            \n",
      "\n",
      "$279                        \n",
      "$699\n",
      "$85\n",
      "$99.95\n",
      "\n",
      "$2995                        \n",
      "$1395\n",
      "$1495\n",
      "\n",
      "$1895                        \n",
      "\n",
      "$1595                        \n",
      "$2895\n",
      "\n",
      "$1295                        \n",
      "$2695\n",
      "$8995\n",
      "\n",
      "$5995                        \n",
      "$4795\n",
      "$5995\n",
      "$2995\n",
      "$4495\n",
      "$2995\n",
      "$2195\n",
      "$5495\n",
      "$3495\n",
      "$2295\n",
      "\n",
      "$3095                        \n",
      "\n",
      "$4295                        \n",
      "\n",
      "$7995                        \n",
      "$5495\n",
      "$7495\n",
      "$1895\n",
      "$2295\n",
      "$2695\n",
      "$4195\n",
      "$3995\n",
      "$5495\n",
      "\n",
      "$3995                        \n",
      "$3495\n",
      "\n",
      "$1995                        \n",
      "$1595\n",
      "$3995\n",
      "$1995\n",
      "$12995\n",
      "$7995\n",
      "$5995\n",
      "$12995\n"
     ]
    }
   ],
   "source": [
    "#print prices to check if correct item is scraped\n",
    "for i in range(len(prices)):\n",
    "    print(prices[i])"
   ]
  },
  {
   "cell_type": "code",
   "execution_count": 9,
   "metadata": {},
   "outputs": [],
   "source": [
    "#create a list of all TVs. Same logic as price list used.\n",
    "names = []\n",
    "for x in range(1, 4):\n",
    "    \n",
    "    results = soup.find_all(\"a\", class_ = 'name fn l_mgn-tb-sm l_dsp-blc')\n",
    "    #print(len(results))\n",
    "    for name in results:\n",
    "        a = name.text\n",
    "        names.append(a)\n",
    "        \n",
    "            \n",
    "    sleep(15)\n",
    "    browser.links.find_by_partial_text('Next')"
   ]
  },
  {
   "cell_type": "code",
   "execution_count": 10,
   "metadata": {},
   "outputs": [
    {
     "name": "stdout",
     "output_type": "stream",
     "text": [
      "Disposable 3-Ply Face Masks - 50 Pack\n",
      "JBL Reflect Contour 2 Wireless In-Ear Sport Headphones\n",
      "Revitive Advanced Circulation Booster\n",
      "Dyson Cinetic Big Ball Animal Vacuum Cleaner\n",
      "Beurer FWM 45 Massage Foot Warmer\n",
      "HoMedics Ellia Refresh Ultrasonic Aroma Diffuser - Ceramic Grey\n",
      "Sony 65-inch X95H 4K UHD LED LCD Smart TV\n",
      "Hisense 65-inch S8 4K LED LCD Smart TV\n",
      "LG 55-inch Nano80 4K NanoCell Ai ThinQ Smart TV\n",
      "Hisense 75-inch S8 4K LED LCD Smart TV\n",
      "TCL 65-inch C715 4K QLED Smart TV\n",
      "Samsung 75-inch Q60T 4K QLED Smart TV\n",
      "Sony 55-inch X80H 4K UHD LED LCD Smart TV\n",
      "Samsung 65-inch The Frame LS03T 4K QLED Smart TV\n",
      "Samsung 82-inch Q800T 8K QLED Smart TV\n",
      "Samsung 75-inch Q800T 8K QLED Smart TV\n",
      "Samsung 65-inch Q800T 8K QLED Smart TV\n",
      "Samsung 75-inch Q95T 4K QLED Smart TV\n",
      "Samsung 55-inch Q95T 4K QLED Smart TV\n",
      "Samsung 75-inch Q80T 4K QLED Smart TV\n",
      "Samsung 65-inch Q80T 4K QLED Smart TV\n",
      "Samsung 55-inch Q80T 4K QLED Smart TV\n",
      "Samsung 85-inch Q70T 4K QLED Smart TV\n",
      "Samsung 75-inch Q70T 4K QLED Smart TV\n",
      "Samsung 65-inch Q70T 4K QLED Smart TV\n",
      "LG 55-inch CX Cinema Series 4K UHD Self-lit OLED Smart TV Ai ThinQ\n",
      "LG 65-inch CX Cinema Series 4K UHD Self-lit OLED Smart TV Ai ThinQ\n",
      "LG 77-inch CX Cinema Series 4K UHD Self-lit OLED Smart TV Ai ThinQ\n",
      "LG 65-inch Nano99 8K NanoCell Ai ThinQ Smart TV\n",
      "LG 75-inch Nano99 8K NanoCell Ai ThinQ Smart TV\n",
      "LG 65-inch Nano80 4K NanoCell Ai ThinQ Smart TV\n",
      "LG 65-inch Nano86 4K NanoCell Ai ThinQ Smart TV\n",
      "LG 65-inch Nano91 4K NanoCell Ai ThinQ Smart TV\n",
      "LG 75-inch Nano91 4K NanoCell Ai ThinQ Smart TV\n",
      "LG 65-inch Nano95 8K NanoCell Ai ThinQ Smart TV\n",
      "LG 75-inch Nano95 8K NanoCell Ai ThinQ Smart TV\n",
      "Sony 75-inch X95H 4K UHD LED LCD Smart TV\n",
      "Hisense 75-inch Q8 4K ULED Smart TV\n",
      "Hisense 65-inch Q8 4K ULED Smart TV\n",
      "Hisense 55-inch Q8 4K ULED Smart TV\n",
      "Samsung 75-inch The Frame LS03T 4K QLED Smart TV\n",
      "Samsung 55-inch The Frame LS03T 4K QLED Smart TV\n",
      "Samsung 85-inch Q950T 8K QLED Smart TV\n",
      "Samsung 75-inch Q950T 8K QLED Smart TV\n",
      "Samsung 65-inch Q950T 8K QLED Smart TV\n",
      "TCL 100-inch P715 QUHD LED LCD Smart TV\n",
      "Disposable 3-Ply Face Masks - 50 Pack\n",
      "JBL Reflect Contour 2 Wireless In-Ear Sport Headphones\n",
      "Revitive Advanced Circulation Booster\n",
      "Dyson Cinetic Big Ball Animal Vacuum Cleaner\n",
      "Beurer FWM 45 Massage Foot Warmer\n",
      "HoMedics Ellia Refresh Ultrasonic Aroma Diffuser - Ceramic Grey\n",
      "Sony 65-inch X95H 4K UHD LED LCD Smart TV\n",
      "Hisense 65-inch S8 4K LED LCD Smart TV\n",
      "LG 55-inch Nano80 4K NanoCell Ai ThinQ Smart TV\n",
      "Hisense 75-inch S8 4K LED LCD Smart TV\n",
      "TCL 65-inch C715 4K QLED Smart TV\n",
      "Samsung 75-inch Q60T 4K QLED Smart TV\n",
      "Sony 55-inch X80H 4K UHD LED LCD Smart TV\n",
      "Samsung 65-inch The Frame LS03T 4K QLED Smart TV\n",
      "Samsung 82-inch Q800T 8K QLED Smart TV\n",
      "Samsung 75-inch Q800T 8K QLED Smart TV\n",
      "Samsung 65-inch Q800T 8K QLED Smart TV\n",
      "Samsung 75-inch Q95T 4K QLED Smart TV\n",
      "Samsung 55-inch Q95T 4K QLED Smart TV\n",
      "Samsung 75-inch Q80T 4K QLED Smart TV\n",
      "Samsung 65-inch Q80T 4K QLED Smart TV\n",
      "Samsung 55-inch Q80T 4K QLED Smart TV\n",
      "Samsung 85-inch Q70T 4K QLED Smart TV\n",
      "Samsung 75-inch Q70T 4K QLED Smart TV\n",
      "Samsung 65-inch Q70T 4K QLED Smart TV\n",
      "LG 55-inch CX Cinema Series 4K UHD Self-lit OLED Smart TV Ai ThinQ\n",
      "LG 65-inch CX Cinema Series 4K UHD Self-lit OLED Smart TV Ai ThinQ\n",
      "LG 77-inch CX Cinema Series 4K UHD Self-lit OLED Smart TV Ai ThinQ\n",
      "LG 65-inch Nano99 8K NanoCell Ai ThinQ Smart TV\n",
      "LG 75-inch Nano99 8K NanoCell Ai ThinQ Smart TV\n",
      "LG 65-inch Nano80 4K NanoCell Ai ThinQ Smart TV\n",
      "LG 65-inch Nano86 4K NanoCell Ai ThinQ Smart TV\n",
      "LG 65-inch Nano91 4K NanoCell Ai ThinQ Smart TV\n",
      "LG 75-inch Nano91 4K NanoCell Ai ThinQ Smart TV\n",
      "LG 65-inch Nano95 8K NanoCell Ai ThinQ Smart TV\n",
      "LG 75-inch Nano95 8K NanoCell Ai ThinQ Smart TV\n",
      "Sony 75-inch X95H 4K UHD LED LCD Smart TV\n",
      "Hisense 75-inch Q8 4K ULED Smart TV\n",
      "Hisense 65-inch Q8 4K ULED Smart TV\n",
      "Hisense 55-inch Q8 4K ULED Smart TV\n",
      "Samsung 75-inch The Frame LS03T 4K QLED Smart TV\n",
      "Samsung 55-inch The Frame LS03T 4K QLED Smart TV\n",
      "Samsung 85-inch Q950T 8K QLED Smart TV\n",
      "Samsung 75-inch Q950T 8K QLED Smart TV\n",
      "Samsung 65-inch Q950T 8K QLED Smart TV\n",
      "TCL 100-inch P715 QUHD LED LCD Smart TV\n",
      "Disposable 3-Ply Face Masks - 50 Pack\n",
      "JBL Reflect Contour 2 Wireless In-Ear Sport Headphones\n",
      "Revitive Advanced Circulation Booster\n",
      "Dyson Cinetic Big Ball Animal Vacuum Cleaner\n",
      "Beurer FWM 45 Massage Foot Warmer\n",
      "HoMedics Ellia Refresh Ultrasonic Aroma Diffuser - Ceramic Grey\n",
      "Sony 65-inch X95H 4K UHD LED LCD Smart TV\n",
      "Hisense 65-inch S8 4K LED LCD Smart TV\n",
      "LG 55-inch Nano80 4K NanoCell Ai ThinQ Smart TV\n",
      "Hisense 75-inch S8 4K LED LCD Smart TV\n",
      "TCL 65-inch C715 4K QLED Smart TV\n",
      "Samsung 75-inch Q60T 4K QLED Smart TV\n",
      "Sony 55-inch X80H 4K UHD LED LCD Smart TV\n",
      "Samsung 65-inch The Frame LS03T 4K QLED Smart TV\n",
      "Samsung 82-inch Q800T 8K QLED Smart TV\n",
      "Samsung 75-inch Q800T 8K QLED Smart TV\n",
      "Samsung 65-inch Q800T 8K QLED Smart TV\n",
      "Samsung 75-inch Q95T 4K QLED Smart TV\n",
      "Samsung 55-inch Q95T 4K QLED Smart TV\n",
      "Samsung 75-inch Q80T 4K QLED Smart TV\n",
      "Samsung 65-inch Q80T 4K QLED Smart TV\n",
      "Samsung 55-inch Q80T 4K QLED Smart TV\n",
      "Samsung 85-inch Q70T 4K QLED Smart TV\n",
      "Samsung 75-inch Q70T 4K QLED Smart TV\n",
      "Samsung 65-inch Q70T 4K QLED Smart TV\n",
      "LG 55-inch CX Cinema Series 4K UHD Self-lit OLED Smart TV Ai ThinQ\n",
      "LG 65-inch CX Cinema Series 4K UHD Self-lit OLED Smart TV Ai ThinQ\n",
      "LG 77-inch CX Cinema Series 4K UHD Self-lit OLED Smart TV Ai ThinQ\n",
      "LG 65-inch Nano99 8K NanoCell Ai ThinQ Smart TV\n",
      "LG 75-inch Nano99 8K NanoCell Ai ThinQ Smart TV\n",
      "LG 65-inch Nano80 4K NanoCell Ai ThinQ Smart TV\n",
      "LG 65-inch Nano86 4K NanoCell Ai ThinQ Smart TV\n",
      "LG 65-inch Nano91 4K NanoCell Ai ThinQ Smart TV\n",
      "LG 75-inch Nano91 4K NanoCell Ai ThinQ Smart TV\n",
      "LG 65-inch Nano95 8K NanoCell Ai ThinQ Smart TV\n",
      "LG 75-inch Nano95 8K NanoCell Ai ThinQ Smart TV\n",
      "Sony 75-inch X95H 4K UHD LED LCD Smart TV\n",
      "Hisense 75-inch Q8 4K ULED Smart TV\n",
      "Hisense 65-inch Q8 4K ULED Smart TV\n",
      "Hisense 55-inch Q8 4K ULED Smart TV\n",
      "Samsung 75-inch The Frame LS03T 4K QLED Smart TV\n",
      "Samsung 55-inch The Frame LS03T 4K QLED Smart TV\n",
      "Samsung 85-inch Q950T 8K QLED Smart TV\n",
      "Samsung 75-inch Q950T 8K QLED Smart TV\n",
      "Samsung 65-inch Q950T 8K QLED Smart TV\n",
      "TCL 100-inch P715 QUHD LED LCD Smart TV\n"
     ]
    }
   ],
   "source": [
    "#check names of TVs\n",
    "for i in range(len(names)):\n",
    "    print(names[i])\n",
    "\n"
   ]
  },
  {
   "cell_type": "code",
   "execution_count": 11,
   "metadata": {},
   "outputs": [
    {
     "data": {
      "text/plain": [
       "138"
      ]
     },
     "execution_count": 11,
     "metadata": {},
     "output_type": "execute_result"
    }
   ],
   "source": [
    "#check number of items in names list\n",
    "len(names)"
   ]
  },
  {
   "cell_type": "markdown",
   "metadata": {},
   "source": [
    "Although there are same number of elements in price and names list, we see that there are extra items in the names list. \n",
    "Lets create a dataframe with names and prices as 2 columns. Then, remove all rows that are not TV. Then, we will split the \n",
    "names column to extract model, brand and screen size."
   ]
  },
  {
   "cell_type": "code",
   "execution_count": 12,
   "metadata": {},
   "outputs": [],
   "source": [
    "# create a list of image links\n",
    "images = []\n",
    "for x in range(1, 4):\n",
    "    \n",
    "    results = soup.find_all(\"img\", class_ = 'photo photo-category lazy')\n",
    "    for image in results:\n",
    "        a = image.get(\"src\")\n",
    "        images.append(a)\n",
    "        \n",
    "    \n",
    "    \n",
    "    sleep(15)\n",
    "    browser.links.find_by_partial_text('Next')"
   ]
  },
  {
   "cell_type": "code",
   "execution_count": 13,
   "metadata": {},
   "outputs": [
    {
     "data": {
      "text/plain": [
       "120"
      ]
     },
     "execution_count": 13,
     "metadata": {},
     "output_type": "execute_result"
    }
   ],
   "source": [
    "len(images)"
   ]
  },
  {
   "cell_type": "markdown",
   "metadata": {},
   "source": []
  },
  {
   "cell_type": "code",
   "execution_count": 14,
   "metadata": {},
   "outputs": [],
   "source": [
    "#extracting model names"
   ]
  },
  {
   "cell_type": "code",
   "execution_count": 15,
   "metadata": {},
   "outputs": [],
   "source": [
    "#create link list\n",
    "#inspired from https://stackoverflow.com/questions/8616928/python-getting-all-links-from-a-div-having-a-class\n",
    "\n",
    "link_list = []\n",
    "for x in range(1, 4):\n",
    "    \n",
    "    data = soup.find_all('div', attrs = {'class': 'info'})\n",
    "    for div in data:\n",
    "        links = div.find_all('a')\n",
    "        for a in links:\n",
    "            z = a['href']\n",
    "            link_list.append(z)\n",
    "    sleep(1)\n",
    "    browser.links.find_by_partial_text('Next')"
   ]
  },
  {
   "cell_type": "code",
   "execution_count": 16,
   "metadata": {},
   "outputs": [
    {
     "data": {
      "text/plain": [
       "138"
      ]
     },
     "execution_count": 16,
     "metadata": {},
     "output_type": "execute_result"
    }
   ],
   "source": [
    "len(link_list)"
   ]
  },
  {
   "cell_type": "code",
   "execution_count": 17,
   "metadata": {},
   "outputs": [],
   "source": [
    "#link_list"
   ]
  },
  {
   "cell_type": "code",
   "execution_count": 18,
   "metadata": {},
   "outputs": [
    {
     "name": "stderr",
     "output_type": "stream",
     "text": [
      "[WDM] - Current google-chrome version is 84.0.4147\n",
      "[WDM] - Get LATEST driver version for 84.0.4147\n",
      "[WDM] - Driver [C:\\Users\\racha\\.wdm\\drivers\\chromedriver\\win32\\84.0.4147.30\\chromedriver.exe] found in cache\n"
     ]
    },
    {
     "name": "stdout",
     "output_type": "stream",
     "text": [
      " \n",
      "<small class=\"product-id meta quiet p_txt-sm\">10001325</small>\n"
     ]
    },
    {
     "name": "stderr",
     "output_type": "stream",
     "text": [
      "[WDM] - Current google-chrome version is 84.0.4147\n",
      "[WDM] - Get LATEST driver version for 84.0.4147\n",
      "[WDM] - Driver [C:\\Users\\racha\\.wdm\\drivers\\chromedriver\\win32\\84.0.4147.30\\chromedriver.exe] found in cache\n"
     ]
    },
    {
     "name": "stdout",
     "output_type": "stream",
     "text": [
      " \n",
      "None\n"
     ]
    },
    {
     "name": "stderr",
     "output_type": "stream",
     "text": [
      "[WDM] - Current google-chrome version is 84.0.4147\n",
      "[WDM] - Get LATEST driver version for 84.0.4147\n",
      "[WDM] - Driver [C:\\Users\\racha\\.wdm\\drivers\\chromedriver\\win32\\84.0.4147.30\\chromedriver.exe] found in cache\n"
     ]
    },
    {
     "name": "stdout",
     "output_type": "stream",
     "text": [
      " \n",
      "<small class=\"product-id meta quiet p_txt-sm\">REVADVANCED</small>\n"
     ]
    },
    {
     "name": "stderr",
     "output_type": "stream",
     "text": [
      "[WDM] - Current google-chrome version is 84.0.4147\n",
      "[WDM] - Get LATEST driver version for 84.0.4147\n",
      "[WDM] - Driver [C:\\Users\\racha\\.wdm\\drivers\\chromedriver\\win32\\84.0.4147.30\\chromedriver.exe] found in cache\n"
     ]
    },
    {
     "name": "stdout",
     "output_type": "stream",
     "text": [
      " \n",
      "<small class=\"product-id meta quiet p_txt-sm\">BBANIMAL</small>\n"
     ]
    },
    {
     "name": "stderr",
     "output_type": "stream",
     "text": [
      "[WDM] - Current google-chrome version is 84.0.4147\n",
      "[WDM] - Get LATEST driver version for 84.0.4147\n",
      "[WDM] - Driver [C:\\Users\\racha\\.wdm\\drivers\\chromedriver\\win32\\84.0.4147.30\\chromedriver.exe] found in cache\n"
     ]
    },
    {
     "name": "stdout",
     "output_type": "stream",
     "text": [
      " \n",
      "<small class=\"product-id meta quiet p_txt-sm\">FWM45</small>\n"
     ]
    },
    {
     "name": "stderr",
     "output_type": "stream",
     "text": [
      "[WDM] - Current google-chrome version is 84.0.4147\n",
      "[WDM] - Get LATEST driver version for 84.0.4147\n",
      "[WDM] - Driver [C:\\Users\\racha\\.wdm\\drivers\\chromedriver\\win32\\84.0.4147.30\\chromedriver.exe] found in cache\n"
     ]
    },
    {
     "name": "stdout",
     "output_type": "stream",
     "text": [
      " \n",
      "<small class=\"product-id meta quiet p_txt-sm\">ARM-560CDA-AU</small>\n"
     ]
    },
    {
     "name": "stderr",
     "output_type": "stream",
     "text": [
      "[WDM] - Current google-chrome version is 84.0.4147\n",
      "[WDM] - Get LATEST driver version for 84.0.4147\n",
      "[WDM] - Driver [C:\\Users\\racha\\.wdm\\drivers\\chromedriver\\win32\\84.0.4147.30\\chromedriver.exe] found in cache\n"
     ]
    },
    {
     "name": "stdout",
     "output_type": "stream",
     "text": [
      " \n",
      "<small class=\"product-id meta quiet p_txt-sm\">KD65X9500H</small>\n"
     ]
    },
    {
     "name": "stderr",
     "output_type": "stream",
     "text": [
      "[WDM] - Current google-chrome version is 84.0.4147\n",
      "[WDM] - Get LATEST driver version for 84.0.4147\n",
      "[WDM] - Driver [C:\\Users\\racha\\.wdm\\drivers\\chromedriver\\win32\\84.0.4147.30\\chromedriver.exe] found in cache\n"
     ]
    },
    {
     "name": "stdout",
     "output_type": "stream",
     "text": [
      " \n",
      "<small class=\"product-id meta quiet p_txt-sm\">65S8</small>\n"
     ]
    },
    {
     "name": "stderr",
     "output_type": "stream",
     "text": [
      "[WDM] - Current google-chrome version is 84.0.4147\n",
      "[WDM] - Get LATEST driver version for 84.0.4147\n",
      "[WDM] - Driver [C:\\Users\\racha\\.wdm\\drivers\\chromedriver\\win32\\84.0.4147.30\\chromedriver.exe] found in cache\n"
     ]
    },
    {
     "name": "stdout",
     "output_type": "stream",
     "text": [
      " \n",
      "<small class=\"product-id meta quiet p_txt-sm\">55NANO80TNA</small>\n"
     ]
    },
    {
     "name": "stderr",
     "output_type": "stream",
     "text": [
      "[WDM] - Current google-chrome version is 84.0.4147\n",
      "[WDM] - Get LATEST driver version for 84.0.4147\n",
      "[WDM] - Driver [C:\\Users\\racha\\.wdm\\drivers\\chromedriver\\win32\\84.0.4147.30\\chromedriver.exe] found in cache\n"
     ]
    },
    {
     "name": "stdout",
     "output_type": "stream",
     "text": [
      " \n",
      "<small class=\"product-id meta quiet p_txt-sm\">75S8</small>\n"
     ]
    },
    {
     "name": "stderr",
     "output_type": "stream",
     "text": [
      "[WDM] - Current google-chrome version is 84.0.4147\n",
      "[WDM] - Get LATEST driver version for 84.0.4147\n",
      "[WDM] - Driver [C:\\Users\\racha\\.wdm\\drivers\\chromedriver\\win32\\84.0.4147.30\\chromedriver.exe] found in cache\n"
     ]
    },
    {
     "name": "stdout",
     "output_type": "stream",
     "text": [
      " \n",
      "<small class=\"product-id meta quiet p_txt-sm\">65C715</small>\n"
     ]
    },
    {
     "name": "stderr",
     "output_type": "stream",
     "text": [
      "[WDM] - Current google-chrome version is 84.0.4147\n",
      "[WDM] - Get LATEST driver version for 84.0.4147\n",
      "[WDM] - Driver [C:\\Users\\racha\\.wdm\\drivers\\chromedriver\\win32\\84.0.4147.30\\chromedriver.exe] found in cache\n"
     ]
    },
    {
     "name": "stdout",
     "output_type": "stream",
     "text": [
      " \n",
      "<small class=\"product-id meta quiet p_txt-sm\">QA75Q60TAWXXY</small>\n"
     ]
    },
    {
     "name": "stderr",
     "output_type": "stream",
     "text": [
      "[WDM] - Current google-chrome version is 84.0.4147\n",
      "[WDM] - Get LATEST driver version for 84.0.4147\n",
      "[WDM] - Driver [C:\\Users\\racha\\.wdm\\drivers\\chromedriver\\win32\\84.0.4147.30\\chromedriver.exe] found in cache\n"
     ]
    },
    {
     "name": "stdout",
     "output_type": "stream",
     "text": [
      " \n",
      "<small class=\"product-id meta quiet p_txt-sm\">KD55X8000H</small>\n"
     ]
    },
    {
     "name": "stderr",
     "output_type": "stream",
     "text": [
      "[WDM] - Current google-chrome version is 84.0.4147\n",
      "[WDM] - Get LATEST driver version for 84.0.4147\n"
     ]
    },
    {
     "name": "stdout",
     "output_type": "stream",
     "text": [
      " \n"
     ]
    },
    {
     "name": "stderr",
     "output_type": "stream",
     "text": [
      "[WDM] - Driver [C:\\Users\\racha\\.wdm\\drivers\\chromedriver\\win32\\84.0.4147.30\\chromedriver.exe] found in cache\n"
     ]
    },
    {
     "name": "stdout",
     "output_type": "stream",
     "text": [
      "<small class=\"product-id meta quiet p_txt-sm\">QA65LS03TAWXXY</small>\n"
     ]
    },
    {
     "name": "stderr",
     "output_type": "stream",
     "text": [
      "[WDM] - Current google-chrome version is 84.0.4147\n",
      "[WDM] - Get LATEST driver version for 84.0.4147\n",
      "[WDM] - Driver [C:\\Users\\racha\\.wdm\\drivers\\chromedriver\\win32\\84.0.4147.30\\chromedriver.exe] found in cache\n"
     ]
    },
    {
     "name": "stdout",
     "output_type": "stream",
     "text": [
      " \n",
      "<small class=\"product-id meta quiet p_txt-sm\">QA82Q800TAWXXY</small>\n"
     ]
    },
    {
     "name": "stderr",
     "output_type": "stream",
     "text": [
      "[WDM] - Current google-chrome version is 84.0.4147\n",
      "[WDM] - Get LATEST driver version for 84.0.4147\n",
      "[WDM] - Driver [C:\\Users\\racha\\.wdm\\drivers\\chromedriver\\win32\\84.0.4147.30\\chromedriver.exe] found in cache\n"
     ]
    },
    {
     "name": "stdout",
     "output_type": "stream",
     "text": [
      " \n",
      "<small class=\"product-id meta quiet p_txt-sm\">QA75Q800TAWXXY</small>\n"
     ]
    },
    {
     "name": "stderr",
     "output_type": "stream",
     "text": [
      "[WDM] - Current google-chrome version is 84.0.4147\n",
      "[WDM] - Get LATEST driver version for 84.0.4147\n",
      "[WDM] - Driver [C:\\Users\\racha\\.wdm\\drivers\\chromedriver\\win32\\84.0.4147.30\\chromedriver.exe] found in cache\n"
     ]
    },
    {
     "name": "stdout",
     "output_type": "stream",
     "text": [
      " \n",
      "<small class=\"product-id meta quiet p_txt-sm\">QA65Q800TAWXXY</small>\n"
     ]
    },
    {
     "name": "stderr",
     "output_type": "stream",
     "text": [
      "[WDM] - Current google-chrome version is 84.0.4147\n",
      "[WDM] - Get LATEST driver version for 84.0.4147\n",
      "[WDM] - Driver [C:\\Users\\racha\\.wdm\\drivers\\chromedriver\\win32\\84.0.4147.30\\chromedriver.exe] found in cache\n"
     ]
    },
    {
     "name": "stdout",
     "output_type": "stream",
     "text": [
      " \n",
      "<small class=\"product-id meta quiet p_txt-sm\">QA75Q95TAWXXY</small>\n"
     ]
    },
    {
     "name": "stderr",
     "output_type": "stream",
     "text": [
      "[WDM] - Current google-chrome version is 84.0.4147\n",
      "[WDM] - Get LATEST driver version for 84.0.4147\n",
      "[WDM] - Driver [C:\\Users\\racha\\.wdm\\drivers\\chromedriver\\win32\\84.0.4147.30\\chromedriver.exe] found in cache\n"
     ]
    },
    {
     "name": "stdout",
     "output_type": "stream",
     "text": [
      " \n",
      "<small class=\"product-id meta quiet p_txt-sm\">QA55Q95TAWXXY</small>\n"
     ]
    },
    {
     "name": "stderr",
     "output_type": "stream",
     "text": [
      "[WDM] - Current google-chrome version is 84.0.4147\n",
      "[WDM] - Get LATEST driver version for 84.0.4147\n",
      "[WDM] - Driver [C:\\Users\\racha\\.wdm\\drivers\\chromedriver\\win32\\84.0.4147.30\\chromedriver.exe] found in cache\n"
     ]
    },
    {
     "name": "stdout",
     "output_type": "stream",
     "text": [
      " \n",
      "<small class=\"product-id meta quiet p_txt-sm\">QA75Q80TAWXXY</small>\n"
     ]
    },
    {
     "name": "stderr",
     "output_type": "stream",
     "text": [
      "[WDM] - Current google-chrome version is 84.0.4147\n",
      "[WDM] - Get LATEST driver version for 84.0.4147\n",
      "[WDM] - Driver [C:\\Users\\racha\\.wdm\\drivers\\chromedriver\\win32\\84.0.4147.30\\chromedriver.exe] found in cache\n"
     ]
    },
    {
     "name": "stdout",
     "output_type": "stream",
     "text": [
      " \n",
      "<small class=\"product-id meta quiet p_txt-sm\">QA65Q80TAWXXY</small>\n"
     ]
    },
    {
     "name": "stderr",
     "output_type": "stream",
     "text": [
      "[WDM] - Current google-chrome version is 84.0.4147\n",
      "[WDM] - Get LATEST driver version for 84.0.4147\n",
      "[WDM] - Driver [C:\\Users\\racha\\.wdm\\drivers\\chromedriver\\win32\\84.0.4147.30\\chromedriver.exe] found in cache\n"
     ]
    },
    {
     "name": "stdout",
     "output_type": "stream",
     "text": [
      " \n",
      "<small class=\"product-id meta quiet p_txt-sm\">QA55Q80TAWXXY</small>\n"
     ]
    },
    {
     "name": "stderr",
     "output_type": "stream",
     "text": [
      "[WDM] - Current google-chrome version is 84.0.4147\n",
      "[WDM] - Get LATEST driver version for 84.0.4147\n",
      "[WDM] - Driver [C:\\Users\\racha\\.wdm\\drivers\\chromedriver\\win32\\84.0.4147.30\\chromedriver.exe] found in cache\n"
     ]
    },
    {
     "name": "stdout",
     "output_type": "stream",
     "text": [
      " \n",
      "<small class=\"product-id meta quiet p_txt-sm\">QA85Q70TAWXXY</small>\n"
     ]
    },
    {
     "name": "stderr",
     "output_type": "stream",
     "text": [
      "[WDM] - Current google-chrome version is 84.0.4147\n",
      "[WDM] - Get LATEST driver version for 84.0.4147\n",
      "[WDM] - Driver [C:\\Users\\racha\\.wdm\\drivers\\chromedriver\\win32\\84.0.4147.30\\chromedriver.exe] found in cache\n"
     ]
    },
    {
     "name": "stdout",
     "output_type": "stream",
     "text": [
      " \n",
      "<small class=\"product-id meta quiet p_txt-sm\">QA75Q70TAWXXY</small>\n"
     ]
    },
    {
     "name": "stderr",
     "output_type": "stream",
     "text": [
      "[WDM] - Current google-chrome version is 84.0.4147\n",
      "[WDM] - Get LATEST driver version for 84.0.4147\n",
      "[WDM] - Driver [C:\\Users\\racha\\.wdm\\drivers\\chromedriver\\win32\\84.0.4147.30\\chromedriver.exe] found in cache\n"
     ]
    },
    {
     "name": "stdout",
     "output_type": "stream",
     "text": [
      " \n",
      "<small class=\"product-id meta quiet p_txt-sm\">QA65Q70TAWXXY</small>\n"
     ]
    },
    {
     "name": "stderr",
     "output_type": "stream",
     "text": [
      "[WDM] - Current google-chrome version is 84.0.4147\n",
      "[WDM] - Get LATEST driver version for 84.0.4147\n",
      "[WDM] - Driver [C:\\Users\\racha\\.wdm\\drivers\\chromedriver\\win32\\84.0.4147.30\\chromedriver.exe] found in cache\n"
     ]
    },
    {
     "name": "stdout",
     "output_type": "stream",
     "text": [
      " \n",
      "<small class=\"product-id meta quiet p_txt-sm\">OLED55CXPTA</small>\n"
     ]
    },
    {
     "name": "stderr",
     "output_type": "stream",
     "text": [
      "[WDM] - Current google-chrome version is 84.0.4147\n",
      "[WDM] - Get LATEST driver version for 84.0.4147\n",
      "[WDM] - Driver [C:\\Users\\racha\\.wdm\\drivers\\chromedriver\\win32\\84.0.4147.30\\chromedriver.exe] found in cache\n"
     ]
    },
    {
     "name": "stdout",
     "output_type": "stream",
     "text": [
      " \n",
      "<small class=\"product-id meta quiet p_txt-sm\">OLED65CXPTA</small>\n"
     ]
    },
    {
     "name": "stderr",
     "output_type": "stream",
     "text": [
      "[WDM] - Current google-chrome version is 84.0.4147\n",
      "[WDM] - Get LATEST driver version for 84.0.4147\n",
      "[WDM] - Driver [C:\\Users\\racha\\.wdm\\drivers\\chromedriver\\win32\\84.0.4147.30\\chromedriver.exe] found in cache\n"
     ]
    },
    {
     "name": "stdout",
     "output_type": "stream",
     "text": [
      " \n",
      "<small class=\"product-id meta quiet p_txt-sm\">OLED77CXPTA</small>\n"
     ]
    },
    {
     "name": "stderr",
     "output_type": "stream",
     "text": [
      "[WDM] - Current google-chrome version is 84.0.4147\n",
      "[WDM] - Get LATEST driver version for 84.0.4147\n",
      "[WDM] - Driver [C:\\Users\\racha\\.wdm\\drivers\\chromedriver\\win32\\84.0.4147.30\\chromedriver.exe] found in cache\n"
     ]
    },
    {
     "name": "stdout",
     "output_type": "stream",
     "text": [
      " \n",
      "<small class=\"product-id meta quiet p_txt-sm\">65NANO99TNA</small>\n"
     ]
    },
    {
     "name": "stderr",
     "output_type": "stream",
     "text": [
      "[WDM] - Current google-chrome version is 84.0.4147\n",
      "[WDM] - Get LATEST driver version for 84.0.4147\n",
      "[WDM] - Driver [C:\\Users\\racha\\.wdm\\drivers\\chromedriver\\win32\\84.0.4147.30\\chromedriver.exe] found in cache\n"
     ]
    },
    {
     "name": "stdout",
     "output_type": "stream",
     "text": [
      " \n",
      "<small class=\"product-id meta quiet p_txt-sm\">75NANO99TNA</small>\n"
     ]
    },
    {
     "name": "stderr",
     "output_type": "stream",
     "text": [
      "[WDM] - Current google-chrome version is 84.0.4147\n",
      "[WDM] - Get LATEST driver version for 84.0.4147\n",
      "[WDM] - Driver [C:\\Users\\racha\\.wdm\\drivers\\chromedriver\\win32\\84.0.4147.30\\chromedriver.exe] found in cache\n"
     ]
    },
    {
     "name": "stdout",
     "output_type": "stream",
     "text": [
      " \n",
      "<small class=\"product-id meta quiet p_txt-sm\">65NANO80TNA</small>\n"
     ]
    },
    {
     "name": "stderr",
     "output_type": "stream",
     "text": [
      "[WDM] - Current google-chrome version is 84.0.4147\n",
      "[WDM] - Get LATEST driver version for 84.0.4147\n",
      "[WDM] - Driver [C:\\Users\\racha\\.wdm\\drivers\\chromedriver\\win32\\84.0.4147.30\\chromedriver.exe] found in cache\n"
     ]
    },
    {
     "name": "stdout",
     "output_type": "stream",
     "text": [
      " \n",
      "<small class=\"product-id meta quiet p_txt-sm\">65NANO86TNA</small>\n"
     ]
    },
    {
     "name": "stderr",
     "output_type": "stream",
     "text": [
      "[WDM] - Current google-chrome version is 84.0.4147\n",
      "[WDM] - Get LATEST driver version for 84.0.4147\n",
      "[WDM] - Driver [C:\\Users\\racha\\.wdm\\drivers\\chromedriver\\win32\\84.0.4147.30\\chromedriver.exe] found in cache\n"
     ]
    },
    {
     "name": "stdout",
     "output_type": "stream",
     "text": [
      " \n",
      "<small class=\"product-id meta quiet p_txt-sm\">65NANO91TNA</small>\n"
     ]
    },
    {
     "name": "stderr",
     "output_type": "stream",
     "text": [
      "[WDM] - Current google-chrome version is 84.0.4147\n",
      "[WDM] - Get LATEST driver version for 84.0.4147\n",
      "[WDM] - Driver [C:\\Users\\racha\\.wdm\\drivers\\chromedriver\\win32\\84.0.4147.30\\chromedriver.exe] found in cache\n"
     ]
    },
    {
     "name": "stdout",
     "output_type": "stream",
     "text": [
      " \n",
      "<small class=\"product-id meta quiet p_txt-sm\">75NANO91TNA</small>\n"
     ]
    },
    {
     "name": "stderr",
     "output_type": "stream",
     "text": [
      "[WDM] - Current google-chrome version is 84.0.4147\n",
      "[WDM] - Get LATEST driver version for 84.0.4147\n"
     ]
    },
    {
     "name": "stdout",
     "output_type": "stream",
     "text": [
      " \n"
     ]
    },
    {
     "name": "stderr",
     "output_type": "stream",
     "text": [
      "[WDM] - Driver [C:\\Users\\racha\\.wdm\\drivers\\chromedriver\\win32\\84.0.4147.30\\chromedriver.exe] found in cache\n"
     ]
    },
    {
     "name": "stdout",
     "output_type": "stream",
     "text": [
      "<small class=\"product-id meta quiet p_txt-sm\">65NANO95TNA</small>\n"
     ]
    },
    {
     "name": "stderr",
     "output_type": "stream",
     "text": [
      "[WDM] - Current google-chrome version is 84.0.4147\n",
      "[WDM] - Get LATEST driver version for 84.0.4147\n",
      "[WDM] - Driver [C:\\Users\\racha\\.wdm\\drivers\\chromedriver\\win32\\84.0.4147.30\\chromedriver.exe] found in cache\n"
     ]
    },
    {
     "name": "stdout",
     "output_type": "stream",
     "text": [
      " \n",
      "<small class=\"product-id meta quiet p_txt-sm\">75NANO95TNA</small>\n"
     ]
    },
    {
     "name": "stderr",
     "output_type": "stream",
     "text": [
      "[WDM] - Current google-chrome version is 84.0.4147\n",
      "[WDM] - Get LATEST driver version for 84.0.4147\n",
      "[WDM] - Driver [C:\\Users\\racha\\.wdm\\drivers\\chromedriver\\win32\\84.0.4147.30\\chromedriver.exe] found in cache\n"
     ]
    },
    {
     "name": "stdout",
     "output_type": "stream",
     "text": [
      " \n",
      "<small class=\"product-id meta quiet p_txt-sm\">KD75X9500H</small>\n"
     ]
    },
    {
     "name": "stderr",
     "output_type": "stream",
     "text": [
      "[WDM] - Current google-chrome version is 84.0.4147\n",
      "[WDM] - Get LATEST driver version for 84.0.4147\n",
      "[WDM] - Driver [C:\\Users\\racha\\.wdm\\drivers\\chromedriver\\win32\\84.0.4147.30\\chromedriver.exe] found in cache\n"
     ]
    },
    {
     "name": "stdout",
     "output_type": "stream",
     "text": [
      " \n",
      "<small class=\"product-id meta quiet p_txt-sm\">75Q8</small>\n"
     ]
    },
    {
     "name": "stderr",
     "output_type": "stream",
     "text": [
      "[WDM] - Current google-chrome version is 84.0.4147\n",
      "[WDM] - Get LATEST driver version for 84.0.4147\n",
      "[WDM] - Driver [C:\\Users\\racha\\.wdm\\drivers\\chromedriver\\win32\\84.0.4147.30\\chromedriver.exe] found in cache\n"
     ]
    },
    {
     "name": "stdout",
     "output_type": "stream",
     "text": [
      " \n",
      "<small class=\"product-id meta quiet p_txt-sm\">65Q8</small>\n"
     ]
    },
    {
     "name": "stderr",
     "output_type": "stream",
     "text": [
      "[WDM] - Current google-chrome version is 84.0.4147\n",
      "[WDM] - Get LATEST driver version for 84.0.4147\n",
      "[WDM] - Driver [C:\\Users\\racha\\.wdm\\drivers\\chromedriver\\win32\\84.0.4147.30\\chromedriver.exe] found in cache\n"
     ]
    },
    {
     "name": "stdout",
     "output_type": "stream",
     "text": [
      " \n",
      "<small class=\"product-id meta quiet p_txt-sm\">55Q8</small>\n"
     ]
    },
    {
     "name": "stderr",
     "output_type": "stream",
     "text": [
      "[WDM] - Current google-chrome version is 84.0.4147\n",
      "[WDM] - Get LATEST driver version for 84.0.4147\n",
      "[WDM] - Driver [C:\\Users\\racha\\.wdm\\drivers\\chromedriver\\win32\\84.0.4147.30\\chromedriver.exe] found in cache\n"
     ]
    },
    {
     "name": "stdout",
     "output_type": "stream",
     "text": [
      " \n",
      "<small class=\"product-id meta quiet p_txt-sm\">QA75LS03TAWXXY</small>\n"
     ]
    },
    {
     "name": "stderr",
     "output_type": "stream",
     "text": [
      "[WDM] - Current google-chrome version is 84.0.4147\n",
      "[WDM] - Get LATEST driver version for 84.0.4147\n",
      "[WDM] - Driver [C:\\Users\\racha\\.wdm\\drivers\\chromedriver\\win32\\84.0.4147.30\\chromedriver.exe] found in cache\n"
     ]
    },
    {
     "name": "stdout",
     "output_type": "stream",
     "text": [
      " \n",
      "<small class=\"product-id meta quiet p_txt-sm\">QA55LS03TAWXXY</small>\n"
     ]
    },
    {
     "name": "stderr",
     "output_type": "stream",
     "text": [
      "[WDM] - Current google-chrome version is 84.0.4147\n",
      "[WDM] - Get LATEST driver version for 84.0.4147\n",
      "[WDM] - Driver [C:\\Users\\racha\\.wdm\\drivers\\chromedriver\\win32\\84.0.4147.30\\chromedriver.exe] found in cache\n"
     ]
    },
    {
     "name": "stdout",
     "output_type": "stream",
     "text": [
      " \n",
      "<small class=\"product-id meta quiet p_txt-sm\">QA85Q950TSWXXY</small>\n"
     ]
    },
    {
     "name": "stderr",
     "output_type": "stream",
     "text": [
      "[WDM] - Current google-chrome version is 84.0.4147\n",
      "[WDM] - Get LATEST driver version for 84.0.4147\n",
      "[WDM] - Driver [C:\\Users\\racha\\.wdm\\drivers\\chromedriver\\win32\\84.0.4147.30\\chromedriver.exe] found in cache\n"
     ]
    },
    {
     "name": "stdout",
     "output_type": "stream",
     "text": [
      " \n",
      "<small class=\"product-id meta quiet p_txt-sm\">QA75Q950TSWXXY</small>\n"
     ]
    },
    {
     "name": "stderr",
     "output_type": "stream",
     "text": [
      "[WDM] - Current google-chrome version is 84.0.4147\n",
      "[WDM] - Get LATEST driver version for 84.0.4147\n",
      "[WDM] - Driver [C:\\Users\\racha\\.wdm\\drivers\\chromedriver\\win32\\84.0.4147.30\\chromedriver.exe] found in cache\n"
     ]
    },
    {
     "name": "stdout",
     "output_type": "stream",
     "text": [
      " \n",
      "<small class=\"product-id meta quiet p_txt-sm\">QA65Q950TSWXXY</small>\n"
     ]
    },
    {
     "name": "stderr",
     "output_type": "stream",
     "text": [
      "[WDM] - Current google-chrome version is 84.0.4147\n",
      "[WDM] - Get LATEST driver version for 84.0.4147\n",
      "[WDM] - Driver [C:\\Users\\racha\\.wdm\\drivers\\chromedriver\\win32\\84.0.4147.30\\chromedriver.exe] found in cache\n"
     ]
    },
    {
     "name": "stdout",
     "output_type": "stream",
     "text": [
      " \n",
      "<small class=\"product-id meta quiet p_txt-sm\">100P715</small>\n"
     ]
    },
    {
     "name": "stderr",
     "output_type": "stream",
     "text": [
      "[WDM] - Current google-chrome version is 84.0.4147\n",
      "[WDM] - Get LATEST driver version for 84.0.4147\n",
      "[WDM] - Driver [C:\\Users\\racha\\.wdm\\drivers\\chromedriver\\win32\\84.0.4147.30\\chromedriver.exe] found in cache\n"
     ]
    },
    {
     "name": "stdout",
     "output_type": "stream",
     "text": [
      " \n",
      "<small class=\"product-id meta quiet p_txt-sm\">10001325</small>\n"
     ]
    },
    {
     "name": "stderr",
     "output_type": "stream",
     "text": [
      "[WDM] - Current google-chrome version is 84.0.4147\n",
      "[WDM] - Get LATEST driver version for 84.0.4147\n",
      "[WDM] - Driver [C:\\Users\\racha\\.wdm\\drivers\\chromedriver\\win32\\84.0.4147.30\\chromedriver.exe] found in cache\n"
     ]
    },
    {
     "name": "stdout",
     "output_type": "stream",
     "text": [
      " \n",
      "None\n"
     ]
    },
    {
     "name": "stderr",
     "output_type": "stream",
     "text": [
      "[WDM] - Current google-chrome version is 84.0.4147\n",
      "[WDM] - Get LATEST driver version for 84.0.4147\n",
      "[WDM] - Driver [C:\\Users\\racha\\.wdm\\drivers\\chromedriver\\win32\\84.0.4147.30\\chromedriver.exe] found in cache\n"
     ]
    },
    {
     "name": "stdout",
     "output_type": "stream",
     "text": [
      " \n",
      "<small class=\"product-id meta quiet p_txt-sm\">REVADVANCED</small>\n"
     ]
    },
    {
     "name": "stderr",
     "output_type": "stream",
     "text": [
      "[WDM] - Current google-chrome version is 84.0.4147\n",
      "[WDM] - Get LATEST driver version for 84.0.4147\n",
      "[WDM] - Driver [C:\\Users\\racha\\.wdm\\drivers\\chromedriver\\win32\\84.0.4147.30\\chromedriver.exe] found in cache\n"
     ]
    },
    {
     "name": "stdout",
     "output_type": "stream",
     "text": [
      " \n",
      "<small class=\"product-id meta quiet p_txt-sm\">BBANIMAL</small>\n"
     ]
    },
    {
     "name": "stderr",
     "output_type": "stream",
     "text": [
      "[WDM] - Current google-chrome version is 84.0.4147\n",
      "[WDM] - Get LATEST driver version for 84.0.4147\n",
      "[WDM] - Driver [C:\\Users\\racha\\.wdm\\drivers\\chromedriver\\win32\\84.0.4147.30\\chromedriver.exe] found in cache\n"
     ]
    },
    {
     "name": "stdout",
     "output_type": "stream",
     "text": [
      " \n",
      "<small class=\"product-id meta quiet p_txt-sm\">FWM45</small>\n"
     ]
    },
    {
     "name": "stderr",
     "output_type": "stream",
     "text": [
      "[WDM] - Current google-chrome version is 84.0.4147\n",
      "[WDM] - Get LATEST driver version for 84.0.4147\n",
      "[WDM] - Driver [C:\\Users\\racha\\.wdm\\drivers\\chromedriver\\win32\\84.0.4147.30\\chromedriver.exe] found in cache\n"
     ]
    },
    {
     "name": "stdout",
     "output_type": "stream",
     "text": [
      " \n",
      "<small class=\"product-id meta quiet p_txt-sm\">ARM-560CDA-AU</small>\n"
     ]
    },
    {
     "name": "stderr",
     "output_type": "stream",
     "text": [
      "[WDM] - Current google-chrome version is 84.0.4147\n",
      "[WDM] - Get LATEST driver version for 84.0.4147\n",
      "[WDM] - Driver [C:\\Users\\racha\\.wdm\\drivers\\chromedriver\\win32\\84.0.4147.30\\chromedriver.exe] found in cache\n"
     ]
    },
    {
     "name": "stdout",
     "output_type": "stream",
     "text": [
      " \n",
      "<small class=\"product-id meta quiet p_txt-sm\">KD65X9500H</small>\n"
     ]
    },
    {
     "name": "stderr",
     "output_type": "stream",
     "text": [
      "[WDM] - Current google-chrome version is 84.0.4147\n",
      "[WDM] - Get LATEST driver version for 84.0.4147\n",
      "[WDM] - Driver [C:\\Users\\racha\\.wdm\\drivers\\chromedriver\\win32\\84.0.4147.30\\chromedriver.exe] found in cache\n"
     ]
    },
    {
     "name": "stdout",
     "output_type": "stream",
     "text": [
      " \n",
      "<small class=\"product-id meta quiet p_txt-sm\">65S8</small>\n"
     ]
    },
    {
     "name": "stderr",
     "output_type": "stream",
     "text": [
      "[WDM] - Current google-chrome version is 84.0.4147\n",
      "[WDM] - Get LATEST driver version for 84.0.4147\n",
      "[WDM] - Driver [C:\\Users\\racha\\.wdm\\drivers\\chromedriver\\win32\\84.0.4147.30\\chromedriver.exe] found in cache\n"
     ]
    },
    {
     "name": "stdout",
     "output_type": "stream",
     "text": [
      " \n",
      "<small class=\"product-id meta quiet p_txt-sm\">55NANO80TNA</small>\n"
     ]
    },
    {
     "name": "stderr",
     "output_type": "stream",
     "text": [
      "[WDM] - Current google-chrome version is 84.0.4147\n",
      "[WDM] - Get LATEST driver version for 84.0.4147\n",
      "[WDM] - Driver [C:\\Users\\racha\\.wdm\\drivers\\chromedriver\\win32\\84.0.4147.30\\chromedriver.exe] found in cache\n"
     ]
    },
    {
     "name": "stdout",
     "output_type": "stream",
     "text": [
      " \n",
      "<small class=\"product-id meta quiet p_txt-sm\">75S8</small>\n"
     ]
    },
    {
     "name": "stderr",
     "output_type": "stream",
     "text": [
      "[WDM] - Current google-chrome version is 84.0.4147\n",
      "[WDM] - Get LATEST driver version for 84.0.4147\n",
      "[WDM] - Driver [C:\\Users\\racha\\.wdm\\drivers\\chromedriver\\win32\\84.0.4147.30\\chromedriver.exe] found in cache\n"
     ]
    },
    {
     "name": "stdout",
     "output_type": "stream",
     "text": [
      " \n",
      "<small class=\"product-id meta quiet p_txt-sm\">65C715</small>\n"
     ]
    },
    {
     "name": "stderr",
     "output_type": "stream",
     "text": [
      "[WDM] - Current google-chrome version is 84.0.4147\n",
      "[WDM] - Get LATEST driver version for 84.0.4147\n",
      "[WDM] - Driver [C:\\Users\\racha\\.wdm\\drivers\\chromedriver\\win32\\84.0.4147.30\\chromedriver.exe] found in cache\n"
     ]
    },
    {
     "name": "stdout",
     "output_type": "stream",
     "text": [
      " \n",
      "<small class=\"product-id meta quiet p_txt-sm\">QA75Q60TAWXXY</small>\n"
     ]
    },
    {
     "name": "stderr",
     "output_type": "stream",
     "text": [
      "[WDM] - Current google-chrome version is 84.0.4147\n",
      "[WDM] - Get LATEST driver version for 84.0.4147\n",
      "[WDM] - Driver [C:\\Users\\racha\\.wdm\\drivers\\chromedriver\\win32\\84.0.4147.30\\chromedriver.exe] found in cache\n"
     ]
    },
    {
     "name": "stdout",
     "output_type": "stream",
     "text": [
      " \n",
      "<small class=\"product-id meta quiet p_txt-sm\">KD55X8000H</small>\n"
     ]
    },
    {
     "name": "stderr",
     "output_type": "stream",
     "text": [
      "[WDM] - Current google-chrome version is 84.0.4147\n",
      "[WDM] - Get LATEST driver version for 84.0.4147\n",
      "[WDM] - Driver [C:\\Users\\racha\\.wdm\\drivers\\chromedriver\\win32\\84.0.4147.30\\chromedriver.exe] found in cache\n"
     ]
    },
    {
     "name": "stdout",
     "output_type": "stream",
     "text": [
      " \n",
      "<small class=\"product-id meta quiet p_txt-sm\">QA65LS03TAWXXY</small>\n"
     ]
    },
    {
     "name": "stderr",
     "output_type": "stream",
     "text": [
      "[WDM] - Current google-chrome version is 84.0.4147\n",
      "[WDM] - Get LATEST driver version for 84.0.4147\n",
      "[WDM] - Driver [C:\\Users\\racha\\.wdm\\drivers\\chromedriver\\win32\\84.0.4147.30\\chromedriver.exe] found in cache\n"
     ]
    },
    {
     "name": "stdout",
     "output_type": "stream",
     "text": [
      " \n",
      "<small class=\"product-id meta quiet p_txt-sm\">QA82Q800TAWXXY</small>\n"
     ]
    },
    {
     "name": "stderr",
     "output_type": "stream",
     "text": [
      "[WDM] - Current google-chrome version is 84.0.4147\n",
      "[WDM] - Get LATEST driver version for 84.0.4147\n",
      "[WDM] - Driver [C:\\Users\\racha\\.wdm\\drivers\\chromedriver\\win32\\84.0.4147.30\\chromedriver.exe] found in cache\n"
     ]
    },
    {
     "name": "stdout",
     "output_type": "stream",
     "text": [
      " \n",
      "<small class=\"product-id meta quiet p_txt-sm\">QA75Q800TAWXXY</small>\n"
     ]
    },
    {
     "name": "stderr",
     "output_type": "stream",
     "text": [
      "[WDM] - Current google-chrome version is 84.0.4147\n",
      "[WDM] - Get LATEST driver version for 84.0.4147\n",
      "[WDM] - Driver [C:\\Users\\racha\\.wdm\\drivers\\chromedriver\\win32\\84.0.4147.30\\chromedriver.exe] found in cache\n"
     ]
    },
    {
     "name": "stdout",
     "output_type": "stream",
     "text": [
      " \n",
      "<small class=\"product-id meta quiet p_txt-sm\">QA65Q800TAWXXY</small>\n"
     ]
    },
    {
     "name": "stderr",
     "output_type": "stream",
     "text": [
      "[WDM] - Current google-chrome version is 84.0.4147\n",
      "[WDM] - Get LATEST driver version for 84.0.4147\n",
      "[WDM] - Driver [C:\\Users\\racha\\.wdm\\drivers\\chromedriver\\win32\\84.0.4147.30\\chromedriver.exe] found in cache\n"
     ]
    },
    {
     "name": "stdout",
     "output_type": "stream",
     "text": [
      " \n",
      "<small class=\"product-id meta quiet p_txt-sm\">QA75Q95TAWXXY</small>\n"
     ]
    },
    {
     "name": "stderr",
     "output_type": "stream",
     "text": [
      "[WDM] - Current google-chrome version is 84.0.4147\n",
      "[WDM] - Get LATEST driver version for 84.0.4147\n",
      "[WDM] - Driver [C:\\Users\\racha\\.wdm\\drivers\\chromedriver\\win32\\84.0.4147.30\\chromedriver.exe] found in cache\n"
     ]
    },
    {
     "name": "stdout",
     "output_type": "stream",
     "text": [
      " \n",
      "<small class=\"product-id meta quiet p_txt-sm\">QA55Q95TAWXXY</small>\n"
     ]
    },
    {
     "name": "stderr",
     "output_type": "stream",
     "text": [
      "[WDM] - Current google-chrome version is 84.0.4147\n",
      "[WDM] - Get LATEST driver version for 84.0.4147\n",
      "[WDM] - Driver [C:\\Users\\racha\\.wdm\\drivers\\chromedriver\\win32\\84.0.4147.30\\chromedriver.exe] found in cache\n"
     ]
    },
    {
     "name": "stdout",
     "output_type": "stream",
     "text": [
      " \n",
      "<small class=\"product-id meta quiet p_txt-sm\">QA75Q80TAWXXY</small>\n"
     ]
    },
    {
     "name": "stderr",
     "output_type": "stream",
     "text": [
      "[WDM] - Current google-chrome version is 84.0.4147\n",
      "[WDM] - Get LATEST driver version for 84.0.4147\n",
      "[WDM] - Driver [C:\\Users\\racha\\.wdm\\drivers\\chromedriver\\win32\\84.0.4147.30\\chromedriver.exe] found in cache\n"
     ]
    },
    {
     "name": "stdout",
     "output_type": "stream",
     "text": [
      " \n",
      "<small class=\"product-id meta quiet p_txt-sm\">QA65Q80TAWXXY</small>\n"
     ]
    },
    {
     "name": "stderr",
     "output_type": "stream",
     "text": [
      "[WDM] - Current google-chrome version is 84.0.4147\n",
      "[WDM] - Get LATEST driver version for 84.0.4147\n",
      "[WDM] - Driver [C:\\Users\\racha\\.wdm\\drivers\\chromedriver\\win32\\84.0.4147.30\\chromedriver.exe] found in cache\n"
     ]
    },
    {
     "name": "stdout",
     "output_type": "stream",
     "text": [
      " \n",
      "<small class=\"product-id meta quiet p_txt-sm\">QA55Q80TAWXXY</small>\n"
     ]
    },
    {
     "name": "stderr",
     "output_type": "stream",
     "text": [
      "[WDM] - Current google-chrome version is 84.0.4147\n",
      "[WDM] - Get LATEST driver version for 84.0.4147\n",
      "[WDM] - Driver [C:\\Users\\racha\\.wdm\\drivers\\chromedriver\\win32\\84.0.4147.30\\chromedriver.exe] found in cache\n"
     ]
    },
    {
     "name": "stdout",
     "output_type": "stream",
     "text": [
      " \n",
      "<small class=\"product-id meta quiet p_txt-sm\">QA85Q70TAWXXY</small>\n"
     ]
    },
    {
     "name": "stderr",
     "output_type": "stream",
     "text": [
      "[WDM] - Current google-chrome version is 84.0.4147\n",
      "[WDM] - Get LATEST driver version for 84.0.4147\n",
      "[WDM] - Driver [C:\\Users\\racha\\.wdm\\drivers\\chromedriver\\win32\\84.0.4147.30\\chromedriver.exe] found in cache\n"
     ]
    },
    {
     "name": "stdout",
     "output_type": "stream",
     "text": [
      " \n",
      "<small class=\"product-id meta quiet p_txt-sm\">QA75Q70TAWXXY</small>\n"
     ]
    },
    {
     "name": "stderr",
     "output_type": "stream",
     "text": [
      "[WDM] - Current google-chrome version is 84.0.4147\n",
      "[WDM] - Get LATEST driver version for 84.0.4147\n",
      "[WDM] - Driver [C:\\Users\\racha\\.wdm\\drivers\\chromedriver\\win32\\84.0.4147.30\\chromedriver.exe] found in cache\n"
     ]
    },
    {
     "name": "stdout",
     "output_type": "stream",
     "text": [
      " \n",
      "<small class=\"product-id meta quiet p_txt-sm\">QA65Q70TAWXXY</small>\n"
     ]
    },
    {
     "name": "stderr",
     "output_type": "stream",
     "text": [
      "[WDM] - Current google-chrome version is 84.0.4147\n",
      "[WDM] - Get LATEST driver version for 84.0.4147\n",
      "[WDM] - Driver [C:\\Users\\racha\\.wdm\\drivers\\chromedriver\\win32\\84.0.4147.30\\chromedriver.exe] found in cache\n"
     ]
    },
    {
     "name": "stdout",
     "output_type": "stream",
     "text": [
      " \n",
      "<small class=\"product-id meta quiet p_txt-sm\">OLED55CXPTA</small>\n"
     ]
    },
    {
     "name": "stderr",
     "output_type": "stream",
     "text": [
      "[WDM] - Current google-chrome version is 84.0.4147\n",
      "[WDM] - Get LATEST driver version for 84.0.4147\n",
      "[WDM] - Driver [C:\\Users\\racha\\.wdm\\drivers\\chromedriver\\win32\\84.0.4147.30\\chromedriver.exe] found in cache\n"
     ]
    },
    {
     "name": "stdout",
     "output_type": "stream",
     "text": [
      " \n",
      "<small class=\"product-id meta quiet p_txt-sm\">OLED65CXPTA</small>\n"
     ]
    },
    {
     "name": "stderr",
     "output_type": "stream",
     "text": [
      "[WDM] - Current google-chrome version is 84.0.4147\n",
      "[WDM] - Get LATEST driver version for 84.0.4147\n",
      "[WDM] - Driver [C:\\Users\\racha\\.wdm\\drivers\\chromedriver\\win32\\84.0.4147.30\\chromedriver.exe] found in cache\n"
     ]
    },
    {
     "name": "stdout",
     "output_type": "stream",
     "text": [
      " \n",
      "<small class=\"product-id meta quiet p_txt-sm\">OLED77CXPTA</small>\n"
     ]
    },
    {
     "name": "stderr",
     "output_type": "stream",
     "text": [
      "[WDM] - Current google-chrome version is 84.0.4147\n",
      "[WDM] - Get LATEST driver version for 84.0.4147\n",
      "[WDM] - Driver [C:\\Users\\racha\\.wdm\\drivers\\chromedriver\\win32\\84.0.4147.30\\chromedriver.exe] found in cache\n"
     ]
    },
    {
     "name": "stdout",
     "output_type": "stream",
     "text": [
      " \n",
      "<small class=\"product-id meta quiet p_txt-sm\">65NANO99TNA</small>\n"
     ]
    },
    {
     "name": "stderr",
     "output_type": "stream",
     "text": [
      "[WDM] - Current google-chrome version is 84.0.4147\n",
      "[WDM] - Get LATEST driver version for 84.0.4147\n",
      "[WDM] - Driver [C:\\Users\\racha\\.wdm\\drivers\\chromedriver\\win32\\84.0.4147.30\\chromedriver.exe] found in cache\n"
     ]
    },
    {
     "name": "stdout",
     "output_type": "stream",
     "text": [
      " \n",
      "<small class=\"product-id meta quiet p_txt-sm\">75NANO99TNA</small>\n"
     ]
    },
    {
     "name": "stderr",
     "output_type": "stream",
     "text": [
      "[WDM] - Current google-chrome version is 84.0.4147\n",
      "[WDM] - Get LATEST driver version for 84.0.4147\n",
      "[WDM] - Driver [C:\\Users\\racha\\.wdm\\drivers\\chromedriver\\win32\\84.0.4147.30\\chromedriver.exe] found in cache\n"
     ]
    },
    {
     "name": "stdout",
     "output_type": "stream",
     "text": [
      " \n",
      "<small class=\"product-id meta quiet p_txt-sm\">65NANO80TNA</small>\n"
     ]
    },
    {
     "name": "stderr",
     "output_type": "stream",
     "text": [
      "[WDM] - Current google-chrome version is 84.0.4147\n",
      "[WDM] - Get LATEST driver version for 84.0.4147\n",
      "[WDM] - Driver [C:\\Users\\racha\\.wdm\\drivers\\chromedriver\\win32\\84.0.4147.30\\chromedriver.exe] found in cache\n"
     ]
    },
    {
     "name": "stdout",
     "output_type": "stream",
     "text": [
      " \n",
      "<small class=\"product-id meta quiet p_txt-sm\">65NANO86TNA</small>\n"
     ]
    },
    {
     "name": "stderr",
     "output_type": "stream",
     "text": [
      "[WDM] - Current google-chrome version is 84.0.4147\n",
      "[WDM] - Get LATEST driver version for 84.0.4147\n",
      "[WDM] - Driver [C:\\Users\\racha\\.wdm\\drivers\\chromedriver\\win32\\84.0.4147.30\\chromedriver.exe] found in cache\n"
     ]
    },
    {
     "name": "stdout",
     "output_type": "stream",
     "text": [
      " \n",
      "<small class=\"product-id meta quiet p_txt-sm\">65NANO91TNA</small>\n"
     ]
    },
    {
     "name": "stderr",
     "output_type": "stream",
     "text": [
      "[WDM] - Current google-chrome version is 84.0.4147\n",
      "[WDM] - Get LATEST driver version for 84.0.4147\n",
      "[WDM] - Driver [C:\\Users\\racha\\.wdm\\drivers\\chromedriver\\win32\\84.0.4147.30\\chromedriver.exe] found in cache\n"
     ]
    },
    {
     "name": "stdout",
     "output_type": "stream",
     "text": [
      " \n",
      "<small class=\"product-id meta quiet p_txt-sm\">75NANO91TNA</small>\n"
     ]
    },
    {
     "name": "stderr",
     "output_type": "stream",
     "text": [
      "[WDM] - Current google-chrome version is 84.0.4147\n",
      "[WDM] - Get LATEST driver version for 84.0.4147\n",
      "[WDM] - Driver [C:\\Users\\racha\\.wdm\\drivers\\chromedriver\\win32\\84.0.4147.30\\chromedriver.exe] found in cache\n"
     ]
    },
    {
     "name": "stdout",
     "output_type": "stream",
     "text": [
      " \n",
      "<small class=\"product-id meta quiet p_txt-sm\">65NANO95TNA</small>\n"
     ]
    },
    {
     "name": "stderr",
     "output_type": "stream",
     "text": [
      "[WDM] - Current google-chrome version is 84.0.4147\n",
      "[WDM] - Get LATEST driver version for 84.0.4147\n",
      "[WDM] - Driver [C:\\Users\\racha\\.wdm\\drivers\\chromedriver\\win32\\84.0.4147.30\\chromedriver.exe] found in cache\n"
     ]
    },
    {
     "name": "stdout",
     "output_type": "stream",
     "text": [
      " \n",
      "<small class=\"product-id meta quiet p_txt-sm\">75NANO95TNA</small>\n"
     ]
    },
    {
     "name": "stderr",
     "output_type": "stream",
     "text": [
      "[WDM] - Current google-chrome version is 84.0.4147\n",
      "[WDM] - Get LATEST driver version for 84.0.4147\n",
      "[WDM] - Driver [C:\\Users\\racha\\.wdm\\drivers\\chromedriver\\win32\\84.0.4147.30\\chromedriver.exe] found in cache\n"
     ]
    },
    {
     "name": "stdout",
     "output_type": "stream",
     "text": [
      " \n",
      "<small class=\"product-id meta quiet p_txt-sm\">KD75X9500H</small>\n"
     ]
    },
    {
     "name": "stderr",
     "output_type": "stream",
     "text": [
      "[WDM] - Current google-chrome version is 84.0.4147\n",
      "[WDM] - Get LATEST driver version for 84.0.4147\n",
      "[WDM] - Driver [C:\\Users\\racha\\.wdm\\drivers\\chromedriver\\win32\\84.0.4147.30\\chromedriver.exe] found in cache\n"
     ]
    },
    {
     "name": "stdout",
     "output_type": "stream",
     "text": [
      " \n",
      "<small class=\"product-id meta quiet p_txt-sm\">75Q8</small>\n"
     ]
    },
    {
     "name": "stderr",
     "output_type": "stream",
     "text": [
      "[WDM] - Current google-chrome version is 84.0.4147\n",
      "[WDM] - Get LATEST driver version for 84.0.4147\n",
      "[WDM] - Driver [C:\\Users\\racha\\.wdm\\drivers\\chromedriver\\win32\\84.0.4147.30\\chromedriver.exe] found in cache\n"
     ]
    },
    {
     "name": "stdout",
     "output_type": "stream",
     "text": [
      " \n",
      "<small class=\"product-id meta quiet p_txt-sm\">65Q8</small>\n"
     ]
    },
    {
     "name": "stderr",
     "output_type": "stream",
     "text": [
      "[WDM] - Current google-chrome version is 84.0.4147\n",
      "[WDM] - Get LATEST driver version for 84.0.4147\n",
      "[WDM] - Driver [C:\\Users\\racha\\.wdm\\drivers\\chromedriver\\win32\\84.0.4147.30\\chromedriver.exe] found in cache\n"
     ]
    },
    {
     "name": "stdout",
     "output_type": "stream",
     "text": [
      " \n",
      "<small class=\"product-id meta quiet p_txt-sm\">55Q8</small>\n"
     ]
    },
    {
     "name": "stderr",
     "output_type": "stream",
     "text": [
      "[WDM] - Current google-chrome version is 84.0.4147\n",
      "[WDM] - Get LATEST driver version for 84.0.4147\n",
      "[WDM] - Driver [C:\\Users\\racha\\.wdm\\drivers\\chromedriver\\win32\\84.0.4147.30\\chromedriver.exe] found in cache\n"
     ]
    },
    {
     "name": "stdout",
     "output_type": "stream",
     "text": [
      " \n",
      "<small class=\"product-id meta quiet p_txt-sm\">QA75LS03TAWXXY</small>\n"
     ]
    },
    {
     "name": "stderr",
     "output_type": "stream",
     "text": [
      "[WDM] - Current google-chrome version is 84.0.4147\n",
      "[WDM] - Get LATEST driver version for 84.0.4147\n",
      "[WDM] - Driver [C:\\Users\\racha\\.wdm\\drivers\\chromedriver\\win32\\84.0.4147.30\\chromedriver.exe] found in cache\n"
     ]
    },
    {
     "name": "stdout",
     "output_type": "stream",
     "text": [
      " \n",
      "<small class=\"product-id meta quiet p_txt-sm\">QA55LS03TAWXXY</small>\n"
     ]
    },
    {
     "name": "stderr",
     "output_type": "stream",
     "text": [
      "[WDM] - Current google-chrome version is 84.0.4147\n",
      "[WDM] - Get LATEST driver version for 84.0.4147\n",
      "[WDM] - Driver [C:\\Users\\racha\\.wdm\\drivers\\chromedriver\\win32\\84.0.4147.30\\chromedriver.exe] found in cache\n"
     ]
    },
    {
     "name": "stdout",
     "output_type": "stream",
     "text": [
      " \n",
      "<small class=\"product-id meta quiet p_txt-sm\">QA85Q950TSWXXY</small>\n"
     ]
    },
    {
     "name": "stderr",
     "output_type": "stream",
     "text": [
      "[WDM] - Current google-chrome version is 84.0.4147\n",
      "[WDM] - Get LATEST driver version for 84.0.4147\n",
      "[WDM] - Driver [C:\\Users\\racha\\.wdm\\drivers\\chromedriver\\win32\\84.0.4147.30\\chromedriver.exe] found in cache\n"
     ]
    },
    {
     "name": "stdout",
     "output_type": "stream",
     "text": [
      " \n",
      "<small class=\"product-id meta quiet p_txt-sm\">QA75Q950TSWXXY</small>\n"
     ]
    },
    {
     "name": "stderr",
     "output_type": "stream",
     "text": [
      "[WDM] - Current google-chrome version is 84.0.4147\n",
      "[WDM] - Get LATEST driver version for 84.0.4147\n",
      "[WDM] - Driver [C:\\Users\\racha\\.wdm\\drivers\\chromedriver\\win32\\84.0.4147.30\\chromedriver.exe] found in cache\n"
     ]
    },
    {
     "name": "stdout",
     "output_type": "stream",
     "text": [
      " \n",
      "<small class=\"product-id meta quiet p_txt-sm\">QA65Q950TSWXXY</small>\n"
     ]
    },
    {
     "name": "stderr",
     "output_type": "stream",
     "text": [
      "[WDM] - Current google-chrome version is 84.0.4147\n",
      "[WDM] - Get LATEST driver version for 84.0.4147\n",
      "[WDM] - Driver [C:\\Users\\racha\\.wdm\\drivers\\chromedriver\\win32\\84.0.4147.30\\chromedriver.exe] found in cache\n"
     ]
    },
    {
     "name": "stdout",
     "output_type": "stream",
     "text": [
      " \n",
      "<small class=\"product-id meta quiet p_txt-sm\">100P715</small>\n"
     ]
    },
    {
     "name": "stderr",
     "output_type": "stream",
     "text": [
      "[WDM] - Current google-chrome version is 84.0.4147\n",
      "[WDM] - Get LATEST driver version for 84.0.4147\n",
      "[WDM] - Driver [C:\\Users\\racha\\.wdm\\drivers\\chromedriver\\win32\\84.0.4147.30\\chromedriver.exe] found in cache\n"
     ]
    },
    {
     "name": "stdout",
     "output_type": "stream",
     "text": [
      " \n",
      "<small class=\"product-id meta quiet p_txt-sm\">10001325</small>\n"
     ]
    },
    {
     "name": "stderr",
     "output_type": "stream",
     "text": [
      "[WDM] - Current google-chrome version is 84.0.4147\n",
      "[WDM] - Get LATEST driver version for 84.0.4147\n",
      "[WDM] - Driver [C:\\Users\\racha\\.wdm\\drivers\\chromedriver\\win32\\84.0.4147.30\\chromedriver.exe] found in cache\n"
     ]
    },
    {
     "name": "stdout",
     "output_type": "stream",
     "text": [
      " \n",
      "None\n"
     ]
    },
    {
     "name": "stderr",
     "output_type": "stream",
     "text": [
      "[WDM] - Current google-chrome version is 84.0.4147\n",
      "[WDM] - Get LATEST driver version for 84.0.4147\n",
      "[WDM] - Driver [C:\\Users\\racha\\.wdm\\drivers\\chromedriver\\win32\\84.0.4147.30\\chromedriver.exe] found in cache\n"
     ]
    },
    {
     "name": "stdout",
     "output_type": "stream",
     "text": [
      " \n",
      "<small class=\"product-id meta quiet p_txt-sm\">REVADVANCED</small>\n"
     ]
    },
    {
     "name": "stderr",
     "output_type": "stream",
     "text": [
      "[WDM] - Current google-chrome version is 84.0.4147\n",
      "[WDM] - Get LATEST driver version for 84.0.4147\n",
      "[WDM] - Driver [C:\\Users\\racha\\.wdm\\drivers\\chromedriver\\win32\\84.0.4147.30\\chromedriver.exe] found in cache\n"
     ]
    },
    {
     "name": "stdout",
     "output_type": "stream",
     "text": [
      " \n",
      "<small class=\"product-id meta quiet p_txt-sm\">BBANIMAL</small>\n"
     ]
    },
    {
     "name": "stderr",
     "output_type": "stream",
     "text": [
      "[WDM] - Current google-chrome version is 84.0.4147\n",
      "[WDM] - Get LATEST driver version for 84.0.4147\n"
     ]
    },
    {
     "name": "stdout",
     "output_type": "stream",
     "text": [
      " \n"
     ]
    },
    {
     "name": "stderr",
     "output_type": "stream",
     "text": [
      "[WDM] - Driver [C:\\Users\\racha\\.wdm\\drivers\\chromedriver\\win32\\84.0.4147.30\\chromedriver.exe] found in cache\n"
     ]
    },
    {
     "name": "stdout",
     "output_type": "stream",
     "text": [
      "<small class=\"product-id meta quiet p_txt-sm\">FWM45</small>\n"
     ]
    },
    {
     "name": "stderr",
     "output_type": "stream",
     "text": [
      "[WDM] - Current google-chrome version is 84.0.4147\n",
      "[WDM] - Get LATEST driver version for 84.0.4147\n",
      "[WDM] - Driver [C:\\Users\\racha\\.wdm\\drivers\\chromedriver\\win32\\84.0.4147.30\\chromedriver.exe] found in cache\n"
     ]
    },
    {
     "name": "stdout",
     "output_type": "stream",
     "text": [
      " \n",
      "<small class=\"product-id meta quiet p_txt-sm\">ARM-560CDA-AU</small>\n"
     ]
    },
    {
     "name": "stderr",
     "output_type": "stream",
     "text": [
      "[WDM] - Current google-chrome version is 84.0.4147\n",
      "[WDM] - Get LATEST driver version for 84.0.4147\n",
      "[WDM] - Driver [C:\\Users\\racha\\.wdm\\drivers\\chromedriver\\win32\\84.0.4147.30\\chromedriver.exe] found in cache\n"
     ]
    },
    {
     "name": "stdout",
     "output_type": "stream",
     "text": [
      " \n",
      "<small class=\"product-id meta quiet p_txt-sm\">KD65X9500H</small>\n"
     ]
    },
    {
     "name": "stderr",
     "output_type": "stream",
     "text": [
      "[WDM] - Current google-chrome version is 84.0.4147\n",
      "[WDM] - Get LATEST driver version for 84.0.4147\n",
      "[WDM] - Driver [C:\\Users\\racha\\.wdm\\drivers\\chromedriver\\win32\\84.0.4147.30\\chromedriver.exe] found in cache\n"
     ]
    },
    {
     "name": "stdout",
     "output_type": "stream",
     "text": [
      " \n",
      "<small class=\"product-id meta quiet p_txt-sm\">65S8</small>\n"
     ]
    },
    {
     "name": "stderr",
     "output_type": "stream",
     "text": [
      "[WDM] - Current google-chrome version is 84.0.4147\n",
      "[WDM] - Get LATEST driver version for 84.0.4147\n",
      "[WDM] - Driver [C:\\Users\\racha\\.wdm\\drivers\\chromedriver\\win32\\84.0.4147.30\\chromedriver.exe] found in cache\n"
     ]
    },
    {
     "name": "stdout",
     "output_type": "stream",
     "text": [
      " \n",
      "<small class=\"product-id meta quiet p_txt-sm\">55NANO80TNA</small>\n"
     ]
    },
    {
     "name": "stderr",
     "output_type": "stream",
     "text": [
      "[WDM] - Current google-chrome version is 84.0.4147\n",
      "[WDM] - Get LATEST driver version for 84.0.4147\n",
      "[WDM] - Driver [C:\\Users\\racha\\.wdm\\drivers\\chromedriver\\win32\\84.0.4147.30\\chromedriver.exe] found in cache\n"
     ]
    },
    {
     "name": "stdout",
     "output_type": "stream",
     "text": [
      " \n",
      "<small class=\"product-id meta quiet p_txt-sm\">75S8</small>\n"
     ]
    },
    {
     "name": "stderr",
     "output_type": "stream",
     "text": [
      "[WDM] - Current google-chrome version is 84.0.4147\n",
      "[WDM] - Get LATEST driver version for 84.0.4147\n",
      "[WDM] - Driver [C:\\Users\\racha\\.wdm\\drivers\\chromedriver\\win32\\84.0.4147.30\\chromedriver.exe] found in cache\n"
     ]
    },
    {
     "name": "stdout",
     "output_type": "stream",
     "text": [
      " \n",
      "<small class=\"product-id meta quiet p_txt-sm\">65C715</small>\n"
     ]
    },
    {
     "name": "stderr",
     "output_type": "stream",
     "text": [
      "[WDM] - Current google-chrome version is 84.0.4147\n",
      "[WDM] - Get LATEST driver version for 84.0.4147\n",
      "[WDM] - Driver [C:\\Users\\racha\\.wdm\\drivers\\chromedriver\\win32\\84.0.4147.30\\chromedriver.exe] found in cache\n"
     ]
    },
    {
     "name": "stdout",
     "output_type": "stream",
     "text": [
      " \n",
      "<small class=\"product-id meta quiet p_txt-sm\">QA75Q60TAWXXY</small>\n"
     ]
    },
    {
     "name": "stderr",
     "output_type": "stream",
     "text": [
      "[WDM] - Current google-chrome version is 84.0.4147\n",
      "[WDM] - Get LATEST driver version for 84.0.4147\n",
      "[WDM] - Driver [C:\\Users\\racha\\.wdm\\drivers\\chromedriver\\win32\\84.0.4147.30\\chromedriver.exe] found in cache\n"
     ]
    },
    {
     "name": "stdout",
     "output_type": "stream",
     "text": [
      " \n",
      "<small class=\"product-id meta quiet p_txt-sm\">KD55X8000H</small>\n"
     ]
    },
    {
     "name": "stderr",
     "output_type": "stream",
     "text": [
      "[WDM] - Current google-chrome version is 84.0.4147\n",
      "[WDM] - Get LATEST driver version for 84.0.4147\n",
      "[WDM] - Driver [C:\\Users\\racha\\.wdm\\drivers\\chromedriver\\win32\\84.0.4147.30\\chromedriver.exe] found in cache\n"
     ]
    },
    {
     "name": "stdout",
     "output_type": "stream",
     "text": [
      " \n",
      "<small class=\"product-id meta quiet p_txt-sm\">QA65LS03TAWXXY</small>\n"
     ]
    },
    {
     "name": "stderr",
     "output_type": "stream",
     "text": [
      "[WDM] - Current google-chrome version is 84.0.4147\n",
      "[WDM] - Get LATEST driver version for 84.0.4147\n",
      "[WDM] - Driver [C:\\Users\\racha\\.wdm\\drivers\\chromedriver\\win32\\84.0.4147.30\\chromedriver.exe] found in cache\n"
     ]
    },
    {
     "name": "stdout",
     "output_type": "stream",
     "text": [
      " \n",
      "<small class=\"product-id meta quiet p_txt-sm\">QA82Q800TAWXXY</small>\n"
     ]
    },
    {
     "name": "stderr",
     "output_type": "stream",
     "text": [
      "[WDM] - Current google-chrome version is 84.0.4147\n",
      "[WDM] - Get LATEST driver version for 84.0.4147\n",
      "[WDM] - Driver [C:\\Users\\racha\\.wdm\\drivers\\chromedriver\\win32\\84.0.4147.30\\chromedriver.exe] found in cache\n"
     ]
    },
    {
     "name": "stdout",
     "output_type": "stream",
     "text": [
      " \n",
      "<small class=\"product-id meta quiet p_txt-sm\">QA75Q800TAWXXY</small>\n"
     ]
    },
    {
     "name": "stderr",
     "output_type": "stream",
     "text": [
      "[WDM] - Current google-chrome version is 84.0.4147\n",
      "[WDM] - Get LATEST driver version for 84.0.4147\n",
      "[WDM] - Driver [C:\\Users\\racha\\.wdm\\drivers\\chromedriver\\win32\\84.0.4147.30\\chromedriver.exe] found in cache\n"
     ]
    },
    {
     "name": "stdout",
     "output_type": "stream",
     "text": [
      " \n",
      "<small class=\"product-id meta quiet p_txt-sm\">QA65Q800TAWXXY</small>\n"
     ]
    },
    {
     "name": "stderr",
     "output_type": "stream",
     "text": [
      "[WDM] - Current google-chrome version is 84.0.4147\n",
      "[WDM] - Get LATEST driver version for 84.0.4147\n",
      "[WDM] - Driver [C:\\Users\\racha\\.wdm\\drivers\\chromedriver\\win32\\84.0.4147.30\\chromedriver.exe] found in cache\n"
     ]
    },
    {
     "name": "stdout",
     "output_type": "stream",
     "text": [
      " \n",
      "<small class=\"product-id meta quiet p_txt-sm\">QA75Q95TAWXXY</small>\n"
     ]
    },
    {
     "name": "stderr",
     "output_type": "stream",
     "text": [
      "[WDM] - Current google-chrome version is 84.0.4147\n",
      "[WDM] - Get LATEST driver version for 84.0.4147\n",
      "[WDM] - Driver [C:\\Users\\racha\\.wdm\\drivers\\chromedriver\\win32\\84.0.4147.30\\chromedriver.exe] found in cache\n"
     ]
    },
    {
     "name": "stdout",
     "output_type": "stream",
     "text": [
      " \n",
      "<small class=\"product-id meta quiet p_txt-sm\">QA55Q95TAWXXY</small>\n"
     ]
    },
    {
     "name": "stderr",
     "output_type": "stream",
     "text": [
      "[WDM] - Current google-chrome version is 84.0.4147\n",
      "[WDM] - Get LATEST driver version for 84.0.4147\n",
      "[WDM] - Driver [C:\\Users\\racha\\.wdm\\drivers\\chromedriver\\win32\\84.0.4147.30\\chromedriver.exe] found in cache\n"
     ]
    },
    {
     "name": "stdout",
     "output_type": "stream",
     "text": [
      " \n",
      "<small class=\"product-id meta quiet p_txt-sm\">QA75Q80TAWXXY</small>\n"
     ]
    },
    {
     "name": "stderr",
     "output_type": "stream",
     "text": [
      "[WDM] - Current google-chrome version is 84.0.4147\n",
      "[WDM] - Get LATEST driver version for 84.0.4147\n",
      "[WDM] - Driver [C:\\Users\\racha\\.wdm\\drivers\\chromedriver\\win32\\84.0.4147.30\\chromedriver.exe] found in cache\n"
     ]
    },
    {
     "name": "stdout",
     "output_type": "stream",
     "text": [
      " \n",
      "<small class=\"product-id meta quiet p_txt-sm\">QA65Q80TAWXXY</small>\n"
     ]
    },
    {
     "name": "stderr",
     "output_type": "stream",
     "text": [
      "[WDM] - Current google-chrome version is 84.0.4147\n",
      "[WDM] - Get LATEST driver version for 84.0.4147\n",
      "[WDM] - Driver [C:\\Users\\racha\\.wdm\\drivers\\chromedriver\\win32\\84.0.4147.30\\chromedriver.exe] found in cache\n"
     ]
    },
    {
     "name": "stdout",
     "output_type": "stream",
     "text": [
      " \n",
      "<small class=\"product-id meta quiet p_txt-sm\">QA55Q80TAWXXY</small>\n"
     ]
    },
    {
     "name": "stderr",
     "output_type": "stream",
     "text": [
      "[WDM] - Current google-chrome version is 84.0.4147\n",
      "[WDM] - Get LATEST driver version for 84.0.4147\n",
      "[WDM] - Driver [C:\\Users\\racha\\.wdm\\drivers\\chromedriver\\win32\\84.0.4147.30\\chromedriver.exe] found in cache\n"
     ]
    },
    {
     "name": "stdout",
     "output_type": "stream",
     "text": [
      " \n",
      "<small class=\"product-id meta quiet p_txt-sm\">QA85Q70TAWXXY</small>\n"
     ]
    },
    {
     "name": "stderr",
     "output_type": "stream",
     "text": [
      "[WDM] - Current google-chrome version is 84.0.4147\n",
      "[WDM] - Get LATEST driver version for 84.0.4147\n",
      "[WDM] - Driver [C:\\Users\\racha\\.wdm\\drivers\\chromedriver\\win32\\84.0.4147.30\\chromedriver.exe] found in cache\n"
     ]
    },
    {
     "name": "stdout",
     "output_type": "stream",
     "text": [
      " \n",
      "<small class=\"product-id meta quiet p_txt-sm\">QA75Q70TAWXXY</small>\n"
     ]
    },
    {
     "name": "stderr",
     "output_type": "stream",
     "text": [
      "[WDM] - Current google-chrome version is 84.0.4147\n",
      "[WDM] - Get LATEST driver version for 84.0.4147\n",
      "[WDM] - Driver [C:\\Users\\racha\\.wdm\\drivers\\chromedriver\\win32\\84.0.4147.30\\chromedriver.exe] found in cache\n"
     ]
    },
    {
     "name": "stdout",
     "output_type": "stream",
     "text": [
      " \n",
      "<small class=\"product-id meta quiet p_txt-sm\">QA65Q70TAWXXY</small>\n"
     ]
    },
    {
     "name": "stderr",
     "output_type": "stream",
     "text": [
      "[WDM] - Current google-chrome version is 84.0.4147\n",
      "[WDM] - Get LATEST driver version for 84.0.4147\n",
      "[WDM] - Driver [C:\\Users\\racha\\.wdm\\drivers\\chromedriver\\win32\\84.0.4147.30\\chromedriver.exe] found in cache\n"
     ]
    },
    {
     "name": "stdout",
     "output_type": "stream",
     "text": [
      " \n",
      "<small class=\"product-id meta quiet p_txt-sm\">OLED55CXPTA</small>\n"
     ]
    },
    {
     "name": "stderr",
     "output_type": "stream",
     "text": [
      "[WDM] - Current google-chrome version is 84.0.4147\n",
      "[WDM] - Get LATEST driver version for 84.0.4147\n",
      "[WDM] - Driver [C:\\Users\\racha\\.wdm\\drivers\\chromedriver\\win32\\84.0.4147.30\\chromedriver.exe] found in cache\n"
     ]
    },
    {
     "name": "stdout",
     "output_type": "stream",
     "text": [
      " \n",
      "<small class=\"product-id meta quiet p_txt-sm\">OLED65CXPTA</small>\n"
     ]
    },
    {
     "name": "stderr",
     "output_type": "stream",
     "text": [
      "[WDM] - Current google-chrome version is 84.0.4147\n",
      "[WDM] - Get LATEST driver version for 84.0.4147\n",
      "[WDM] - Driver [C:\\Users\\racha\\.wdm\\drivers\\chromedriver\\win32\\84.0.4147.30\\chromedriver.exe] found in cache\n"
     ]
    },
    {
     "name": "stdout",
     "output_type": "stream",
     "text": [
      " \n",
      "<small class=\"product-id meta quiet p_txt-sm\">OLED77CXPTA</small>\n"
     ]
    },
    {
     "name": "stderr",
     "output_type": "stream",
     "text": [
      "[WDM] - Current google-chrome version is 84.0.4147\n",
      "[WDM] - Get LATEST driver version for 84.0.4147\n",
      "[WDM] - Driver [C:\\Users\\racha\\.wdm\\drivers\\chromedriver\\win32\\84.0.4147.30\\chromedriver.exe] found in cache\n"
     ]
    },
    {
     "name": "stdout",
     "output_type": "stream",
     "text": [
      " \n",
      "<small class=\"product-id meta quiet p_txt-sm\">65NANO99TNA</small>\n"
     ]
    },
    {
     "name": "stderr",
     "output_type": "stream",
     "text": [
      "[WDM] - Current google-chrome version is 84.0.4147\n",
      "[WDM] - Get LATEST driver version for 84.0.4147\n",
      "[WDM] - Driver [C:\\Users\\racha\\.wdm\\drivers\\chromedriver\\win32\\84.0.4147.30\\chromedriver.exe] found in cache\n"
     ]
    },
    {
     "name": "stdout",
     "output_type": "stream",
     "text": [
      " \n",
      "<small class=\"product-id meta quiet p_txt-sm\">75NANO99TNA</small>\n"
     ]
    },
    {
     "name": "stderr",
     "output_type": "stream",
     "text": [
      "[WDM] - Current google-chrome version is 84.0.4147\n",
      "[WDM] - Get LATEST driver version for 84.0.4147\n",
      "[WDM] - Driver [C:\\Users\\racha\\.wdm\\drivers\\chromedriver\\win32\\84.0.4147.30\\chromedriver.exe] found in cache\n"
     ]
    },
    {
     "name": "stdout",
     "output_type": "stream",
     "text": [
      " \n",
      "<small class=\"product-id meta quiet p_txt-sm\">65NANO80TNA</small>\n"
     ]
    },
    {
     "name": "stderr",
     "output_type": "stream",
     "text": [
      "[WDM] - Current google-chrome version is 84.0.4147\n",
      "[WDM] - Get LATEST driver version for 84.0.4147\n",
      "[WDM] - Driver [C:\\Users\\racha\\.wdm\\drivers\\chromedriver\\win32\\84.0.4147.30\\chromedriver.exe] found in cache\n"
     ]
    },
    {
     "name": "stdout",
     "output_type": "stream",
     "text": [
      " \n",
      "<small class=\"product-id meta quiet p_txt-sm\">65NANO86TNA</small>\n"
     ]
    },
    {
     "name": "stderr",
     "output_type": "stream",
     "text": [
      "[WDM] - Current google-chrome version is 84.0.4147\n",
      "[WDM] - Get LATEST driver version for 84.0.4147\n",
      "[WDM] - Driver [C:\\Users\\racha\\.wdm\\drivers\\chromedriver\\win32\\84.0.4147.30\\chromedriver.exe] found in cache\n"
     ]
    },
    {
     "name": "stdout",
     "output_type": "stream",
     "text": [
      " \n",
      "None\n"
     ]
    },
    {
     "name": "stderr",
     "output_type": "stream",
     "text": [
      "[WDM] - Current google-chrome version is 84.0.4147\n",
      "[WDM] - Get LATEST driver version for 84.0.4147\n",
      "[WDM] - Driver [C:\\Users\\racha\\.wdm\\drivers\\chromedriver\\win32\\84.0.4147.30\\chromedriver.exe] found in cache\n"
     ]
    },
    {
     "name": "stdout",
     "output_type": "stream",
     "text": [
      " \n",
      "None\n"
     ]
    },
    {
     "name": "stderr",
     "output_type": "stream",
     "text": [
      "[WDM] - Current google-chrome version is 84.0.4147\n",
      "[WDM] - Get LATEST driver version for 84.0.4147\n",
      "[WDM] - Driver [C:\\Users\\racha\\.wdm\\drivers\\chromedriver\\win32\\84.0.4147.30\\chromedriver.exe] found in cache\n"
     ]
    },
    {
     "name": "stdout",
     "output_type": "stream",
     "text": [
      " \n",
      "None\n"
     ]
    },
    {
     "name": "stderr",
     "output_type": "stream",
     "text": [
      "[WDM] - Current google-chrome version is 84.0.4147\n",
      "[WDM] - Get LATEST driver version for 84.0.4147\n",
      "[WDM] - Driver [C:\\Users\\racha\\.wdm\\drivers\\chromedriver\\win32\\84.0.4147.30\\chromedriver.exe] found in cache\n"
     ]
    },
    {
     "name": "stdout",
     "output_type": "stream",
     "text": [
      " \n",
      "None\n"
     ]
    },
    {
     "name": "stderr",
     "output_type": "stream",
     "text": [
      "[WDM] - Current google-chrome version is 84.0.4147\n",
      "[WDM] - Get LATEST driver version for 84.0.4147\n",
      "[WDM] - Driver [C:\\Users\\racha\\.wdm\\drivers\\chromedriver\\win32\\84.0.4147.30\\chromedriver.exe] found in cache\n"
     ]
    },
    {
     "name": "stdout",
     "output_type": "stream",
     "text": [
      " \n",
      "None\n"
     ]
    },
    {
     "name": "stderr",
     "output_type": "stream",
     "text": [
      "[WDM] - Current google-chrome version is 84.0.4147\n",
      "[WDM] - Get LATEST driver version for 84.0.4147\n"
     ]
    },
    {
     "name": "stdout",
     "output_type": "stream",
     "text": [
      " \n"
     ]
    },
    {
     "name": "stderr",
     "output_type": "stream",
     "text": [
      "[WDM] - Driver [C:\\Users\\racha\\.wdm\\drivers\\chromedriver\\win32\\84.0.4147.30\\chromedriver.exe] found in cache\n"
     ]
    },
    {
     "name": "stdout",
     "output_type": "stream",
     "text": [
      "None\n"
     ]
    },
    {
     "name": "stderr",
     "output_type": "stream",
     "text": [
      "[WDM] - Current google-chrome version is 84.0.4147\n",
      "[WDM] - Get LATEST driver version for 84.0.4147\n",
      "[WDM] - Driver [C:\\Users\\racha\\.wdm\\drivers\\chromedriver\\win32\\84.0.4147.30\\chromedriver.exe] found in cache\n"
     ]
    },
    {
     "name": "stdout",
     "output_type": "stream",
     "text": [
      " \n",
      "None\n"
     ]
    },
    {
     "name": "stderr",
     "output_type": "stream",
     "text": [
      "[WDM] - Current google-chrome version is 84.0.4147\n",
      "[WDM] - Get LATEST driver version for 84.0.4147\n",
      "[WDM] - Driver [C:\\Users\\racha\\.wdm\\drivers\\chromedriver\\win32\\84.0.4147.30\\chromedriver.exe] found in cache\n"
     ]
    },
    {
     "name": "stdout",
     "output_type": "stream",
     "text": [
      " \n",
      "None\n"
     ]
    },
    {
     "name": "stderr",
     "output_type": "stream",
     "text": [
      "[WDM] - Current google-chrome version is 84.0.4147\n",
      "[WDM] - Get LATEST driver version for 84.0.4147\n",
      "[WDM] - Driver [C:\\Users\\racha\\.wdm\\drivers\\chromedriver\\win32\\84.0.4147.30\\chromedriver.exe] found in cache\n"
     ]
    },
    {
     "name": "stdout",
     "output_type": "stream",
     "text": [
      " \n",
      "None\n"
     ]
    },
    {
     "name": "stderr",
     "output_type": "stream",
     "text": [
      "[WDM] - Current google-chrome version is 84.0.4147\n",
      "[WDM] - Get LATEST driver version for 84.0.4147\n"
     ]
    },
    {
     "name": "stdout",
     "output_type": "stream",
     "text": [
      " \n"
     ]
    },
    {
     "name": "stderr",
     "output_type": "stream",
     "text": [
      "[WDM] - Driver [C:\\Users\\racha\\.wdm\\drivers\\chromedriver\\win32\\84.0.4147.30\\chromedriver.exe] found in cache\n"
     ]
    },
    {
     "name": "stdout",
     "output_type": "stream",
     "text": [
      "None\n"
     ]
    },
    {
     "name": "stderr",
     "output_type": "stream",
     "text": [
      "[WDM] - Current google-chrome version is 84.0.4147\n",
      "[WDM] - Get LATEST driver version for 84.0.4147\n",
      "[WDM] - Driver [C:\\Users\\racha\\.wdm\\drivers\\chromedriver\\win32\\84.0.4147.30\\chromedriver.exe] found in cache\n"
     ]
    },
    {
     "name": "stdout",
     "output_type": "stream",
     "text": [
      " \n",
      "None\n"
     ]
    },
    {
     "name": "stderr",
     "output_type": "stream",
     "text": [
      "[WDM] - Current google-chrome version is 84.0.4147\n",
      "[WDM] - Get LATEST driver version for 84.0.4147\n",
      "[WDM] - Driver [C:\\Users\\racha\\.wdm\\drivers\\chromedriver\\win32\\84.0.4147.30\\chromedriver.exe] found in cache\n"
     ]
    },
    {
     "name": "stdout",
     "output_type": "stream",
     "text": [
      " \n",
      "None\n"
     ]
    },
    {
     "name": "stderr",
     "output_type": "stream",
     "text": [
      "[WDM] - Current google-chrome version is 84.0.4147\n",
      "[WDM] - Get LATEST driver version for 84.0.4147\n",
      "[WDM] - Driver [C:\\Users\\racha\\.wdm\\drivers\\chromedriver\\win32\\84.0.4147.30\\chromedriver.exe] found in cache\n"
     ]
    },
    {
     "name": "stdout",
     "output_type": "stream",
     "text": [
      " \n",
      "None\n"
     ]
    },
    {
     "name": "stderr",
     "output_type": "stream",
     "text": [
      "[WDM] - Current google-chrome version is 84.0.4147\n",
      "[WDM] - Get LATEST driver version for 84.0.4147\n"
     ]
    },
    {
     "name": "stdout",
     "output_type": "stream",
     "text": [
      " \n"
     ]
    },
    {
     "name": "stderr",
     "output_type": "stream",
     "text": [
      "[WDM] - Driver [C:\\Users\\racha\\.wdm\\drivers\\chromedriver\\win32\\84.0.4147.30\\chromedriver.exe] found in cache\n"
     ]
    },
    {
     "name": "stdout",
     "output_type": "stream",
     "text": [
      "None\n"
     ]
    }
   ],
   "source": [
    "Model = []\n",
    " \n",
    "for i in range(len(link_list)):\n",
    "    url = link_list[i]\n",
    "    response = requests.get(url)\n",
    "    executable_path = {'executable_path': ChromeDriverManager().install()}\n",
    "    browser = Browser('chrome', **executable_path, headless=True)\n",
    "    browser.visit(url)\n",
    "    # Create BeautifulSoup object; parse with 'html.parser'\n",
    "    soup = BeautifulSoup(browser.html, 'html.parser')\n",
    "    data = soup.find('small', class_=\"product-id meta quiet p_txt-sm\")\n",
    "    print(data)\n",
    "    try:\n",
    "        Model.append(data.text)\n",
    "    except:\n",
    "        Model.append('NA')\n",
    "    sleep(1)\n"
   ]
  },
  {
   "cell_type": "code",
   "execution_count": 19,
   "metadata": {},
   "outputs": [
    {
     "data": {
      "text/plain": [
       "138"
      ]
     },
     "execution_count": 19,
     "metadata": {},
     "output_type": "execute_result"
    }
   ],
   "source": [
    "len(Model)"
   ]
  },
  {
   "cell_type": "code",
   "execution_count": 20,
   "metadata": {},
   "outputs": [
    {
     "data": {
      "text/plain": [
       "['10001325',\n",
       " 'NA',\n",
       " 'REVADVANCED',\n",
       " 'BBANIMAL',\n",
       " 'FWM45',\n",
       " 'ARM-560CDA-AU',\n",
       " 'KD65X9500H',\n",
       " '65S8',\n",
       " '55NANO80TNA',\n",
       " '75S8',\n",
       " '65C715',\n",
       " 'QA75Q60TAWXXY',\n",
       " 'KD55X8000H',\n",
       " 'QA65LS03TAWXXY',\n",
       " 'QA82Q800TAWXXY',\n",
       " 'QA75Q800TAWXXY',\n",
       " 'QA65Q800TAWXXY',\n",
       " 'QA75Q95TAWXXY',\n",
       " 'QA55Q95TAWXXY',\n",
       " 'QA75Q80TAWXXY',\n",
       " 'QA65Q80TAWXXY',\n",
       " 'QA55Q80TAWXXY',\n",
       " 'QA85Q70TAWXXY',\n",
       " 'QA75Q70TAWXXY',\n",
       " 'QA65Q70TAWXXY',\n",
       " 'OLED55CXPTA',\n",
       " 'OLED65CXPTA',\n",
       " 'OLED77CXPTA',\n",
       " '65NANO99TNA',\n",
       " '75NANO99TNA',\n",
       " '65NANO80TNA',\n",
       " '65NANO86TNA',\n",
       " '65NANO91TNA',\n",
       " '75NANO91TNA',\n",
       " '65NANO95TNA',\n",
       " '75NANO95TNA',\n",
       " 'KD75X9500H',\n",
       " '75Q8',\n",
       " '65Q8',\n",
       " '55Q8',\n",
       " 'QA75LS03TAWXXY',\n",
       " 'QA55LS03TAWXXY',\n",
       " 'QA85Q950TSWXXY',\n",
       " 'QA75Q950TSWXXY',\n",
       " 'QA65Q950TSWXXY',\n",
       " '100P715',\n",
       " '10001325',\n",
       " 'NA',\n",
       " 'REVADVANCED',\n",
       " 'BBANIMAL',\n",
       " 'FWM45',\n",
       " 'ARM-560CDA-AU',\n",
       " 'KD65X9500H',\n",
       " '65S8',\n",
       " '55NANO80TNA',\n",
       " '75S8',\n",
       " '65C715',\n",
       " 'QA75Q60TAWXXY',\n",
       " 'KD55X8000H',\n",
       " 'QA65LS03TAWXXY',\n",
       " 'QA82Q800TAWXXY',\n",
       " 'QA75Q800TAWXXY',\n",
       " 'QA65Q800TAWXXY',\n",
       " 'QA75Q95TAWXXY',\n",
       " 'QA55Q95TAWXXY',\n",
       " 'QA75Q80TAWXXY',\n",
       " 'QA65Q80TAWXXY',\n",
       " 'QA55Q80TAWXXY',\n",
       " 'QA85Q70TAWXXY',\n",
       " 'QA75Q70TAWXXY',\n",
       " 'QA65Q70TAWXXY',\n",
       " 'OLED55CXPTA',\n",
       " 'OLED65CXPTA',\n",
       " 'OLED77CXPTA',\n",
       " '65NANO99TNA',\n",
       " '75NANO99TNA',\n",
       " '65NANO80TNA',\n",
       " '65NANO86TNA',\n",
       " '65NANO91TNA',\n",
       " '75NANO91TNA',\n",
       " '65NANO95TNA',\n",
       " '75NANO95TNA',\n",
       " 'KD75X9500H',\n",
       " '75Q8',\n",
       " '65Q8',\n",
       " '55Q8',\n",
       " 'QA75LS03TAWXXY',\n",
       " 'QA55LS03TAWXXY',\n",
       " 'QA85Q950TSWXXY',\n",
       " 'QA75Q950TSWXXY',\n",
       " 'QA65Q950TSWXXY',\n",
       " '100P715',\n",
       " '10001325',\n",
       " 'NA',\n",
       " 'REVADVANCED',\n",
       " 'BBANIMAL',\n",
       " 'FWM45',\n",
       " 'ARM-560CDA-AU',\n",
       " 'KD65X9500H',\n",
       " '65S8',\n",
       " '55NANO80TNA',\n",
       " '75S8',\n",
       " '65C715',\n",
       " 'QA75Q60TAWXXY',\n",
       " 'KD55X8000H',\n",
       " 'QA65LS03TAWXXY',\n",
       " 'QA82Q800TAWXXY',\n",
       " 'QA75Q800TAWXXY',\n",
       " 'QA65Q800TAWXXY',\n",
       " 'QA75Q95TAWXXY',\n",
       " 'QA55Q95TAWXXY',\n",
       " 'QA75Q80TAWXXY',\n",
       " 'QA65Q80TAWXXY',\n",
       " 'QA55Q80TAWXXY',\n",
       " 'QA85Q70TAWXXY',\n",
       " 'QA75Q70TAWXXY',\n",
       " 'QA65Q70TAWXXY',\n",
       " 'OLED55CXPTA',\n",
       " 'OLED65CXPTA',\n",
       " 'OLED77CXPTA',\n",
       " '65NANO99TNA',\n",
       " '75NANO99TNA',\n",
       " '65NANO80TNA',\n",
       " '65NANO86TNA',\n",
       " 'NA',\n",
       " 'NA',\n",
       " 'NA',\n",
       " 'NA',\n",
       " 'NA',\n",
       " 'NA',\n",
       " 'NA',\n",
       " 'NA',\n",
       " 'NA',\n",
       " 'NA',\n",
       " 'NA',\n",
       " 'NA',\n",
       " 'NA',\n",
       " 'NA']"
      ]
     },
     "execution_count": 20,
     "metadata": {},
     "output_type": "execute_result"
    }
   ],
   "source": [
    "Model"
   ]
  },
  {
   "cell_type": "code",
   "execution_count": null,
   "metadata": {},
   "outputs": [],
   "source": []
  },
  {
   "cell_type": "code",
   "execution_count": null,
   "metadata": {},
   "outputs": [],
   "source": []
  },
  {
   "cell_type": "code",
   "execution_count": null,
   "metadata": {},
   "outputs": [],
   "source": []
  },
  {
   "cell_type": "code",
   "execution_count": null,
   "metadata": {},
   "outputs": [],
   "source": [
    "\n"
   ]
  },
  {
   "cell_type": "code",
   "execution_count": null,
   "metadata": {},
   "outputs": [],
   "source": []
  },
  {
   "cell_type": "code",
   "execution_count": 21,
   "metadata": {},
   "outputs": [],
   "source": [
    "#create a dictionary of names and price and convert it into dataframe using pandas\n",
    "d = {'Name': names, 'Price': prices, 'Model': Model}"
   ]
  },
  {
   "cell_type": "code",
   "execution_count": 22,
   "metadata": {},
   "outputs": [],
   "source": [
    "import pandas as pd\n",
    "pd.set_option('display.max_rows', None) #to check more than 5 rows when viewing dataframe\n",
    "df = pd.DataFrame(d)"
   ]
  },
  {
   "cell_type": "code",
   "execution_count": 23,
   "metadata": {},
   "outputs": [
    {
     "data": {
      "text/html": [
       "<div>\n",
       "<style scoped>\n",
       "    .dataframe tbody tr th:only-of-type {\n",
       "        vertical-align: middle;\n",
       "    }\n",
       "\n",
       "    .dataframe tbody tr th {\n",
       "        vertical-align: top;\n",
       "    }\n",
       "\n",
       "    .dataframe thead th {\n",
       "        text-align: right;\n",
       "    }\n",
       "</style>\n",
       "<table border=\"1\" class=\"dataframe\">\n",
       "  <thead>\n",
       "    <tr style=\"text-align: right;\">\n",
       "      <th></th>\n",
       "      <th>Name</th>\n",
       "      <th>Price</th>\n",
       "      <th>Model</th>\n",
       "    </tr>\n",
       "  </thead>\n",
       "  <tbody>\n",
       "    <tr>\n",
       "      <th>0</th>\n",
       "      <td>Disposable 3-Ply Face Masks - 50 Pack</td>\n",
       "      <td>$45</td>\n",
       "      <td>10001325</td>\n",
       "    </tr>\n",
       "    <tr>\n",
       "      <th>1</th>\n",
       "      <td>JBL Reflect Contour 2 Wireless In-Ear Sport He...</td>\n",
       "      <td>\\n$79</td>\n",
       "      <td>NA</td>\n",
       "    </tr>\n",
       "    <tr>\n",
       "      <th>2</th>\n",
       "      <td>Revitive Advanced Circulation Booster</td>\n",
       "      <td>\\n$279</td>\n",
       "      <td>REVADVANCED</td>\n",
       "    </tr>\n",
       "    <tr>\n",
       "      <th>3</th>\n",
       "      <td>Dyson Cinetic Big Ball Animal Vacuum Cleaner</td>\n",
       "      <td>$699</td>\n",
       "      <td>BBANIMAL</td>\n",
       "    </tr>\n",
       "    <tr>\n",
       "      <th>4</th>\n",
       "      <td>Beurer FWM 45 Massage Foot Warmer</td>\n",
       "      <td>$85</td>\n",
       "      <td>FWM45</td>\n",
       "    </tr>\n",
       "    <tr>\n",
       "      <th>5</th>\n",
       "      <td>HoMedics Ellia Refresh Ultrasonic Aroma Diffus...</td>\n",
       "      <td>$99.95</td>\n",
       "      <td>ARM-560CDA-AU</td>\n",
       "    </tr>\n",
       "    <tr>\n",
       "      <th>6</th>\n",
       "      <td>Sony 65-inch X95H 4K UHD LED LCD Smart TV</td>\n",
       "      <td>\\n$2995</td>\n",
       "      <td>KD65X9500H</td>\n",
       "    </tr>\n",
       "    <tr>\n",
       "      <th>7</th>\n",
       "      <td>Hisense 65-inch S8 4K LED LCD Smart TV</td>\n",
       "      <td>$1395</td>\n",
       "      <td>65S8</td>\n",
       "    </tr>\n",
       "    <tr>\n",
       "      <th>8</th>\n",
       "      <td>LG 55-inch Nano80 4K NanoCell Ai ThinQ Smart TV</td>\n",
       "      <td>$1495</td>\n",
       "      <td>55NANO80TNA</td>\n",
       "    </tr>\n",
       "    <tr>\n",
       "      <th>9</th>\n",
       "      <td>Hisense 75-inch S8 4K LED LCD Smart TV</td>\n",
       "      <td>\\n$1895</td>\n",
       "      <td>75S8</td>\n",
       "    </tr>\n",
       "    <tr>\n",
       "      <th>10</th>\n",
       "      <td>TCL 65-inch C715 4K QLED Smart TV</td>\n",
       "      <td>\\n$1595</td>\n",
       "      <td>65C715</td>\n",
       "    </tr>\n",
       "    <tr>\n",
       "      <th>11</th>\n",
       "      <td>Samsung 75-inch Q60T 4K QLED Smart TV</td>\n",
       "      <td>$2895</td>\n",
       "      <td>QA75Q60TAWXXY</td>\n",
       "    </tr>\n",
       "    <tr>\n",
       "      <th>12</th>\n",
       "      <td>Sony 55-inch X80H 4K UHD LED LCD Smart TV</td>\n",
       "      <td>\\n$1295</td>\n",
       "      <td>KD55X8000H</td>\n",
       "    </tr>\n",
       "    <tr>\n",
       "      <th>13</th>\n",
       "      <td>Samsung 65-inch The Frame LS03T 4K QLED Smart TV</td>\n",
       "      <td>$2695</td>\n",
       "      <td>QA65LS03TAWXXY</td>\n",
       "    </tr>\n",
       "    <tr>\n",
       "      <th>14</th>\n",
       "      <td>Samsung 82-inch Q800T 8K QLED Smart TV</td>\n",
       "      <td>$8995</td>\n",
       "      <td>QA82Q800TAWXXY</td>\n",
       "    </tr>\n",
       "    <tr>\n",
       "      <th>15</th>\n",
       "      <td>Samsung 75-inch Q800T 8K QLED Smart TV</td>\n",
       "      <td>\\n$5995</td>\n",
       "      <td>QA75Q800TAWXXY</td>\n",
       "    </tr>\n",
       "    <tr>\n",
       "      <th>16</th>\n",
       "      <td>Samsung 65-inch Q800T 8K QLED Smart TV</td>\n",
       "      <td>$4795</td>\n",
       "      <td>QA65Q800TAWXXY</td>\n",
       "    </tr>\n",
       "    <tr>\n",
       "      <th>17</th>\n",
       "      <td>Samsung 75-inch Q95T 4K QLED Smart TV</td>\n",
       "      <td>$5995</td>\n",
       "      <td>QA75Q95TAWXXY</td>\n",
       "    </tr>\n",
       "    <tr>\n",
       "      <th>18</th>\n",
       "      <td>Samsung 55-inch Q95T 4K QLED Smart TV</td>\n",
       "      <td>$2995</td>\n",
       "      <td>QA55Q95TAWXXY</td>\n",
       "    </tr>\n",
       "    <tr>\n",
       "      <th>19</th>\n",
       "      <td>Samsung 75-inch Q80T 4K QLED Smart TV</td>\n",
       "      <td>$4495</td>\n",
       "      <td>QA75Q80TAWXXY</td>\n",
       "    </tr>\n",
       "    <tr>\n",
       "      <th>20</th>\n",
       "      <td>Samsung 65-inch Q80T 4K QLED Smart TV</td>\n",
       "      <td>$2995</td>\n",
       "      <td>QA65Q80TAWXXY</td>\n",
       "    </tr>\n",
       "    <tr>\n",
       "      <th>21</th>\n",
       "      <td>Samsung 55-inch Q80T 4K QLED Smart TV</td>\n",
       "      <td>$2195</td>\n",
       "      <td>QA55Q80TAWXXY</td>\n",
       "    </tr>\n",
       "    <tr>\n",
       "      <th>22</th>\n",
       "      <td>Samsung 85-inch Q70T 4K QLED Smart TV</td>\n",
       "      <td>$5495</td>\n",
       "      <td>QA85Q70TAWXXY</td>\n",
       "    </tr>\n",
       "    <tr>\n",
       "      <th>23</th>\n",
       "      <td>Samsung 75-inch Q70T 4K QLED Smart TV</td>\n",
       "      <td>$3495</td>\n",
       "      <td>QA75Q70TAWXXY</td>\n",
       "    </tr>\n",
       "    <tr>\n",
       "      <th>24</th>\n",
       "      <td>Samsung 65-inch Q70T 4K QLED Smart TV</td>\n",
       "      <td>$2295</td>\n",
       "      <td>QA65Q70TAWXXY</td>\n",
       "    </tr>\n",
       "    <tr>\n",
       "      <th>25</th>\n",
       "      <td>LG 55-inch CX Cinema Series 4K UHD Self-lit OL...</td>\n",
       "      <td>\\n$3095</td>\n",
       "      <td>OLED55CXPTA</td>\n",
       "    </tr>\n",
       "    <tr>\n",
       "      <th>26</th>\n",
       "      <td>LG 65-inch CX Cinema Series 4K UHD Self-lit OL...</td>\n",
       "      <td>\\n$4295</td>\n",
       "      <td>OLED65CXPTA</td>\n",
       "    </tr>\n",
       "    <tr>\n",
       "      <th>27</th>\n",
       "      <td>LG 77-inch CX Cinema Series 4K UHD Self-lit OL...</td>\n",
       "      <td>\\n$7995</td>\n",
       "      <td>OLED77CXPTA</td>\n",
       "    </tr>\n",
       "    <tr>\n",
       "      <th>28</th>\n",
       "      <td>LG 65-inch Nano99 8K NanoCell Ai ThinQ Smart TV</td>\n",
       "      <td>$5495</td>\n",
       "      <td>65NANO99TNA</td>\n",
       "    </tr>\n",
       "    <tr>\n",
       "      <th>29</th>\n",
       "      <td>LG 75-inch Nano99 8K NanoCell Ai ThinQ Smart TV</td>\n",
       "      <td>$7495</td>\n",
       "      <td>75NANO99TNA</td>\n",
       "    </tr>\n",
       "    <tr>\n",
       "      <th>30</th>\n",
       "      <td>LG 65-inch Nano80 4K NanoCell Ai ThinQ Smart TV</td>\n",
       "      <td>$1895</td>\n",
       "      <td>65NANO80TNA</td>\n",
       "    </tr>\n",
       "    <tr>\n",
       "      <th>31</th>\n",
       "      <td>LG 65-inch Nano86 4K NanoCell Ai ThinQ Smart TV</td>\n",
       "      <td>$2295</td>\n",
       "      <td>65NANO86TNA</td>\n",
       "    </tr>\n",
       "    <tr>\n",
       "      <th>32</th>\n",
       "      <td>LG 65-inch Nano91 4K NanoCell Ai ThinQ Smart TV</td>\n",
       "      <td>$2695</td>\n",
       "      <td>65NANO91TNA</td>\n",
       "    </tr>\n",
       "    <tr>\n",
       "      <th>33</th>\n",
       "      <td>LG 75-inch Nano91 4K NanoCell Ai ThinQ Smart TV</td>\n",
       "      <td>$4195</td>\n",
       "      <td>75NANO91TNA</td>\n",
       "    </tr>\n",
       "    <tr>\n",
       "      <th>34</th>\n",
       "      <td>LG 65-inch Nano95 8K NanoCell Ai ThinQ Smart TV</td>\n",
       "      <td>$3995</td>\n",
       "      <td>65NANO95TNA</td>\n",
       "    </tr>\n",
       "    <tr>\n",
       "      <th>35</th>\n",
       "      <td>LG 75-inch Nano95 8K NanoCell Ai ThinQ Smart TV</td>\n",
       "      <td>$5495</td>\n",
       "      <td>75NANO95TNA</td>\n",
       "    </tr>\n",
       "    <tr>\n",
       "      <th>36</th>\n",
       "      <td>Sony 75-inch X95H 4K UHD LED LCD Smart TV</td>\n",
       "      <td>\\n$3995</td>\n",
       "      <td>KD75X9500H</td>\n",
       "    </tr>\n",
       "    <tr>\n",
       "      <th>37</th>\n",
       "      <td>Hisense 75-inch Q8 4K ULED Smart TV</td>\n",
       "      <td>$3495</td>\n",
       "      <td>75Q8</td>\n",
       "    </tr>\n",
       "    <tr>\n",
       "      <th>38</th>\n",
       "      <td>Hisense 65-inch Q8 4K ULED Smart TV</td>\n",
       "      <td>\\n$1995</td>\n",
       "      <td>65Q8</td>\n",
       "    </tr>\n",
       "    <tr>\n",
       "      <th>39</th>\n",
       "      <td>Hisense 55-inch Q8 4K ULED Smart TV</td>\n",
       "      <td>$1595</td>\n",
       "      <td>55Q8</td>\n",
       "    </tr>\n",
       "    <tr>\n",
       "      <th>40</th>\n",
       "      <td>Samsung 75-inch The Frame LS03T 4K QLED Smart TV</td>\n",
       "      <td>$3995</td>\n",
       "      <td>QA75LS03TAWXXY</td>\n",
       "    </tr>\n",
       "    <tr>\n",
       "      <th>41</th>\n",
       "      <td>Samsung 55-inch The Frame LS03T 4K QLED Smart TV</td>\n",
       "      <td>$1995</td>\n",
       "      <td>QA55LS03TAWXXY</td>\n",
       "    </tr>\n",
       "    <tr>\n",
       "      <th>42</th>\n",
       "      <td>Samsung 85-inch Q950T 8K QLED Smart TV</td>\n",
       "      <td>$12995</td>\n",
       "      <td>QA85Q950TSWXXY</td>\n",
       "    </tr>\n",
       "    <tr>\n",
       "      <th>43</th>\n",
       "      <td>Samsung 75-inch Q950T 8K QLED Smart TV</td>\n",
       "      <td>$7995</td>\n",
       "      <td>QA75Q950TSWXXY</td>\n",
       "    </tr>\n",
       "    <tr>\n",
       "      <th>44</th>\n",
       "      <td>Samsung 65-inch Q950T 8K QLED Smart TV</td>\n",
       "      <td>$5995</td>\n",
       "      <td>QA65Q950TSWXXY</td>\n",
       "    </tr>\n",
       "    <tr>\n",
       "      <th>45</th>\n",
       "      <td>TCL 100-inch P715 QUHD LED LCD Smart TV</td>\n",
       "      <td>$12995</td>\n",
       "      <td>100P715</td>\n",
       "    </tr>\n",
       "    <tr>\n",
       "      <th>46</th>\n",
       "      <td>Disposable 3-Ply Face Masks - 50 Pack</td>\n",
       "      <td>$45</td>\n",
       "      <td>10001325</td>\n",
       "    </tr>\n",
       "    <tr>\n",
       "      <th>47</th>\n",
       "      <td>JBL Reflect Contour 2 Wireless In-Ear Sport He...</td>\n",
       "      <td>\\n$79</td>\n",
       "      <td>NA</td>\n",
       "    </tr>\n",
       "    <tr>\n",
       "      <th>48</th>\n",
       "      <td>Revitive Advanced Circulation Booster</td>\n",
       "      <td>\\n$279</td>\n",
       "      <td>REVADVANCED</td>\n",
       "    </tr>\n",
       "    <tr>\n",
       "      <th>49</th>\n",
       "      <td>Dyson Cinetic Big Ball Animal Vacuum Cleaner</td>\n",
       "      <td>$699</td>\n",
       "      <td>BBANIMAL</td>\n",
       "    </tr>\n",
       "    <tr>\n",
       "      <th>50</th>\n",
       "      <td>Beurer FWM 45 Massage Foot Warmer</td>\n",
       "      <td>$85</td>\n",
       "      <td>FWM45</td>\n",
       "    </tr>\n",
       "    <tr>\n",
       "      <th>51</th>\n",
       "      <td>HoMedics Ellia Refresh Ultrasonic Aroma Diffus...</td>\n",
       "      <td>$99.95</td>\n",
       "      <td>ARM-560CDA-AU</td>\n",
       "    </tr>\n",
       "    <tr>\n",
       "      <th>52</th>\n",
       "      <td>Sony 65-inch X95H 4K UHD LED LCD Smart TV</td>\n",
       "      <td>\\n$2995</td>\n",
       "      <td>KD65X9500H</td>\n",
       "    </tr>\n",
       "    <tr>\n",
       "      <th>53</th>\n",
       "      <td>Hisense 65-inch S8 4K LED LCD Smart TV</td>\n",
       "      <td>$1395</td>\n",
       "      <td>65S8</td>\n",
       "    </tr>\n",
       "    <tr>\n",
       "      <th>54</th>\n",
       "      <td>LG 55-inch Nano80 4K NanoCell Ai ThinQ Smart TV</td>\n",
       "      <td>$1495</td>\n",
       "      <td>55NANO80TNA</td>\n",
       "    </tr>\n",
       "    <tr>\n",
       "      <th>55</th>\n",
       "      <td>Hisense 75-inch S8 4K LED LCD Smart TV</td>\n",
       "      <td>\\n$1895</td>\n",
       "      <td>75S8</td>\n",
       "    </tr>\n",
       "    <tr>\n",
       "      <th>56</th>\n",
       "      <td>TCL 65-inch C715 4K QLED Smart TV</td>\n",
       "      <td>\\n$1595</td>\n",
       "      <td>65C715</td>\n",
       "    </tr>\n",
       "    <tr>\n",
       "      <th>57</th>\n",
       "      <td>Samsung 75-inch Q60T 4K QLED Smart TV</td>\n",
       "      <td>$2895</td>\n",
       "      <td>QA75Q60TAWXXY</td>\n",
       "    </tr>\n",
       "    <tr>\n",
       "      <th>58</th>\n",
       "      <td>Sony 55-inch X80H 4K UHD LED LCD Smart TV</td>\n",
       "      <td>\\n$1295</td>\n",
       "      <td>KD55X8000H</td>\n",
       "    </tr>\n",
       "    <tr>\n",
       "      <th>59</th>\n",
       "      <td>Samsung 65-inch The Frame LS03T 4K QLED Smart TV</td>\n",
       "      <td>$2695</td>\n",
       "      <td>QA65LS03TAWXXY</td>\n",
       "    </tr>\n",
       "    <tr>\n",
       "      <th>60</th>\n",
       "      <td>Samsung 82-inch Q800T 8K QLED Smart TV</td>\n",
       "      <td>$8995</td>\n",
       "      <td>QA82Q800TAWXXY</td>\n",
       "    </tr>\n",
       "    <tr>\n",
       "      <th>61</th>\n",
       "      <td>Samsung 75-inch Q800T 8K QLED Smart TV</td>\n",
       "      <td>\\n$5995</td>\n",
       "      <td>QA75Q800TAWXXY</td>\n",
       "    </tr>\n",
       "    <tr>\n",
       "      <th>62</th>\n",
       "      <td>Samsung 65-inch Q800T 8K QLED Smart TV</td>\n",
       "      <td>$4795</td>\n",
       "      <td>QA65Q800TAWXXY</td>\n",
       "    </tr>\n",
       "    <tr>\n",
       "      <th>63</th>\n",
       "      <td>Samsung 75-inch Q95T 4K QLED Smart TV</td>\n",
       "      <td>$5995</td>\n",
       "      <td>QA75Q95TAWXXY</td>\n",
       "    </tr>\n",
       "    <tr>\n",
       "      <th>64</th>\n",
       "      <td>Samsung 55-inch Q95T 4K QLED Smart TV</td>\n",
       "      <td>$2995</td>\n",
       "      <td>QA55Q95TAWXXY</td>\n",
       "    </tr>\n",
       "    <tr>\n",
       "      <th>65</th>\n",
       "      <td>Samsung 75-inch Q80T 4K QLED Smart TV</td>\n",
       "      <td>$4495</td>\n",
       "      <td>QA75Q80TAWXXY</td>\n",
       "    </tr>\n",
       "    <tr>\n",
       "      <th>66</th>\n",
       "      <td>Samsung 65-inch Q80T 4K QLED Smart TV</td>\n",
       "      <td>$2995</td>\n",
       "      <td>QA65Q80TAWXXY</td>\n",
       "    </tr>\n",
       "    <tr>\n",
       "      <th>67</th>\n",
       "      <td>Samsung 55-inch Q80T 4K QLED Smart TV</td>\n",
       "      <td>$2195</td>\n",
       "      <td>QA55Q80TAWXXY</td>\n",
       "    </tr>\n",
       "    <tr>\n",
       "      <th>68</th>\n",
       "      <td>Samsung 85-inch Q70T 4K QLED Smart TV</td>\n",
       "      <td>$5495</td>\n",
       "      <td>QA85Q70TAWXXY</td>\n",
       "    </tr>\n",
       "    <tr>\n",
       "      <th>69</th>\n",
       "      <td>Samsung 75-inch Q70T 4K QLED Smart TV</td>\n",
       "      <td>$3495</td>\n",
       "      <td>QA75Q70TAWXXY</td>\n",
       "    </tr>\n",
       "    <tr>\n",
       "      <th>70</th>\n",
       "      <td>Samsung 65-inch Q70T 4K QLED Smart TV</td>\n",
       "      <td>$2295</td>\n",
       "      <td>QA65Q70TAWXXY</td>\n",
       "    </tr>\n",
       "    <tr>\n",
       "      <th>71</th>\n",
       "      <td>LG 55-inch CX Cinema Series 4K UHD Self-lit OL...</td>\n",
       "      <td>\\n$3095</td>\n",
       "      <td>OLED55CXPTA</td>\n",
       "    </tr>\n",
       "    <tr>\n",
       "      <th>72</th>\n",
       "      <td>LG 65-inch CX Cinema Series 4K UHD Self-lit OL...</td>\n",
       "      <td>\\n$4295</td>\n",
       "      <td>OLED65CXPTA</td>\n",
       "    </tr>\n",
       "    <tr>\n",
       "      <th>73</th>\n",
       "      <td>LG 77-inch CX Cinema Series 4K UHD Self-lit OL...</td>\n",
       "      <td>\\n$7995</td>\n",
       "      <td>OLED77CXPTA</td>\n",
       "    </tr>\n",
       "    <tr>\n",
       "      <th>74</th>\n",
       "      <td>LG 65-inch Nano99 8K NanoCell Ai ThinQ Smart TV</td>\n",
       "      <td>$5495</td>\n",
       "      <td>65NANO99TNA</td>\n",
       "    </tr>\n",
       "    <tr>\n",
       "      <th>75</th>\n",
       "      <td>LG 75-inch Nano99 8K NanoCell Ai ThinQ Smart TV</td>\n",
       "      <td>$7495</td>\n",
       "      <td>75NANO99TNA</td>\n",
       "    </tr>\n",
       "    <tr>\n",
       "      <th>76</th>\n",
       "      <td>LG 65-inch Nano80 4K NanoCell Ai ThinQ Smart TV</td>\n",
       "      <td>$1895</td>\n",
       "      <td>65NANO80TNA</td>\n",
       "    </tr>\n",
       "    <tr>\n",
       "      <th>77</th>\n",
       "      <td>LG 65-inch Nano86 4K NanoCell Ai ThinQ Smart TV</td>\n",
       "      <td>$2295</td>\n",
       "      <td>65NANO86TNA</td>\n",
       "    </tr>\n",
       "    <tr>\n",
       "      <th>78</th>\n",
       "      <td>LG 65-inch Nano91 4K NanoCell Ai ThinQ Smart TV</td>\n",
       "      <td>$2695</td>\n",
       "      <td>65NANO91TNA</td>\n",
       "    </tr>\n",
       "    <tr>\n",
       "      <th>79</th>\n",
       "      <td>LG 75-inch Nano91 4K NanoCell Ai ThinQ Smart TV</td>\n",
       "      <td>$4195</td>\n",
       "      <td>75NANO91TNA</td>\n",
       "    </tr>\n",
       "    <tr>\n",
       "      <th>80</th>\n",
       "      <td>LG 65-inch Nano95 8K NanoCell Ai ThinQ Smart TV</td>\n",
       "      <td>$3995</td>\n",
       "      <td>65NANO95TNA</td>\n",
       "    </tr>\n",
       "    <tr>\n",
       "      <th>81</th>\n",
       "      <td>LG 75-inch Nano95 8K NanoCell Ai ThinQ Smart TV</td>\n",
       "      <td>$5495</td>\n",
       "      <td>75NANO95TNA</td>\n",
       "    </tr>\n",
       "    <tr>\n",
       "      <th>82</th>\n",
       "      <td>Sony 75-inch X95H 4K UHD LED LCD Smart TV</td>\n",
       "      <td>\\n$3995</td>\n",
       "      <td>KD75X9500H</td>\n",
       "    </tr>\n",
       "    <tr>\n",
       "      <th>83</th>\n",
       "      <td>Hisense 75-inch Q8 4K ULED Smart TV</td>\n",
       "      <td>$3495</td>\n",
       "      <td>75Q8</td>\n",
       "    </tr>\n",
       "    <tr>\n",
       "      <th>84</th>\n",
       "      <td>Hisense 65-inch Q8 4K ULED Smart TV</td>\n",
       "      <td>\\n$1995</td>\n",
       "      <td>65Q8</td>\n",
       "    </tr>\n",
       "    <tr>\n",
       "      <th>85</th>\n",
       "      <td>Hisense 55-inch Q8 4K ULED Smart TV</td>\n",
       "      <td>$1595</td>\n",
       "      <td>55Q8</td>\n",
       "    </tr>\n",
       "    <tr>\n",
       "      <th>86</th>\n",
       "      <td>Samsung 75-inch The Frame LS03T 4K QLED Smart TV</td>\n",
       "      <td>$3995</td>\n",
       "      <td>QA75LS03TAWXXY</td>\n",
       "    </tr>\n",
       "    <tr>\n",
       "      <th>87</th>\n",
       "      <td>Samsung 55-inch The Frame LS03T 4K QLED Smart TV</td>\n",
       "      <td>$1995</td>\n",
       "      <td>QA55LS03TAWXXY</td>\n",
       "    </tr>\n",
       "    <tr>\n",
       "      <th>88</th>\n",
       "      <td>Samsung 85-inch Q950T 8K QLED Smart TV</td>\n",
       "      <td>$12995</td>\n",
       "      <td>QA85Q950TSWXXY</td>\n",
       "    </tr>\n",
       "    <tr>\n",
       "      <th>89</th>\n",
       "      <td>Samsung 75-inch Q950T 8K QLED Smart TV</td>\n",
       "      <td>$7995</td>\n",
       "      <td>QA75Q950TSWXXY</td>\n",
       "    </tr>\n",
       "    <tr>\n",
       "      <th>90</th>\n",
       "      <td>Samsung 65-inch Q950T 8K QLED Smart TV</td>\n",
       "      <td>$5995</td>\n",
       "      <td>QA65Q950TSWXXY</td>\n",
       "    </tr>\n",
       "    <tr>\n",
       "      <th>91</th>\n",
       "      <td>TCL 100-inch P715 QUHD LED LCD Smart TV</td>\n",
       "      <td>$12995</td>\n",
       "      <td>100P715</td>\n",
       "    </tr>\n",
       "    <tr>\n",
       "      <th>92</th>\n",
       "      <td>Disposable 3-Ply Face Masks - 50 Pack</td>\n",
       "      <td>$45</td>\n",
       "      <td>10001325</td>\n",
       "    </tr>\n",
       "    <tr>\n",
       "      <th>93</th>\n",
       "      <td>JBL Reflect Contour 2 Wireless In-Ear Sport He...</td>\n",
       "      <td>\\n$79</td>\n",
       "      <td>NA</td>\n",
       "    </tr>\n",
       "    <tr>\n",
       "      <th>94</th>\n",
       "      <td>Revitive Advanced Circulation Booster</td>\n",
       "      <td>\\n$279</td>\n",
       "      <td>REVADVANCED</td>\n",
       "    </tr>\n",
       "    <tr>\n",
       "      <th>95</th>\n",
       "      <td>Dyson Cinetic Big Ball Animal Vacuum Cleaner</td>\n",
       "      <td>$699</td>\n",
       "      <td>BBANIMAL</td>\n",
       "    </tr>\n",
       "    <tr>\n",
       "      <th>96</th>\n",
       "      <td>Beurer FWM 45 Massage Foot Warmer</td>\n",
       "      <td>$85</td>\n",
       "      <td>FWM45</td>\n",
       "    </tr>\n",
       "    <tr>\n",
       "      <th>97</th>\n",
       "      <td>HoMedics Ellia Refresh Ultrasonic Aroma Diffus...</td>\n",
       "      <td>$99.95</td>\n",
       "      <td>ARM-560CDA-AU</td>\n",
       "    </tr>\n",
       "    <tr>\n",
       "      <th>98</th>\n",
       "      <td>Sony 65-inch X95H 4K UHD LED LCD Smart TV</td>\n",
       "      <td>\\n$2995</td>\n",
       "      <td>KD65X9500H</td>\n",
       "    </tr>\n",
       "    <tr>\n",
       "      <th>99</th>\n",
       "      <td>Hisense 65-inch S8 4K LED LCD Smart TV</td>\n",
       "      <td>$1395</td>\n",
       "      <td>65S8</td>\n",
       "    </tr>\n",
       "    <tr>\n",
       "      <th>100</th>\n",
       "      <td>LG 55-inch Nano80 4K NanoCell Ai ThinQ Smart TV</td>\n",
       "      <td>$1495</td>\n",
       "      <td>55NANO80TNA</td>\n",
       "    </tr>\n",
       "    <tr>\n",
       "      <th>101</th>\n",
       "      <td>Hisense 75-inch S8 4K LED LCD Smart TV</td>\n",
       "      <td>\\n$1895</td>\n",
       "      <td>75S8</td>\n",
       "    </tr>\n",
       "    <tr>\n",
       "      <th>102</th>\n",
       "      <td>TCL 65-inch C715 4K QLED Smart TV</td>\n",
       "      <td>\\n$1595</td>\n",
       "      <td>65C715</td>\n",
       "    </tr>\n",
       "    <tr>\n",
       "      <th>103</th>\n",
       "      <td>Samsung 75-inch Q60T 4K QLED Smart TV</td>\n",
       "      <td>$2895</td>\n",
       "      <td>QA75Q60TAWXXY</td>\n",
       "    </tr>\n",
       "    <tr>\n",
       "      <th>104</th>\n",
       "      <td>Sony 55-inch X80H 4K UHD LED LCD Smart TV</td>\n",
       "      <td>\\n$1295</td>\n",
       "      <td>KD55X8000H</td>\n",
       "    </tr>\n",
       "    <tr>\n",
       "      <th>105</th>\n",
       "      <td>Samsung 65-inch The Frame LS03T 4K QLED Smart TV</td>\n",
       "      <td>$2695</td>\n",
       "      <td>QA65LS03TAWXXY</td>\n",
       "    </tr>\n",
       "    <tr>\n",
       "      <th>106</th>\n",
       "      <td>Samsung 82-inch Q800T 8K QLED Smart TV</td>\n",
       "      <td>$8995</td>\n",
       "      <td>QA82Q800TAWXXY</td>\n",
       "    </tr>\n",
       "    <tr>\n",
       "      <th>107</th>\n",
       "      <td>Samsung 75-inch Q800T 8K QLED Smart TV</td>\n",
       "      <td>\\n$5995</td>\n",
       "      <td>QA75Q800TAWXXY</td>\n",
       "    </tr>\n",
       "    <tr>\n",
       "      <th>108</th>\n",
       "      <td>Samsung 65-inch Q800T 8K QLED Smart TV</td>\n",
       "      <td>$4795</td>\n",
       "      <td>QA65Q800TAWXXY</td>\n",
       "    </tr>\n",
       "    <tr>\n",
       "      <th>109</th>\n",
       "      <td>Samsung 75-inch Q95T 4K QLED Smart TV</td>\n",
       "      <td>$5995</td>\n",
       "      <td>QA75Q95TAWXXY</td>\n",
       "    </tr>\n",
       "    <tr>\n",
       "      <th>110</th>\n",
       "      <td>Samsung 55-inch Q95T 4K QLED Smart TV</td>\n",
       "      <td>$2995</td>\n",
       "      <td>QA55Q95TAWXXY</td>\n",
       "    </tr>\n",
       "    <tr>\n",
       "      <th>111</th>\n",
       "      <td>Samsung 75-inch Q80T 4K QLED Smart TV</td>\n",
       "      <td>$4495</td>\n",
       "      <td>QA75Q80TAWXXY</td>\n",
       "    </tr>\n",
       "    <tr>\n",
       "      <th>112</th>\n",
       "      <td>Samsung 65-inch Q80T 4K QLED Smart TV</td>\n",
       "      <td>$2995</td>\n",
       "      <td>QA65Q80TAWXXY</td>\n",
       "    </tr>\n",
       "    <tr>\n",
       "      <th>113</th>\n",
       "      <td>Samsung 55-inch Q80T 4K QLED Smart TV</td>\n",
       "      <td>$2195</td>\n",
       "      <td>QA55Q80TAWXXY</td>\n",
       "    </tr>\n",
       "    <tr>\n",
       "      <th>114</th>\n",
       "      <td>Samsung 85-inch Q70T 4K QLED Smart TV</td>\n",
       "      <td>$5495</td>\n",
       "      <td>QA85Q70TAWXXY</td>\n",
       "    </tr>\n",
       "    <tr>\n",
       "      <th>115</th>\n",
       "      <td>Samsung 75-inch Q70T 4K QLED Smart TV</td>\n",
       "      <td>$3495</td>\n",
       "      <td>QA75Q70TAWXXY</td>\n",
       "    </tr>\n",
       "    <tr>\n",
       "      <th>116</th>\n",
       "      <td>Samsung 65-inch Q70T 4K QLED Smart TV</td>\n",
       "      <td>$2295</td>\n",
       "      <td>QA65Q70TAWXXY</td>\n",
       "    </tr>\n",
       "    <tr>\n",
       "      <th>117</th>\n",
       "      <td>LG 55-inch CX Cinema Series 4K UHD Self-lit OL...</td>\n",
       "      <td>\\n$3095</td>\n",
       "      <td>OLED55CXPTA</td>\n",
       "    </tr>\n",
       "    <tr>\n",
       "      <th>118</th>\n",
       "      <td>LG 65-inch CX Cinema Series 4K UHD Self-lit OL...</td>\n",
       "      <td>\\n$4295</td>\n",
       "      <td>OLED65CXPTA</td>\n",
       "    </tr>\n",
       "    <tr>\n",
       "      <th>119</th>\n",
       "      <td>LG 77-inch CX Cinema Series 4K UHD Self-lit OL...</td>\n",
       "      <td>\\n$7995</td>\n",
       "      <td>OLED77CXPTA</td>\n",
       "    </tr>\n",
       "    <tr>\n",
       "      <th>120</th>\n",
       "      <td>LG 65-inch Nano99 8K NanoCell Ai ThinQ Smart TV</td>\n",
       "      <td>$5495</td>\n",
       "      <td>65NANO99TNA</td>\n",
       "    </tr>\n",
       "    <tr>\n",
       "      <th>121</th>\n",
       "      <td>LG 75-inch Nano99 8K NanoCell Ai ThinQ Smart TV</td>\n",
       "      <td>$7495</td>\n",
       "      <td>75NANO99TNA</td>\n",
       "    </tr>\n",
       "    <tr>\n",
       "      <th>122</th>\n",
       "      <td>LG 65-inch Nano80 4K NanoCell Ai ThinQ Smart TV</td>\n",
       "      <td>$1895</td>\n",
       "      <td>65NANO80TNA</td>\n",
       "    </tr>\n",
       "    <tr>\n",
       "      <th>123</th>\n",
       "      <td>LG 65-inch Nano86 4K NanoCell Ai ThinQ Smart TV</td>\n",
       "      <td>$2295</td>\n",
       "      <td>65NANO86TNA</td>\n",
       "    </tr>\n",
       "    <tr>\n",
       "      <th>124</th>\n",
       "      <td>LG 65-inch Nano91 4K NanoCell Ai ThinQ Smart TV</td>\n",
       "      <td>$2695</td>\n",
       "      <td>NA</td>\n",
       "    </tr>\n",
       "    <tr>\n",
       "      <th>125</th>\n",
       "      <td>LG 75-inch Nano91 4K NanoCell Ai ThinQ Smart TV</td>\n",
       "      <td>$4195</td>\n",
       "      <td>NA</td>\n",
       "    </tr>\n",
       "    <tr>\n",
       "      <th>126</th>\n",
       "      <td>LG 65-inch Nano95 8K NanoCell Ai ThinQ Smart TV</td>\n",
       "      <td>$3995</td>\n",
       "      <td>NA</td>\n",
       "    </tr>\n",
       "    <tr>\n",
       "      <th>127</th>\n",
       "      <td>LG 75-inch Nano95 8K NanoCell Ai ThinQ Smart TV</td>\n",
       "      <td>$5495</td>\n",
       "      <td>NA</td>\n",
       "    </tr>\n",
       "    <tr>\n",
       "      <th>128</th>\n",
       "      <td>Sony 75-inch X95H 4K UHD LED LCD Smart TV</td>\n",
       "      <td>\\n$3995</td>\n",
       "      <td>NA</td>\n",
       "    </tr>\n",
       "    <tr>\n",
       "      <th>129</th>\n",
       "      <td>Hisense 75-inch Q8 4K ULED Smart TV</td>\n",
       "      <td>$3495</td>\n",
       "      <td>NA</td>\n",
       "    </tr>\n",
       "    <tr>\n",
       "      <th>130</th>\n",
       "      <td>Hisense 65-inch Q8 4K ULED Smart TV</td>\n",
       "      <td>\\n$1995</td>\n",
       "      <td>NA</td>\n",
       "    </tr>\n",
       "    <tr>\n",
       "      <th>131</th>\n",
       "      <td>Hisense 55-inch Q8 4K ULED Smart TV</td>\n",
       "      <td>$1595</td>\n",
       "      <td>NA</td>\n",
       "    </tr>\n",
       "    <tr>\n",
       "      <th>132</th>\n",
       "      <td>Samsung 75-inch The Frame LS03T 4K QLED Smart TV</td>\n",
       "      <td>$3995</td>\n",
       "      <td>NA</td>\n",
       "    </tr>\n",
       "    <tr>\n",
       "      <th>133</th>\n",
       "      <td>Samsung 55-inch The Frame LS03T 4K QLED Smart TV</td>\n",
       "      <td>$1995</td>\n",
       "      <td>NA</td>\n",
       "    </tr>\n",
       "    <tr>\n",
       "      <th>134</th>\n",
       "      <td>Samsung 85-inch Q950T 8K QLED Smart TV</td>\n",
       "      <td>$12995</td>\n",
       "      <td>NA</td>\n",
       "    </tr>\n",
       "    <tr>\n",
       "      <th>135</th>\n",
       "      <td>Samsung 75-inch Q950T 8K QLED Smart TV</td>\n",
       "      <td>$7995</td>\n",
       "      <td>NA</td>\n",
       "    </tr>\n",
       "    <tr>\n",
       "      <th>136</th>\n",
       "      <td>Samsung 65-inch Q950T 8K QLED Smart TV</td>\n",
       "      <td>$5995</td>\n",
       "      <td>NA</td>\n",
       "    </tr>\n",
       "    <tr>\n",
       "      <th>137</th>\n",
       "      <td>TCL 100-inch P715 QUHD LED LCD Smart TV</td>\n",
       "      <td>$12995</td>\n",
       "      <td>NA</td>\n",
       "    </tr>\n",
       "  </tbody>\n",
       "</table>\n",
       "</div>"
      ],
      "text/plain": [
       "                                                  Name  \\\n",
       "0                Disposable 3-Ply Face Masks - 50 Pack   \n",
       "1    JBL Reflect Contour 2 Wireless In-Ear Sport He...   \n",
       "2                Revitive Advanced Circulation Booster   \n",
       "3         Dyson Cinetic Big Ball Animal Vacuum Cleaner   \n",
       "4                    Beurer FWM 45 Massage Foot Warmer   \n",
       "5    HoMedics Ellia Refresh Ultrasonic Aroma Diffus...   \n",
       "6            Sony 65-inch X95H 4K UHD LED LCD Smart TV   \n",
       "7               Hisense 65-inch S8 4K LED LCD Smart TV   \n",
       "8      LG 55-inch Nano80 4K NanoCell Ai ThinQ Smart TV   \n",
       "9               Hisense 75-inch S8 4K LED LCD Smart TV   \n",
       "10                   TCL 65-inch C715 4K QLED Smart TV   \n",
       "11               Samsung 75-inch Q60T 4K QLED Smart TV   \n",
       "12           Sony 55-inch X80H 4K UHD LED LCD Smart TV   \n",
       "13    Samsung 65-inch The Frame LS03T 4K QLED Smart TV   \n",
       "14              Samsung 82-inch Q800T 8K QLED Smart TV   \n",
       "15              Samsung 75-inch Q800T 8K QLED Smart TV   \n",
       "16              Samsung 65-inch Q800T 8K QLED Smart TV   \n",
       "17               Samsung 75-inch Q95T 4K QLED Smart TV   \n",
       "18               Samsung 55-inch Q95T 4K QLED Smart TV   \n",
       "19               Samsung 75-inch Q80T 4K QLED Smart TV   \n",
       "20               Samsung 65-inch Q80T 4K QLED Smart TV   \n",
       "21               Samsung 55-inch Q80T 4K QLED Smart TV   \n",
       "22               Samsung 85-inch Q70T 4K QLED Smart TV   \n",
       "23               Samsung 75-inch Q70T 4K QLED Smart TV   \n",
       "24               Samsung 65-inch Q70T 4K QLED Smart TV   \n",
       "25   LG 55-inch CX Cinema Series 4K UHD Self-lit OL...   \n",
       "26   LG 65-inch CX Cinema Series 4K UHD Self-lit OL...   \n",
       "27   LG 77-inch CX Cinema Series 4K UHD Self-lit OL...   \n",
       "28     LG 65-inch Nano99 8K NanoCell Ai ThinQ Smart TV   \n",
       "29     LG 75-inch Nano99 8K NanoCell Ai ThinQ Smart TV   \n",
       "30     LG 65-inch Nano80 4K NanoCell Ai ThinQ Smart TV   \n",
       "31     LG 65-inch Nano86 4K NanoCell Ai ThinQ Smart TV   \n",
       "32     LG 65-inch Nano91 4K NanoCell Ai ThinQ Smart TV   \n",
       "33     LG 75-inch Nano91 4K NanoCell Ai ThinQ Smart TV   \n",
       "34     LG 65-inch Nano95 8K NanoCell Ai ThinQ Smart TV   \n",
       "35     LG 75-inch Nano95 8K NanoCell Ai ThinQ Smart TV   \n",
       "36           Sony 75-inch X95H 4K UHD LED LCD Smart TV   \n",
       "37                 Hisense 75-inch Q8 4K ULED Smart TV   \n",
       "38                 Hisense 65-inch Q8 4K ULED Smart TV   \n",
       "39                 Hisense 55-inch Q8 4K ULED Smart TV   \n",
       "40    Samsung 75-inch The Frame LS03T 4K QLED Smart TV   \n",
       "41    Samsung 55-inch The Frame LS03T 4K QLED Smart TV   \n",
       "42              Samsung 85-inch Q950T 8K QLED Smart TV   \n",
       "43              Samsung 75-inch Q950T 8K QLED Smart TV   \n",
       "44              Samsung 65-inch Q950T 8K QLED Smart TV   \n",
       "45             TCL 100-inch P715 QUHD LED LCD Smart TV   \n",
       "46               Disposable 3-Ply Face Masks - 50 Pack   \n",
       "47   JBL Reflect Contour 2 Wireless In-Ear Sport He...   \n",
       "48               Revitive Advanced Circulation Booster   \n",
       "49        Dyson Cinetic Big Ball Animal Vacuum Cleaner   \n",
       "50                   Beurer FWM 45 Massage Foot Warmer   \n",
       "51   HoMedics Ellia Refresh Ultrasonic Aroma Diffus...   \n",
       "52           Sony 65-inch X95H 4K UHD LED LCD Smart TV   \n",
       "53              Hisense 65-inch S8 4K LED LCD Smart TV   \n",
       "54     LG 55-inch Nano80 4K NanoCell Ai ThinQ Smart TV   \n",
       "55              Hisense 75-inch S8 4K LED LCD Smart TV   \n",
       "56                   TCL 65-inch C715 4K QLED Smart TV   \n",
       "57               Samsung 75-inch Q60T 4K QLED Smart TV   \n",
       "58           Sony 55-inch X80H 4K UHD LED LCD Smart TV   \n",
       "59    Samsung 65-inch The Frame LS03T 4K QLED Smart TV   \n",
       "60              Samsung 82-inch Q800T 8K QLED Smart TV   \n",
       "61              Samsung 75-inch Q800T 8K QLED Smart TV   \n",
       "62              Samsung 65-inch Q800T 8K QLED Smart TV   \n",
       "63               Samsung 75-inch Q95T 4K QLED Smart TV   \n",
       "64               Samsung 55-inch Q95T 4K QLED Smart TV   \n",
       "65               Samsung 75-inch Q80T 4K QLED Smart TV   \n",
       "66               Samsung 65-inch Q80T 4K QLED Smart TV   \n",
       "67               Samsung 55-inch Q80T 4K QLED Smart TV   \n",
       "68               Samsung 85-inch Q70T 4K QLED Smart TV   \n",
       "69               Samsung 75-inch Q70T 4K QLED Smart TV   \n",
       "70               Samsung 65-inch Q70T 4K QLED Smart TV   \n",
       "71   LG 55-inch CX Cinema Series 4K UHD Self-lit OL...   \n",
       "72   LG 65-inch CX Cinema Series 4K UHD Self-lit OL...   \n",
       "73   LG 77-inch CX Cinema Series 4K UHD Self-lit OL...   \n",
       "74     LG 65-inch Nano99 8K NanoCell Ai ThinQ Smart TV   \n",
       "75     LG 75-inch Nano99 8K NanoCell Ai ThinQ Smart TV   \n",
       "76     LG 65-inch Nano80 4K NanoCell Ai ThinQ Smart TV   \n",
       "77     LG 65-inch Nano86 4K NanoCell Ai ThinQ Smart TV   \n",
       "78     LG 65-inch Nano91 4K NanoCell Ai ThinQ Smart TV   \n",
       "79     LG 75-inch Nano91 4K NanoCell Ai ThinQ Smart TV   \n",
       "80     LG 65-inch Nano95 8K NanoCell Ai ThinQ Smart TV   \n",
       "81     LG 75-inch Nano95 8K NanoCell Ai ThinQ Smart TV   \n",
       "82           Sony 75-inch X95H 4K UHD LED LCD Smart TV   \n",
       "83                 Hisense 75-inch Q8 4K ULED Smart TV   \n",
       "84                 Hisense 65-inch Q8 4K ULED Smart TV   \n",
       "85                 Hisense 55-inch Q8 4K ULED Smart TV   \n",
       "86    Samsung 75-inch The Frame LS03T 4K QLED Smart TV   \n",
       "87    Samsung 55-inch The Frame LS03T 4K QLED Smart TV   \n",
       "88              Samsung 85-inch Q950T 8K QLED Smart TV   \n",
       "89              Samsung 75-inch Q950T 8K QLED Smart TV   \n",
       "90              Samsung 65-inch Q950T 8K QLED Smart TV   \n",
       "91             TCL 100-inch P715 QUHD LED LCD Smart TV   \n",
       "92               Disposable 3-Ply Face Masks - 50 Pack   \n",
       "93   JBL Reflect Contour 2 Wireless In-Ear Sport He...   \n",
       "94               Revitive Advanced Circulation Booster   \n",
       "95        Dyson Cinetic Big Ball Animal Vacuum Cleaner   \n",
       "96                   Beurer FWM 45 Massage Foot Warmer   \n",
       "97   HoMedics Ellia Refresh Ultrasonic Aroma Diffus...   \n",
       "98           Sony 65-inch X95H 4K UHD LED LCD Smart TV   \n",
       "99              Hisense 65-inch S8 4K LED LCD Smart TV   \n",
       "100    LG 55-inch Nano80 4K NanoCell Ai ThinQ Smart TV   \n",
       "101             Hisense 75-inch S8 4K LED LCD Smart TV   \n",
       "102                  TCL 65-inch C715 4K QLED Smart TV   \n",
       "103              Samsung 75-inch Q60T 4K QLED Smart TV   \n",
       "104          Sony 55-inch X80H 4K UHD LED LCD Smart TV   \n",
       "105   Samsung 65-inch The Frame LS03T 4K QLED Smart TV   \n",
       "106             Samsung 82-inch Q800T 8K QLED Smart TV   \n",
       "107             Samsung 75-inch Q800T 8K QLED Smart TV   \n",
       "108             Samsung 65-inch Q800T 8K QLED Smart TV   \n",
       "109              Samsung 75-inch Q95T 4K QLED Smart TV   \n",
       "110              Samsung 55-inch Q95T 4K QLED Smart TV   \n",
       "111              Samsung 75-inch Q80T 4K QLED Smart TV   \n",
       "112              Samsung 65-inch Q80T 4K QLED Smart TV   \n",
       "113              Samsung 55-inch Q80T 4K QLED Smart TV   \n",
       "114              Samsung 85-inch Q70T 4K QLED Smart TV   \n",
       "115              Samsung 75-inch Q70T 4K QLED Smart TV   \n",
       "116              Samsung 65-inch Q70T 4K QLED Smart TV   \n",
       "117  LG 55-inch CX Cinema Series 4K UHD Self-lit OL...   \n",
       "118  LG 65-inch CX Cinema Series 4K UHD Self-lit OL...   \n",
       "119  LG 77-inch CX Cinema Series 4K UHD Self-lit OL...   \n",
       "120    LG 65-inch Nano99 8K NanoCell Ai ThinQ Smart TV   \n",
       "121    LG 75-inch Nano99 8K NanoCell Ai ThinQ Smart TV   \n",
       "122    LG 65-inch Nano80 4K NanoCell Ai ThinQ Smart TV   \n",
       "123    LG 65-inch Nano86 4K NanoCell Ai ThinQ Smart TV   \n",
       "124    LG 65-inch Nano91 4K NanoCell Ai ThinQ Smart TV   \n",
       "125    LG 75-inch Nano91 4K NanoCell Ai ThinQ Smart TV   \n",
       "126    LG 65-inch Nano95 8K NanoCell Ai ThinQ Smart TV   \n",
       "127    LG 75-inch Nano95 8K NanoCell Ai ThinQ Smart TV   \n",
       "128          Sony 75-inch X95H 4K UHD LED LCD Smart TV   \n",
       "129                Hisense 75-inch Q8 4K ULED Smart TV   \n",
       "130                Hisense 65-inch Q8 4K ULED Smart TV   \n",
       "131                Hisense 55-inch Q8 4K ULED Smart TV   \n",
       "132   Samsung 75-inch The Frame LS03T 4K QLED Smart TV   \n",
       "133   Samsung 55-inch The Frame LS03T 4K QLED Smart TV   \n",
       "134             Samsung 85-inch Q950T 8K QLED Smart TV   \n",
       "135             Samsung 75-inch Q950T 8K QLED Smart TV   \n",
       "136             Samsung 65-inch Q950T 8K QLED Smart TV   \n",
       "137            TCL 100-inch P715 QUHD LED LCD Smart TV   \n",
       "\n",
       "                                 Price           Model  \n",
       "0                                  $45        10001325  \n",
       "1    \\n$79                                          NA  \n",
       "2       \\n$279                             REVADVANCED  \n",
       "3                                 $699        BBANIMAL  \n",
       "4                                  $85           FWM45  \n",
       "5                               $99.95   ARM-560CDA-AU  \n",
       "6      \\n$2995                              KD65X9500H  \n",
       "7                                $1395            65S8  \n",
       "8                                $1495     55NANO80TNA  \n",
       "9      \\n$1895                                    75S8  \n",
       "10     \\n$1595                                  65C715  \n",
       "11                               $2895   QA75Q60TAWXXY  \n",
       "12     \\n$1295                              KD55X8000H  \n",
       "13                               $2695  QA65LS03TAWXXY  \n",
       "14                               $8995  QA82Q800TAWXXY  \n",
       "15     \\n$5995                          QA75Q800TAWXXY  \n",
       "16                               $4795  QA65Q800TAWXXY  \n",
       "17                               $5995   QA75Q95TAWXXY  \n",
       "18                               $2995   QA55Q95TAWXXY  \n",
       "19                               $4495   QA75Q80TAWXXY  \n",
       "20                               $2995   QA65Q80TAWXXY  \n",
       "21                               $2195   QA55Q80TAWXXY  \n",
       "22                               $5495   QA85Q70TAWXXY  \n",
       "23                               $3495   QA75Q70TAWXXY  \n",
       "24                               $2295   QA65Q70TAWXXY  \n",
       "25     \\n$3095                             OLED55CXPTA  \n",
       "26     \\n$4295                             OLED65CXPTA  \n",
       "27     \\n$7995                             OLED77CXPTA  \n",
       "28                               $5495     65NANO99TNA  \n",
       "29                               $7495     75NANO99TNA  \n",
       "30                               $1895     65NANO80TNA  \n",
       "31                               $2295     65NANO86TNA  \n",
       "32                               $2695     65NANO91TNA  \n",
       "33                               $4195     75NANO91TNA  \n",
       "34                               $3995     65NANO95TNA  \n",
       "35                               $5495     75NANO95TNA  \n",
       "36     \\n$3995                              KD75X9500H  \n",
       "37                               $3495            75Q8  \n",
       "38     \\n$1995                                    65Q8  \n",
       "39                               $1595            55Q8  \n",
       "40                               $3995  QA75LS03TAWXXY  \n",
       "41                               $1995  QA55LS03TAWXXY  \n",
       "42                              $12995  QA85Q950TSWXXY  \n",
       "43                               $7995  QA75Q950TSWXXY  \n",
       "44                               $5995  QA65Q950TSWXXY  \n",
       "45                              $12995         100P715  \n",
       "46                                 $45        10001325  \n",
       "47   \\n$79                                          NA  \n",
       "48      \\n$279                             REVADVANCED  \n",
       "49                                $699        BBANIMAL  \n",
       "50                                 $85           FWM45  \n",
       "51                              $99.95   ARM-560CDA-AU  \n",
       "52     \\n$2995                              KD65X9500H  \n",
       "53                               $1395            65S8  \n",
       "54                               $1495     55NANO80TNA  \n",
       "55     \\n$1895                                    75S8  \n",
       "56     \\n$1595                                  65C715  \n",
       "57                               $2895   QA75Q60TAWXXY  \n",
       "58     \\n$1295                              KD55X8000H  \n",
       "59                               $2695  QA65LS03TAWXXY  \n",
       "60                               $8995  QA82Q800TAWXXY  \n",
       "61     \\n$5995                          QA75Q800TAWXXY  \n",
       "62                               $4795  QA65Q800TAWXXY  \n",
       "63                               $5995   QA75Q95TAWXXY  \n",
       "64                               $2995   QA55Q95TAWXXY  \n",
       "65                               $4495   QA75Q80TAWXXY  \n",
       "66                               $2995   QA65Q80TAWXXY  \n",
       "67                               $2195   QA55Q80TAWXXY  \n",
       "68                               $5495   QA85Q70TAWXXY  \n",
       "69                               $3495   QA75Q70TAWXXY  \n",
       "70                               $2295   QA65Q70TAWXXY  \n",
       "71     \\n$3095                             OLED55CXPTA  \n",
       "72     \\n$4295                             OLED65CXPTA  \n",
       "73     \\n$7995                             OLED77CXPTA  \n",
       "74                               $5495     65NANO99TNA  \n",
       "75                               $7495     75NANO99TNA  \n",
       "76                               $1895     65NANO80TNA  \n",
       "77                               $2295     65NANO86TNA  \n",
       "78                               $2695     65NANO91TNA  \n",
       "79                               $4195     75NANO91TNA  \n",
       "80                               $3995     65NANO95TNA  \n",
       "81                               $5495     75NANO95TNA  \n",
       "82     \\n$3995                              KD75X9500H  \n",
       "83                               $3495            75Q8  \n",
       "84     \\n$1995                                    65Q8  \n",
       "85                               $1595            55Q8  \n",
       "86                               $3995  QA75LS03TAWXXY  \n",
       "87                               $1995  QA55LS03TAWXXY  \n",
       "88                              $12995  QA85Q950TSWXXY  \n",
       "89                               $7995  QA75Q950TSWXXY  \n",
       "90                               $5995  QA65Q950TSWXXY  \n",
       "91                              $12995         100P715  \n",
       "92                                 $45        10001325  \n",
       "93   \\n$79                                          NA  \n",
       "94      \\n$279                             REVADVANCED  \n",
       "95                                $699        BBANIMAL  \n",
       "96                                 $85           FWM45  \n",
       "97                              $99.95   ARM-560CDA-AU  \n",
       "98     \\n$2995                              KD65X9500H  \n",
       "99                               $1395            65S8  \n",
       "100                              $1495     55NANO80TNA  \n",
       "101    \\n$1895                                    75S8  \n",
       "102    \\n$1595                                  65C715  \n",
       "103                              $2895   QA75Q60TAWXXY  \n",
       "104    \\n$1295                              KD55X8000H  \n",
       "105                              $2695  QA65LS03TAWXXY  \n",
       "106                              $8995  QA82Q800TAWXXY  \n",
       "107    \\n$5995                          QA75Q800TAWXXY  \n",
       "108                              $4795  QA65Q800TAWXXY  \n",
       "109                              $5995   QA75Q95TAWXXY  \n",
       "110                              $2995   QA55Q95TAWXXY  \n",
       "111                              $4495   QA75Q80TAWXXY  \n",
       "112                              $2995   QA65Q80TAWXXY  \n",
       "113                              $2195   QA55Q80TAWXXY  \n",
       "114                              $5495   QA85Q70TAWXXY  \n",
       "115                              $3495   QA75Q70TAWXXY  \n",
       "116                              $2295   QA65Q70TAWXXY  \n",
       "117    \\n$3095                             OLED55CXPTA  \n",
       "118    \\n$4295                             OLED65CXPTA  \n",
       "119    \\n$7995                             OLED77CXPTA  \n",
       "120                              $5495     65NANO99TNA  \n",
       "121                              $7495     75NANO99TNA  \n",
       "122                              $1895     65NANO80TNA  \n",
       "123                              $2295     65NANO86TNA  \n",
       "124                              $2695              NA  \n",
       "125                              $4195              NA  \n",
       "126                              $3995              NA  \n",
       "127                              $5495              NA  \n",
       "128    \\n$3995                                      NA  \n",
       "129                              $3495              NA  \n",
       "130    \\n$1995                                      NA  \n",
       "131                              $1595              NA  \n",
       "132                              $3995              NA  \n",
       "133                              $1995              NA  \n",
       "134                             $12995              NA  \n",
       "135                              $7995              NA  \n",
       "136                              $5995              NA  \n",
       "137                             $12995              NA  "
      ]
     },
     "execution_count": 23,
     "metadata": {},
     "output_type": "execute_result"
    }
   ],
   "source": [
    "#view number of rows of df\n",
    "df.head(138)"
   ]
  },
  {
   "cell_type": "code",
   "execution_count": 24,
   "metadata": {},
   "outputs": [],
   "source": [
    "#remove all rows of names that does not have the word TV in its description. \n",
    "#this will remove all non-TV names from the dataframe\n",
    "df = df[df['Name'].str.contains(\"TV\")]"
   ]
  },
  {
   "cell_type": "code",
   "execution_count": 25,
   "metadata": {},
   "outputs": [
    {
     "data": {
      "text/plain": [
       "(120, 3)"
      ]
     },
     "execution_count": 25,
     "metadata": {},
     "output_type": "execute_result"
    }
   ],
   "source": [
    "#check number of TVs in dataframe. \n",
    "df.shape"
   ]
  },
  {
   "cell_type": "markdown",
   "metadata": {},
   "source": [
    "There are 120 TVs in our list"
   ]
  },
  {
   "cell_type": "code",
   "execution_count": 26,
   "metadata": {},
   "outputs": [
    {
     "data": {
      "text/html": [
       "<div>\n",
       "<style scoped>\n",
       "    .dataframe tbody tr th:only-of-type {\n",
       "        vertical-align: middle;\n",
       "    }\n",
       "\n",
       "    .dataframe tbody tr th {\n",
       "        vertical-align: top;\n",
       "    }\n",
       "\n",
       "    .dataframe thead th {\n",
       "        text-align: right;\n",
       "    }\n",
       "</style>\n",
       "<table border=\"1\" class=\"dataframe\">\n",
       "  <thead>\n",
       "    <tr style=\"text-align: right;\">\n",
       "      <th></th>\n",
       "      <th>Name</th>\n",
       "      <th>Price</th>\n",
       "      <th>Model</th>\n",
       "      <th>Brand</th>\n",
       "    </tr>\n",
       "  </thead>\n",
       "  <tbody>\n",
       "    <tr>\n",
       "      <th>6</th>\n",
       "      <td>Sony 65-inch X95H 4K UHD LED LCD Smart TV</td>\n",
       "      <td>\\n$2995</td>\n",
       "      <td>KD65X9500H</td>\n",
       "      <td>Sony</td>\n",
       "    </tr>\n",
       "    <tr>\n",
       "      <th>7</th>\n",
       "      <td>Hisense 65-inch S8 4K LED LCD Smart TV</td>\n",
       "      <td>$1395</td>\n",
       "      <td>65S8</td>\n",
       "      <td>Hisense</td>\n",
       "    </tr>\n",
       "    <tr>\n",
       "      <th>8</th>\n",
       "      <td>LG 55-inch Nano80 4K NanoCell Ai ThinQ Smart TV</td>\n",
       "      <td>$1495</td>\n",
       "      <td>55NANO80TNA</td>\n",
       "      <td>LG</td>\n",
       "    </tr>\n",
       "    <tr>\n",
       "      <th>9</th>\n",
       "      <td>Hisense 75-inch S8 4K LED LCD Smart TV</td>\n",
       "      <td>\\n$1895</td>\n",
       "      <td>75S8</td>\n",
       "      <td>Hisense</td>\n",
       "    </tr>\n",
       "    <tr>\n",
       "      <th>10</th>\n",
       "      <td>TCL 65-inch C715 4K QLED Smart TV</td>\n",
       "      <td>\\n$1595</td>\n",
       "      <td>65C715</td>\n",
       "      <td>TCL</td>\n",
       "    </tr>\n",
       "  </tbody>\n",
       "</table>\n",
       "</div>"
      ],
      "text/plain": [
       "                                               Name  \\\n",
       "6         Sony 65-inch X95H 4K UHD LED LCD Smart TV   \n",
       "7            Hisense 65-inch S8 4K LED LCD Smart TV   \n",
       "8   LG 55-inch Nano80 4K NanoCell Ai ThinQ Smart TV   \n",
       "9            Hisense 75-inch S8 4K LED LCD Smart TV   \n",
       "10                TCL 65-inch C715 4K QLED Smart TV   \n",
       "\n",
       "                              Price        Model    Brand  \n",
       "6   \\n$2995                           KD65X9500H     Sony  \n",
       "7                             $1395         65S8  Hisense  \n",
       "8                             $1495  55NANO80TNA       LG  \n",
       "9   \\n$1895                                 75S8  Hisense  \n",
       "10  \\n$1595                               65C715      TCL  "
      ]
     },
     "execution_count": 26,
     "metadata": {},
     "output_type": "execute_result"
    }
   ],
   "source": [
    "#extract brand name from name list. First word of each string represented by name is the brand name.\n",
    "#split sting on first spacebar and extract first element\n",
    "df['Brand'] = df['Name']\n",
    "df['Brand'] = df.Name.str.split().str.get(0)\n",
    "df.head()"
   ]
  },
  {
   "cell_type": "code",
   "execution_count": 27,
   "metadata": {},
   "outputs": [],
   "source": [
    "#retailer, #categories, #currency, #brand, #model,#name, #size, #price,image\n"
   ]
  },
  {
   "cell_type": "code",
   "execution_count": 28,
   "metadata": {
    "scrolled": true
   },
   "outputs": [],
   "source": [
    "#extract screen size with 2 step string split, \n",
    "#first split names based on \"-\" character and keep text left to the \"-\"\n",
    "\n",
    "df[\"first_split\"]= df[\"Name\"]\n",
    "df[\"first_split\"]= df[\"Name\"].str.split(\"-\", n = 1, expand = True)\n"
   ]
  },
  {
   "cell_type": "code",
   "execution_count": 29,
   "metadata": {},
   "outputs": [
    {
     "data": {
      "text/html": [
       "<div>\n",
       "<style scoped>\n",
       "    .dataframe tbody tr th:only-of-type {\n",
       "        vertical-align: middle;\n",
       "    }\n",
       "\n",
       "    .dataframe tbody tr th {\n",
       "        vertical-align: top;\n",
       "    }\n",
       "\n",
       "    .dataframe thead th {\n",
       "        text-align: right;\n",
       "    }\n",
       "</style>\n",
       "<table border=\"1\" class=\"dataframe\">\n",
       "  <thead>\n",
       "    <tr style=\"text-align: right;\">\n",
       "      <th></th>\n",
       "      <th>Name</th>\n",
       "      <th>Price</th>\n",
       "      <th>Model</th>\n",
       "      <th>Brand</th>\n",
       "      <th>first_split</th>\n",
       "    </tr>\n",
       "  </thead>\n",
       "  <tbody>\n",
       "    <tr>\n",
       "      <th>6</th>\n",
       "      <td>Sony 65-inch X95H 4K UHD LED LCD Smart TV</td>\n",
       "      <td>\\n$2995</td>\n",
       "      <td>KD65X9500H</td>\n",
       "      <td>Sony</td>\n",
       "      <td>Sony 65</td>\n",
       "    </tr>\n",
       "    <tr>\n",
       "      <th>7</th>\n",
       "      <td>Hisense 65-inch S8 4K LED LCD Smart TV</td>\n",
       "      <td>$1395</td>\n",
       "      <td>65S8</td>\n",
       "      <td>Hisense</td>\n",
       "      <td>Hisense 65</td>\n",
       "    </tr>\n",
       "    <tr>\n",
       "      <th>8</th>\n",
       "      <td>LG 55-inch Nano80 4K NanoCell Ai ThinQ Smart TV</td>\n",
       "      <td>$1495</td>\n",
       "      <td>55NANO80TNA</td>\n",
       "      <td>LG</td>\n",
       "      <td>LG 55</td>\n",
       "    </tr>\n",
       "    <tr>\n",
       "      <th>9</th>\n",
       "      <td>Hisense 75-inch S8 4K LED LCD Smart TV</td>\n",
       "      <td>\\n$1895</td>\n",
       "      <td>75S8</td>\n",
       "      <td>Hisense</td>\n",
       "      <td>Hisense 75</td>\n",
       "    </tr>\n",
       "    <tr>\n",
       "      <th>10</th>\n",
       "      <td>TCL 65-inch C715 4K QLED Smart TV</td>\n",
       "      <td>\\n$1595</td>\n",
       "      <td>65C715</td>\n",
       "      <td>TCL</td>\n",
       "      <td>TCL 65</td>\n",
       "    </tr>\n",
       "  </tbody>\n",
       "</table>\n",
       "</div>"
      ],
      "text/plain": [
       "                                               Name  \\\n",
       "6         Sony 65-inch X95H 4K UHD LED LCD Smart TV   \n",
       "7            Hisense 65-inch S8 4K LED LCD Smart TV   \n",
       "8   LG 55-inch Nano80 4K NanoCell Ai ThinQ Smart TV   \n",
       "9            Hisense 75-inch S8 4K LED LCD Smart TV   \n",
       "10                TCL 65-inch C715 4K QLED Smart TV   \n",
       "\n",
       "                              Price        Model    Brand first_split  \n",
       "6   \\n$2995                           KD65X9500H     Sony     Sony 65  \n",
       "7                             $1395         65S8  Hisense  Hisense 65  \n",
       "8                             $1495  55NANO80TNA       LG       LG 55  \n",
       "9   \\n$1895                                 75S8  Hisense  Hisense 75  \n",
       "10  \\n$1595                               65C715      TCL      TCL 65  "
      ]
     },
     "execution_count": 29,
     "metadata": {},
     "output_type": "execute_result"
    }
   ],
   "source": [
    "df.head()"
   ]
  },
  {
   "cell_type": "code",
   "execution_count": 30,
   "metadata": {},
   "outputs": [],
   "source": [
    "#second split based on whitespace.\n",
    "#this split gives a list with 2 elements consisting. We need to extract 2nd element from the list as it corresponds \n",
    "#to screen size\n",
    "\n",
    "new = df[\"first_split\"].str.split(\" \", n = 1, expand = True)"
   ]
  },
  {
   "cell_type": "code",
   "execution_count": 31,
   "metadata": {},
   "outputs": [],
   "source": [
    "df[\"Size\"] = new[1]"
   ]
  },
  {
   "cell_type": "code",
   "execution_count": 32,
   "metadata": {},
   "outputs": [
    {
     "data": {
      "text/html": [
       "<div>\n",
       "<style scoped>\n",
       "    .dataframe tbody tr th:only-of-type {\n",
       "        vertical-align: middle;\n",
       "    }\n",
       "\n",
       "    .dataframe tbody tr th {\n",
       "        vertical-align: top;\n",
       "    }\n",
       "\n",
       "    .dataframe thead th {\n",
       "        text-align: right;\n",
       "    }\n",
       "</style>\n",
       "<table border=\"1\" class=\"dataframe\">\n",
       "  <thead>\n",
       "    <tr style=\"text-align: right;\">\n",
       "      <th></th>\n",
       "      <th>Name</th>\n",
       "      <th>Price</th>\n",
       "      <th>Model</th>\n",
       "      <th>Brand</th>\n",
       "      <th>first_split</th>\n",
       "      <th>Size</th>\n",
       "    </tr>\n",
       "  </thead>\n",
       "  <tbody>\n",
       "    <tr>\n",
       "      <th>6</th>\n",
       "      <td>Sony 65-inch X95H 4K UHD LED LCD Smart TV</td>\n",
       "      <td>\\n$2995</td>\n",
       "      <td>KD65X9500H</td>\n",
       "      <td>Sony</td>\n",
       "      <td>Sony 65</td>\n",
       "      <td>65</td>\n",
       "    </tr>\n",
       "    <tr>\n",
       "      <th>7</th>\n",
       "      <td>Hisense 65-inch S8 4K LED LCD Smart TV</td>\n",
       "      <td>$1395</td>\n",
       "      <td>65S8</td>\n",
       "      <td>Hisense</td>\n",
       "      <td>Hisense 65</td>\n",
       "      <td>65</td>\n",
       "    </tr>\n",
       "    <tr>\n",
       "      <th>8</th>\n",
       "      <td>LG 55-inch Nano80 4K NanoCell Ai ThinQ Smart TV</td>\n",
       "      <td>$1495</td>\n",
       "      <td>55NANO80TNA</td>\n",
       "      <td>LG</td>\n",
       "      <td>LG 55</td>\n",
       "      <td>55</td>\n",
       "    </tr>\n",
       "    <tr>\n",
       "      <th>9</th>\n",
       "      <td>Hisense 75-inch S8 4K LED LCD Smart TV</td>\n",
       "      <td>\\n$1895</td>\n",
       "      <td>75S8</td>\n",
       "      <td>Hisense</td>\n",
       "      <td>Hisense 75</td>\n",
       "      <td>75</td>\n",
       "    </tr>\n",
       "    <tr>\n",
       "      <th>10</th>\n",
       "      <td>TCL 65-inch C715 4K QLED Smart TV</td>\n",
       "      <td>\\n$1595</td>\n",
       "      <td>65C715</td>\n",
       "      <td>TCL</td>\n",
       "      <td>TCL 65</td>\n",
       "      <td>65</td>\n",
       "    </tr>\n",
       "    <tr>\n",
       "      <th>11</th>\n",
       "      <td>Samsung 75-inch Q60T 4K QLED Smart TV</td>\n",
       "      <td>$2895</td>\n",
       "      <td>QA75Q60TAWXXY</td>\n",
       "      <td>Samsung</td>\n",
       "      <td>Samsung 75</td>\n",
       "      <td>75</td>\n",
       "    </tr>\n",
       "    <tr>\n",
       "      <th>12</th>\n",
       "      <td>Sony 55-inch X80H 4K UHD LED LCD Smart TV</td>\n",
       "      <td>\\n$1295</td>\n",
       "      <td>KD55X8000H</td>\n",
       "      <td>Sony</td>\n",
       "      <td>Sony 55</td>\n",
       "      <td>55</td>\n",
       "    </tr>\n",
       "    <tr>\n",
       "      <th>13</th>\n",
       "      <td>Samsung 65-inch The Frame LS03T 4K QLED Smart TV</td>\n",
       "      <td>$2695</td>\n",
       "      <td>QA65LS03TAWXXY</td>\n",
       "      <td>Samsung</td>\n",
       "      <td>Samsung 65</td>\n",
       "      <td>65</td>\n",
       "    </tr>\n",
       "  </tbody>\n",
       "</table>\n",
       "</div>"
      ],
      "text/plain": [
       "                                                Name  \\\n",
       "6          Sony 65-inch X95H 4K UHD LED LCD Smart TV   \n",
       "7             Hisense 65-inch S8 4K LED LCD Smart TV   \n",
       "8    LG 55-inch Nano80 4K NanoCell Ai ThinQ Smart TV   \n",
       "9             Hisense 75-inch S8 4K LED LCD Smart TV   \n",
       "10                 TCL 65-inch C715 4K QLED Smart TV   \n",
       "11             Samsung 75-inch Q60T 4K QLED Smart TV   \n",
       "12         Sony 55-inch X80H 4K UHD LED LCD Smart TV   \n",
       "13  Samsung 65-inch The Frame LS03T 4K QLED Smart TV   \n",
       "\n",
       "                              Price           Model    Brand first_split Size  \n",
       "6   \\n$2995                              KD65X9500H     Sony     Sony 65   65  \n",
       "7                             $1395            65S8  Hisense  Hisense 65   65  \n",
       "8                             $1495     55NANO80TNA       LG       LG 55   55  \n",
       "9   \\n$1895                                    75S8  Hisense  Hisense 75   75  \n",
       "10  \\n$1595                                  65C715      TCL      TCL 65   65  \n",
       "11                            $2895   QA75Q60TAWXXY  Samsung  Samsung 75   75  \n",
       "12  \\n$1295                              KD55X8000H     Sony     Sony 55   55  \n",
       "13                            $2695  QA65LS03TAWXXY  Samsung  Samsung 65   65  "
      ]
     },
     "execution_count": 32,
     "metadata": {},
     "output_type": "execute_result"
    }
   ],
   "source": [
    "df.head(8)"
   ]
  },
  {
   "cell_type": "code",
   "execution_count": 33,
   "metadata": {},
   "outputs": [],
   "source": [
    "#split price values based on \"$\"\n",
    "price_split = df[\"Price\"].str.split(\"$\", n = 1, expand = True)"
   ]
  },
  {
   "cell_type": "code",
   "execution_count": 34,
   "metadata": {},
   "outputs": [
    {
     "data": {
      "text/html": [
       "<div>\n",
       "<style scoped>\n",
       "    .dataframe tbody tr th:only-of-type {\n",
       "        vertical-align: middle;\n",
       "    }\n",
       "\n",
       "    .dataframe tbody tr th {\n",
       "        vertical-align: top;\n",
       "    }\n",
       "\n",
       "    .dataframe thead th {\n",
       "        text-align: right;\n",
       "    }\n",
       "</style>\n",
       "<table border=\"1\" class=\"dataframe\">\n",
       "  <thead>\n",
       "    <tr style=\"text-align: right;\">\n",
       "      <th></th>\n",
       "      <th>0</th>\n",
       "      <th>1</th>\n",
       "    </tr>\n",
       "  </thead>\n",
       "  <tbody>\n",
       "    <tr>\n",
       "      <th>6</th>\n",
       "      <td>\\n</td>\n",
       "      <td>2995</td>\n",
       "    </tr>\n",
       "    <tr>\n",
       "      <th>7</th>\n",
       "      <td></td>\n",
       "      <td>1395</td>\n",
       "    </tr>\n",
       "    <tr>\n",
       "      <th>8</th>\n",
       "      <td></td>\n",
       "      <td>1495</td>\n",
       "    </tr>\n",
       "    <tr>\n",
       "      <th>9</th>\n",
       "      <td>\\n</td>\n",
       "      <td>1895</td>\n",
       "    </tr>\n",
       "    <tr>\n",
       "      <th>10</th>\n",
       "      <td>\\n</td>\n",
       "      <td>1595</td>\n",
       "    </tr>\n",
       "    <tr>\n",
       "      <th>11</th>\n",
       "      <td></td>\n",
       "      <td>2895</td>\n",
       "    </tr>\n",
       "    <tr>\n",
       "      <th>12</th>\n",
       "      <td>\\n</td>\n",
       "      <td>1295</td>\n",
       "    </tr>\n",
       "    <tr>\n",
       "      <th>13</th>\n",
       "      <td></td>\n",
       "      <td>2695</td>\n",
       "    </tr>\n",
       "    <tr>\n",
       "      <th>14</th>\n",
       "      <td></td>\n",
       "      <td>8995</td>\n",
       "    </tr>\n",
       "    <tr>\n",
       "      <th>15</th>\n",
       "      <td>\\n</td>\n",
       "      <td>5995</td>\n",
       "    </tr>\n",
       "    <tr>\n",
       "      <th>16</th>\n",
       "      <td></td>\n",
       "      <td>4795</td>\n",
       "    </tr>\n",
       "    <tr>\n",
       "      <th>17</th>\n",
       "      <td></td>\n",
       "      <td>5995</td>\n",
       "    </tr>\n",
       "    <tr>\n",
       "      <th>18</th>\n",
       "      <td></td>\n",
       "      <td>2995</td>\n",
       "    </tr>\n",
       "    <tr>\n",
       "      <th>19</th>\n",
       "      <td></td>\n",
       "      <td>4495</td>\n",
       "    </tr>\n",
       "    <tr>\n",
       "      <th>20</th>\n",
       "      <td></td>\n",
       "      <td>2995</td>\n",
       "    </tr>\n",
       "    <tr>\n",
       "      <th>21</th>\n",
       "      <td></td>\n",
       "      <td>2195</td>\n",
       "    </tr>\n",
       "    <tr>\n",
       "      <th>22</th>\n",
       "      <td></td>\n",
       "      <td>5495</td>\n",
       "    </tr>\n",
       "    <tr>\n",
       "      <th>23</th>\n",
       "      <td></td>\n",
       "      <td>3495</td>\n",
       "    </tr>\n",
       "    <tr>\n",
       "      <th>24</th>\n",
       "      <td></td>\n",
       "      <td>2295</td>\n",
       "    </tr>\n",
       "    <tr>\n",
       "      <th>25</th>\n",
       "      <td>\\n</td>\n",
       "      <td>3095</td>\n",
       "    </tr>\n",
       "    <tr>\n",
       "      <th>26</th>\n",
       "      <td>\\n</td>\n",
       "      <td>4295</td>\n",
       "    </tr>\n",
       "    <tr>\n",
       "      <th>27</th>\n",
       "      <td>\\n</td>\n",
       "      <td>7995</td>\n",
       "    </tr>\n",
       "    <tr>\n",
       "      <th>28</th>\n",
       "      <td></td>\n",
       "      <td>5495</td>\n",
       "    </tr>\n",
       "    <tr>\n",
       "      <th>29</th>\n",
       "      <td></td>\n",
       "      <td>7495</td>\n",
       "    </tr>\n",
       "    <tr>\n",
       "      <th>30</th>\n",
       "      <td></td>\n",
       "      <td>1895</td>\n",
       "    </tr>\n",
       "    <tr>\n",
       "      <th>31</th>\n",
       "      <td></td>\n",
       "      <td>2295</td>\n",
       "    </tr>\n",
       "    <tr>\n",
       "      <th>32</th>\n",
       "      <td></td>\n",
       "      <td>2695</td>\n",
       "    </tr>\n",
       "    <tr>\n",
       "      <th>33</th>\n",
       "      <td></td>\n",
       "      <td>4195</td>\n",
       "    </tr>\n",
       "    <tr>\n",
       "      <th>34</th>\n",
       "      <td></td>\n",
       "      <td>3995</td>\n",
       "    </tr>\n",
       "    <tr>\n",
       "      <th>35</th>\n",
       "      <td></td>\n",
       "      <td>5495</td>\n",
       "    </tr>\n",
       "    <tr>\n",
       "      <th>36</th>\n",
       "      <td>\\n</td>\n",
       "      <td>3995</td>\n",
       "    </tr>\n",
       "    <tr>\n",
       "      <th>37</th>\n",
       "      <td></td>\n",
       "      <td>3495</td>\n",
       "    </tr>\n",
       "    <tr>\n",
       "      <th>38</th>\n",
       "      <td>\\n</td>\n",
       "      <td>1995</td>\n",
       "    </tr>\n",
       "    <tr>\n",
       "      <th>39</th>\n",
       "      <td></td>\n",
       "      <td>1595</td>\n",
       "    </tr>\n",
       "    <tr>\n",
       "      <th>40</th>\n",
       "      <td></td>\n",
       "      <td>3995</td>\n",
       "    </tr>\n",
       "    <tr>\n",
       "      <th>41</th>\n",
       "      <td></td>\n",
       "      <td>1995</td>\n",
       "    </tr>\n",
       "    <tr>\n",
       "      <th>42</th>\n",
       "      <td></td>\n",
       "      <td>12995</td>\n",
       "    </tr>\n",
       "    <tr>\n",
       "      <th>43</th>\n",
       "      <td></td>\n",
       "      <td>7995</td>\n",
       "    </tr>\n",
       "    <tr>\n",
       "      <th>44</th>\n",
       "      <td></td>\n",
       "      <td>5995</td>\n",
       "    </tr>\n",
       "    <tr>\n",
       "      <th>45</th>\n",
       "      <td></td>\n",
       "      <td>12995</td>\n",
       "    </tr>\n",
       "    <tr>\n",
       "      <th>52</th>\n",
       "      <td>\\n</td>\n",
       "      <td>2995</td>\n",
       "    </tr>\n",
       "    <tr>\n",
       "      <th>53</th>\n",
       "      <td></td>\n",
       "      <td>1395</td>\n",
       "    </tr>\n",
       "    <tr>\n",
       "      <th>54</th>\n",
       "      <td></td>\n",
       "      <td>1495</td>\n",
       "    </tr>\n",
       "    <tr>\n",
       "      <th>55</th>\n",
       "      <td>\\n</td>\n",
       "      <td>1895</td>\n",
       "    </tr>\n",
       "    <tr>\n",
       "      <th>56</th>\n",
       "      <td>\\n</td>\n",
       "      <td>1595</td>\n",
       "    </tr>\n",
       "    <tr>\n",
       "      <th>57</th>\n",
       "      <td></td>\n",
       "      <td>2895</td>\n",
       "    </tr>\n",
       "    <tr>\n",
       "      <th>58</th>\n",
       "      <td>\\n</td>\n",
       "      <td>1295</td>\n",
       "    </tr>\n",
       "    <tr>\n",
       "      <th>59</th>\n",
       "      <td></td>\n",
       "      <td>2695</td>\n",
       "    </tr>\n",
       "    <tr>\n",
       "      <th>60</th>\n",
       "      <td></td>\n",
       "      <td>8995</td>\n",
       "    </tr>\n",
       "    <tr>\n",
       "      <th>61</th>\n",
       "      <td>\\n</td>\n",
       "      <td>5995</td>\n",
       "    </tr>\n",
       "    <tr>\n",
       "      <th>62</th>\n",
       "      <td></td>\n",
       "      <td>4795</td>\n",
       "    </tr>\n",
       "    <tr>\n",
       "      <th>63</th>\n",
       "      <td></td>\n",
       "      <td>5995</td>\n",
       "    </tr>\n",
       "    <tr>\n",
       "      <th>64</th>\n",
       "      <td></td>\n",
       "      <td>2995</td>\n",
       "    </tr>\n",
       "    <tr>\n",
       "      <th>65</th>\n",
       "      <td></td>\n",
       "      <td>4495</td>\n",
       "    </tr>\n",
       "    <tr>\n",
       "      <th>66</th>\n",
       "      <td></td>\n",
       "      <td>2995</td>\n",
       "    </tr>\n",
       "    <tr>\n",
       "      <th>67</th>\n",
       "      <td></td>\n",
       "      <td>2195</td>\n",
       "    </tr>\n",
       "    <tr>\n",
       "      <th>68</th>\n",
       "      <td></td>\n",
       "      <td>5495</td>\n",
       "    </tr>\n",
       "    <tr>\n",
       "      <th>69</th>\n",
       "      <td></td>\n",
       "      <td>3495</td>\n",
       "    </tr>\n",
       "    <tr>\n",
       "      <th>70</th>\n",
       "      <td></td>\n",
       "      <td>2295</td>\n",
       "    </tr>\n",
       "    <tr>\n",
       "      <th>71</th>\n",
       "      <td>\\n</td>\n",
       "      <td>3095</td>\n",
       "    </tr>\n",
       "    <tr>\n",
       "      <th>72</th>\n",
       "      <td>\\n</td>\n",
       "      <td>4295</td>\n",
       "    </tr>\n",
       "    <tr>\n",
       "      <th>73</th>\n",
       "      <td>\\n</td>\n",
       "      <td>7995</td>\n",
       "    </tr>\n",
       "    <tr>\n",
       "      <th>74</th>\n",
       "      <td></td>\n",
       "      <td>5495</td>\n",
       "    </tr>\n",
       "    <tr>\n",
       "      <th>75</th>\n",
       "      <td></td>\n",
       "      <td>7495</td>\n",
       "    </tr>\n",
       "    <tr>\n",
       "      <th>76</th>\n",
       "      <td></td>\n",
       "      <td>1895</td>\n",
       "    </tr>\n",
       "    <tr>\n",
       "      <th>77</th>\n",
       "      <td></td>\n",
       "      <td>2295</td>\n",
       "    </tr>\n",
       "    <tr>\n",
       "      <th>78</th>\n",
       "      <td></td>\n",
       "      <td>2695</td>\n",
       "    </tr>\n",
       "    <tr>\n",
       "      <th>79</th>\n",
       "      <td></td>\n",
       "      <td>4195</td>\n",
       "    </tr>\n",
       "    <tr>\n",
       "      <th>80</th>\n",
       "      <td></td>\n",
       "      <td>3995</td>\n",
       "    </tr>\n",
       "    <tr>\n",
       "      <th>81</th>\n",
       "      <td></td>\n",
       "      <td>5495</td>\n",
       "    </tr>\n",
       "    <tr>\n",
       "      <th>82</th>\n",
       "      <td>\\n</td>\n",
       "      <td>3995</td>\n",
       "    </tr>\n",
       "    <tr>\n",
       "      <th>83</th>\n",
       "      <td></td>\n",
       "      <td>3495</td>\n",
       "    </tr>\n",
       "    <tr>\n",
       "      <th>84</th>\n",
       "      <td>\\n</td>\n",
       "      <td>1995</td>\n",
       "    </tr>\n",
       "    <tr>\n",
       "      <th>85</th>\n",
       "      <td></td>\n",
       "      <td>1595</td>\n",
       "    </tr>\n",
       "    <tr>\n",
       "      <th>86</th>\n",
       "      <td></td>\n",
       "      <td>3995</td>\n",
       "    </tr>\n",
       "    <tr>\n",
       "      <th>87</th>\n",
       "      <td></td>\n",
       "      <td>1995</td>\n",
       "    </tr>\n",
       "    <tr>\n",
       "      <th>88</th>\n",
       "      <td></td>\n",
       "      <td>12995</td>\n",
       "    </tr>\n",
       "    <tr>\n",
       "      <th>89</th>\n",
       "      <td></td>\n",
       "      <td>7995</td>\n",
       "    </tr>\n",
       "    <tr>\n",
       "      <th>90</th>\n",
       "      <td></td>\n",
       "      <td>5995</td>\n",
       "    </tr>\n",
       "    <tr>\n",
       "      <th>91</th>\n",
       "      <td></td>\n",
       "      <td>12995</td>\n",
       "    </tr>\n",
       "    <tr>\n",
       "      <th>98</th>\n",
       "      <td>\\n</td>\n",
       "      <td>2995</td>\n",
       "    </tr>\n",
       "    <tr>\n",
       "      <th>99</th>\n",
       "      <td></td>\n",
       "      <td>1395</td>\n",
       "    </tr>\n",
       "    <tr>\n",
       "      <th>100</th>\n",
       "      <td></td>\n",
       "      <td>1495</td>\n",
       "    </tr>\n",
       "    <tr>\n",
       "      <th>101</th>\n",
       "      <td>\\n</td>\n",
       "      <td>1895</td>\n",
       "    </tr>\n",
       "    <tr>\n",
       "      <th>102</th>\n",
       "      <td>\\n</td>\n",
       "      <td>1595</td>\n",
       "    </tr>\n",
       "    <tr>\n",
       "      <th>103</th>\n",
       "      <td></td>\n",
       "      <td>2895</td>\n",
       "    </tr>\n",
       "    <tr>\n",
       "      <th>104</th>\n",
       "      <td>\\n</td>\n",
       "      <td>1295</td>\n",
       "    </tr>\n",
       "    <tr>\n",
       "      <th>105</th>\n",
       "      <td></td>\n",
       "      <td>2695</td>\n",
       "    </tr>\n",
       "    <tr>\n",
       "      <th>106</th>\n",
       "      <td></td>\n",
       "      <td>8995</td>\n",
       "    </tr>\n",
       "    <tr>\n",
       "      <th>107</th>\n",
       "      <td>\\n</td>\n",
       "      <td>5995</td>\n",
       "    </tr>\n",
       "    <tr>\n",
       "      <th>108</th>\n",
       "      <td></td>\n",
       "      <td>4795</td>\n",
       "    </tr>\n",
       "    <tr>\n",
       "      <th>109</th>\n",
       "      <td></td>\n",
       "      <td>5995</td>\n",
       "    </tr>\n",
       "    <tr>\n",
       "      <th>110</th>\n",
       "      <td></td>\n",
       "      <td>2995</td>\n",
       "    </tr>\n",
       "    <tr>\n",
       "      <th>111</th>\n",
       "      <td></td>\n",
       "      <td>4495</td>\n",
       "    </tr>\n",
       "    <tr>\n",
       "      <th>112</th>\n",
       "      <td></td>\n",
       "      <td>2995</td>\n",
       "    </tr>\n",
       "    <tr>\n",
       "      <th>113</th>\n",
       "      <td></td>\n",
       "      <td>2195</td>\n",
       "    </tr>\n",
       "    <tr>\n",
       "      <th>114</th>\n",
       "      <td></td>\n",
       "      <td>5495</td>\n",
       "    </tr>\n",
       "    <tr>\n",
       "      <th>115</th>\n",
       "      <td></td>\n",
       "      <td>3495</td>\n",
       "    </tr>\n",
       "    <tr>\n",
       "      <th>116</th>\n",
       "      <td></td>\n",
       "      <td>2295</td>\n",
       "    </tr>\n",
       "    <tr>\n",
       "      <th>117</th>\n",
       "      <td>\\n</td>\n",
       "      <td>3095</td>\n",
       "    </tr>\n",
       "    <tr>\n",
       "      <th>118</th>\n",
       "      <td>\\n</td>\n",
       "      <td>4295</td>\n",
       "    </tr>\n",
       "    <tr>\n",
       "      <th>119</th>\n",
       "      <td>\\n</td>\n",
       "      <td>7995</td>\n",
       "    </tr>\n",
       "    <tr>\n",
       "      <th>120</th>\n",
       "      <td></td>\n",
       "      <td>5495</td>\n",
       "    </tr>\n",
       "    <tr>\n",
       "      <th>121</th>\n",
       "      <td></td>\n",
       "      <td>7495</td>\n",
       "    </tr>\n",
       "    <tr>\n",
       "      <th>122</th>\n",
       "      <td></td>\n",
       "      <td>1895</td>\n",
       "    </tr>\n",
       "    <tr>\n",
       "      <th>123</th>\n",
       "      <td></td>\n",
       "      <td>2295</td>\n",
       "    </tr>\n",
       "    <tr>\n",
       "      <th>124</th>\n",
       "      <td></td>\n",
       "      <td>2695</td>\n",
       "    </tr>\n",
       "    <tr>\n",
       "      <th>125</th>\n",
       "      <td></td>\n",
       "      <td>4195</td>\n",
       "    </tr>\n",
       "    <tr>\n",
       "      <th>126</th>\n",
       "      <td></td>\n",
       "      <td>3995</td>\n",
       "    </tr>\n",
       "    <tr>\n",
       "      <th>127</th>\n",
       "      <td></td>\n",
       "      <td>5495</td>\n",
       "    </tr>\n",
       "    <tr>\n",
       "      <th>128</th>\n",
       "      <td>\\n</td>\n",
       "      <td>3995</td>\n",
       "    </tr>\n",
       "    <tr>\n",
       "      <th>129</th>\n",
       "      <td></td>\n",
       "      <td>3495</td>\n",
       "    </tr>\n",
       "    <tr>\n",
       "      <th>130</th>\n",
       "      <td>\\n</td>\n",
       "      <td>1995</td>\n",
       "    </tr>\n",
       "    <tr>\n",
       "      <th>131</th>\n",
       "      <td></td>\n",
       "      <td>1595</td>\n",
       "    </tr>\n",
       "    <tr>\n",
       "      <th>132</th>\n",
       "      <td></td>\n",
       "      <td>3995</td>\n",
       "    </tr>\n",
       "    <tr>\n",
       "      <th>133</th>\n",
       "      <td></td>\n",
       "      <td>1995</td>\n",
       "    </tr>\n",
       "    <tr>\n",
       "      <th>134</th>\n",
       "      <td></td>\n",
       "      <td>12995</td>\n",
       "    </tr>\n",
       "    <tr>\n",
       "      <th>135</th>\n",
       "      <td></td>\n",
       "      <td>7995</td>\n",
       "    </tr>\n",
       "    <tr>\n",
       "      <th>136</th>\n",
       "      <td></td>\n",
       "      <td>5995</td>\n",
       "    </tr>\n",
       "    <tr>\n",
       "      <th>137</th>\n",
       "      <td></td>\n",
       "      <td>12995</td>\n",
       "    </tr>\n",
       "  </tbody>\n",
       "</table>\n",
       "</div>"
      ],
      "text/plain": [
       "      0                             1\n",
       "6    \\n  2995                        \n",
       "7                                1395\n",
       "8                                1495\n",
       "9    \\n  1895                        \n",
       "10   \\n  1595                        \n",
       "11                               2895\n",
       "12   \\n  1295                        \n",
       "13                               2695\n",
       "14                               8995\n",
       "15   \\n  5995                        \n",
       "16                               4795\n",
       "17                               5995\n",
       "18                               2995\n",
       "19                               4495\n",
       "20                               2995\n",
       "21                               2195\n",
       "22                               5495\n",
       "23                               3495\n",
       "24                               2295\n",
       "25   \\n  3095                        \n",
       "26   \\n  4295                        \n",
       "27   \\n  7995                        \n",
       "28                               5495\n",
       "29                               7495\n",
       "30                               1895\n",
       "31                               2295\n",
       "32                               2695\n",
       "33                               4195\n",
       "34                               3995\n",
       "35                               5495\n",
       "36   \\n  3995                        \n",
       "37                               3495\n",
       "38   \\n  1995                        \n",
       "39                               1595\n",
       "40                               3995\n",
       "41                               1995\n",
       "42                              12995\n",
       "43                               7995\n",
       "44                               5995\n",
       "45                              12995\n",
       "52   \\n  2995                        \n",
       "53                               1395\n",
       "54                               1495\n",
       "55   \\n  1895                        \n",
       "56   \\n  1595                        \n",
       "57                               2895\n",
       "58   \\n  1295                        \n",
       "59                               2695\n",
       "60                               8995\n",
       "61   \\n  5995                        \n",
       "62                               4795\n",
       "63                               5995\n",
       "64                               2995\n",
       "65                               4495\n",
       "66                               2995\n",
       "67                               2195\n",
       "68                               5495\n",
       "69                               3495\n",
       "70                               2295\n",
       "71   \\n  3095                        \n",
       "72   \\n  4295                        \n",
       "73   \\n  7995                        \n",
       "74                               5495\n",
       "75                               7495\n",
       "76                               1895\n",
       "77                               2295\n",
       "78                               2695\n",
       "79                               4195\n",
       "80                               3995\n",
       "81                               5495\n",
       "82   \\n  3995                        \n",
       "83                               3495\n",
       "84   \\n  1995                        \n",
       "85                               1595\n",
       "86                               3995\n",
       "87                               1995\n",
       "88                              12995\n",
       "89                               7995\n",
       "90                               5995\n",
       "91                              12995\n",
       "98   \\n  2995                        \n",
       "99                               1395\n",
       "100                              1495\n",
       "101  \\n  1895                        \n",
       "102  \\n  1595                        \n",
       "103                              2895\n",
       "104  \\n  1295                        \n",
       "105                              2695\n",
       "106                              8995\n",
       "107  \\n  5995                        \n",
       "108                              4795\n",
       "109                              5995\n",
       "110                              2995\n",
       "111                              4495\n",
       "112                              2995\n",
       "113                              2195\n",
       "114                              5495\n",
       "115                              3495\n",
       "116                              2295\n",
       "117  \\n  3095                        \n",
       "118  \\n  4295                        \n",
       "119  \\n  7995                        \n",
       "120                              5495\n",
       "121                              7495\n",
       "122                              1895\n",
       "123                              2295\n",
       "124                              2695\n",
       "125                              4195\n",
       "126                              3995\n",
       "127                              5495\n",
       "128  \\n  3995                        \n",
       "129                              3495\n",
       "130  \\n  1995                        \n",
       "131                              1595\n",
       "132                              3995\n",
       "133                              1995\n",
       "134                             12995\n",
       "135                              7995\n",
       "136                              5995\n",
       "137                             12995"
      ]
     },
     "execution_count": 34,
     "metadata": {},
     "output_type": "execute_result"
    }
   ],
   "source": [
    "#check split values\n",
    "price_split"
   ]
  },
  {
   "cell_type": "code",
   "execution_count": 35,
   "metadata": {},
   "outputs": [],
   "source": [
    "#reassign 2nd element of price_split to price column\n",
    "\n",
    "df[\"Price\"] = price_split[1]"
   ]
  },
  {
   "cell_type": "code",
   "execution_count": 36,
   "metadata": {},
   "outputs": [
    {
     "data": {
      "text/html": [
       "<div>\n",
       "<style scoped>\n",
       "    .dataframe tbody tr th:only-of-type {\n",
       "        vertical-align: middle;\n",
       "    }\n",
       "\n",
       "    .dataframe tbody tr th {\n",
       "        vertical-align: top;\n",
       "    }\n",
       "\n",
       "    .dataframe thead th {\n",
       "        text-align: right;\n",
       "    }\n",
       "</style>\n",
       "<table border=\"1\" class=\"dataframe\">\n",
       "  <thead>\n",
       "    <tr style=\"text-align: right;\">\n",
       "      <th></th>\n",
       "      <th>Name</th>\n",
       "      <th>Price</th>\n",
       "      <th>Model</th>\n",
       "      <th>Brand</th>\n",
       "      <th>first_split</th>\n",
       "      <th>Size</th>\n",
       "    </tr>\n",
       "  </thead>\n",
       "  <tbody>\n",
       "    <tr>\n",
       "      <th>6</th>\n",
       "      <td>Sony 65-inch X95H 4K UHD LED LCD Smart TV</td>\n",
       "      <td>2995</td>\n",
       "      <td>KD65X9500H</td>\n",
       "      <td>Sony</td>\n",
       "      <td>Sony 65</td>\n",
       "      <td>65</td>\n",
       "    </tr>\n",
       "    <tr>\n",
       "      <th>7</th>\n",
       "      <td>Hisense 65-inch S8 4K LED LCD Smart TV</td>\n",
       "      <td>1395</td>\n",
       "      <td>65S8</td>\n",
       "      <td>Hisense</td>\n",
       "      <td>Hisense 65</td>\n",
       "      <td>65</td>\n",
       "    </tr>\n",
       "    <tr>\n",
       "      <th>8</th>\n",
       "      <td>LG 55-inch Nano80 4K NanoCell Ai ThinQ Smart TV</td>\n",
       "      <td>1495</td>\n",
       "      <td>55NANO80TNA</td>\n",
       "      <td>LG</td>\n",
       "      <td>LG 55</td>\n",
       "      <td>55</td>\n",
       "    </tr>\n",
       "    <tr>\n",
       "      <th>9</th>\n",
       "      <td>Hisense 75-inch S8 4K LED LCD Smart TV</td>\n",
       "      <td>1895</td>\n",
       "      <td>75S8</td>\n",
       "      <td>Hisense</td>\n",
       "      <td>Hisense 75</td>\n",
       "      <td>75</td>\n",
       "    </tr>\n",
       "    <tr>\n",
       "      <th>10</th>\n",
       "      <td>TCL 65-inch C715 4K QLED Smart TV</td>\n",
       "      <td>1595</td>\n",
       "      <td>65C715</td>\n",
       "      <td>TCL</td>\n",
       "      <td>TCL 65</td>\n",
       "      <td>65</td>\n",
       "    </tr>\n",
       "  </tbody>\n",
       "</table>\n",
       "</div>"
      ],
      "text/plain": [
       "                                               Name  \\\n",
       "6         Sony 65-inch X95H 4K UHD LED LCD Smart TV   \n",
       "7            Hisense 65-inch S8 4K LED LCD Smart TV   \n",
       "8   LG 55-inch Nano80 4K NanoCell Ai ThinQ Smart TV   \n",
       "9            Hisense 75-inch S8 4K LED LCD Smart TV   \n",
       "10                TCL 65-inch C715 4K QLED Smart TV   \n",
       "\n",
       "                           Price        Model    Brand first_split Size  \n",
       "6   2995                           KD65X9500H     Sony     Sony 65   65  \n",
       "7                           1395         65S8  Hisense  Hisense 65   65  \n",
       "8                           1495  55NANO80TNA       LG       LG 55   55  \n",
       "9   1895                                 75S8  Hisense  Hisense 75   75  \n",
       "10  1595                               65C715      TCL      TCL 65   65  "
      ]
     },
     "execution_count": 36,
     "metadata": {},
     "output_type": "execute_result"
    }
   ],
   "source": [
    "#verify price is in correct format\n",
    "df.head()"
   ]
  },
  {
   "cell_type": "code",
   "execution_count": 37,
   "metadata": {},
   "outputs": [],
   "source": [
    "#retailer, #categories, #currency, #brand, #model,#name, #size, #price,image\n",
    "#add remaining columns\n",
    "df[\"Retailer\"] = \"Harvey Norman\"\n",
    "df['Categories'] = 'Televisions'\n",
    "df['Currencies'] = 'AUD'\n"
   ]
  },
  {
   "cell_type": "code",
   "execution_count": 38,
   "metadata": {},
   "outputs": [],
   "source": [
    "#remove first_split column from dataframe\n",
    "df = df.drop(columns = ['first_split'])"
   ]
  },
  {
   "cell_type": "code",
   "execution_count": 39,
   "metadata": {},
   "outputs": [
    {
     "data": {
      "text/html": [
       "<div>\n",
       "<style scoped>\n",
       "    .dataframe tbody tr th:only-of-type {\n",
       "        vertical-align: middle;\n",
       "    }\n",
       "\n",
       "    .dataframe tbody tr th {\n",
       "        vertical-align: top;\n",
       "    }\n",
       "\n",
       "    .dataframe thead th {\n",
       "        text-align: right;\n",
       "    }\n",
       "</style>\n",
       "<table border=\"1\" class=\"dataframe\">\n",
       "  <thead>\n",
       "    <tr style=\"text-align: right;\">\n",
       "      <th></th>\n",
       "      <th>Name</th>\n",
       "      <th>Price</th>\n",
       "      <th>Model</th>\n",
       "      <th>Brand</th>\n",
       "      <th>Size</th>\n",
       "      <th>Retailer</th>\n",
       "      <th>Categories</th>\n",
       "      <th>Currencies</th>\n",
       "    </tr>\n",
       "  </thead>\n",
       "  <tbody>\n",
       "    <tr>\n",
       "      <th>6</th>\n",
       "      <td>Sony 65-inch X95H 4K UHD LED LCD Smart TV</td>\n",
       "      <td>2995</td>\n",
       "      <td>KD65X9500H</td>\n",
       "      <td>Sony</td>\n",
       "      <td>65</td>\n",
       "      <td>Harvey Norman</td>\n",
       "      <td>Televisions</td>\n",
       "      <td>AUD</td>\n",
       "    </tr>\n",
       "    <tr>\n",
       "      <th>7</th>\n",
       "      <td>Hisense 65-inch S8 4K LED LCD Smart TV</td>\n",
       "      <td>1395</td>\n",
       "      <td>65S8</td>\n",
       "      <td>Hisense</td>\n",
       "      <td>65</td>\n",
       "      <td>Harvey Norman</td>\n",
       "      <td>Televisions</td>\n",
       "      <td>AUD</td>\n",
       "    </tr>\n",
       "    <tr>\n",
       "      <th>8</th>\n",
       "      <td>LG 55-inch Nano80 4K NanoCell Ai ThinQ Smart TV</td>\n",
       "      <td>1495</td>\n",
       "      <td>55NANO80TNA</td>\n",
       "      <td>LG</td>\n",
       "      <td>55</td>\n",
       "      <td>Harvey Norman</td>\n",
       "      <td>Televisions</td>\n",
       "      <td>AUD</td>\n",
       "    </tr>\n",
       "    <tr>\n",
       "      <th>9</th>\n",
       "      <td>Hisense 75-inch S8 4K LED LCD Smart TV</td>\n",
       "      <td>1895</td>\n",
       "      <td>75S8</td>\n",
       "      <td>Hisense</td>\n",
       "      <td>75</td>\n",
       "      <td>Harvey Norman</td>\n",
       "      <td>Televisions</td>\n",
       "      <td>AUD</td>\n",
       "    </tr>\n",
       "    <tr>\n",
       "      <th>10</th>\n",
       "      <td>TCL 65-inch C715 4K QLED Smart TV</td>\n",
       "      <td>1595</td>\n",
       "      <td>65C715</td>\n",
       "      <td>TCL</td>\n",
       "      <td>65</td>\n",
       "      <td>Harvey Norman</td>\n",
       "      <td>Televisions</td>\n",
       "      <td>AUD</td>\n",
       "    </tr>\n",
       "  </tbody>\n",
       "</table>\n",
       "</div>"
      ],
      "text/plain": [
       "                                               Name  \\\n",
       "6         Sony 65-inch X95H 4K UHD LED LCD Smart TV   \n",
       "7            Hisense 65-inch S8 4K LED LCD Smart TV   \n",
       "8   LG 55-inch Nano80 4K NanoCell Ai ThinQ Smart TV   \n",
       "9            Hisense 75-inch S8 4K LED LCD Smart TV   \n",
       "10                TCL 65-inch C715 4K QLED Smart TV   \n",
       "\n",
       "                           Price        Model    Brand Size       Retailer  \\\n",
       "6   2995                           KD65X9500H     Sony   65  Harvey Norman   \n",
       "7                           1395         65S8  Hisense   65  Harvey Norman   \n",
       "8                           1495  55NANO80TNA       LG   55  Harvey Norman   \n",
       "9   1895                                 75S8  Hisense   75  Harvey Norman   \n",
       "10  1595                               65C715      TCL   65  Harvey Norman   \n",
       "\n",
       "     Categories Currencies  \n",
       "6   Televisions        AUD  \n",
       "7   Televisions        AUD  \n",
       "8   Televisions        AUD  \n",
       "9   Televisions        AUD  \n",
       "10  Televisions        AUD  "
      ]
     },
     "execution_count": 39,
     "metadata": {},
     "output_type": "execute_result"
    }
   ],
   "source": [
    "df.head()"
   ]
  },
  {
   "cell_type": "code",
   "execution_count": null,
   "metadata": {},
   "outputs": [],
   "source": []
  },
  {
   "cell_type": "code",
   "execution_count": null,
   "metadata": {},
   "outputs": [],
   "source": []
  },
  {
   "cell_type": "code",
   "execution_count": 40,
   "metadata": {},
   "outputs": [],
   "source": [
    "#add image links as a new column to dataframe\n",
    "df['Image'] = images"
   ]
  },
  {
   "cell_type": "code",
   "execution_count": 43,
   "metadata": {},
   "outputs": [
    {
     "data": {
      "text/html": [
       "<div>\n",
       "<style scoped>\n",
       "    .dataframe tbody tr th:only-of-type {\n",
       "        vertical-align: middle;\n",
       "    }\n",
       "\n",
       "    .dataframe tbody tr th {\n",
       "        vertical-align: top;\n",
       "    }\n",
       "\n",
       "    .dataframe thead th {\n",
       "        text-align: right;\n",
       "    }\n",
       "</style>\n",
       "<table border=\"1\" class=\"dataframe\">\n",
       "  <thead>\n",
       "    <tr style=\"text-align: right;\">\n",
       "      <th></th>\n",
       "      <th>Name</th>\n",
       "      <th>Price</th>\n",
       "      <th>Model</th>\n",
       "      <th>Brand</th>\n",
       "      <th>Size</th>\n",
       "      <th>Retailer</th>\n",
       "      <th>Categories</th>\n",
       "      <th>Currencies</th>\n",
       "      <th>Image</th>\n",
       "    </tr>\n",
       "  </thead>\n",
       "  <tbody>\n",
       "    <tr>\n",
       "      <th>6</th>\n",
       "      <td>Sony 65-inch X95H 4K UHD LED LCD Smart TV</td>\n",
       "      <td>2995</td>\n",
       "      <td>KD65X9500H</td>\n",
       "      <td>Sony</td>\n",
       "      <td>65</td>\n",
       "      <td>Harvey Norman</td>\n",
       "      <td>Televisions</td>\n",
       "      <td>AUD</td>\n",
       "      <td>https://azcd.harveynorman.com.au/media/catalog...</td>\n",
       "    </tr>\n",
       "    <tr>\n",
       "      <th>7</th>\n",
       "      <td>Hisense 65-inch S8 4K LED LCD Smart TV</td>\n",
       "      <td>1395</td>\n",
       "      <td>65S8</td>\n",
       "      <td>Hisense</td>\n",
       "      <td>65</td>\n",
       "      <td>Harvey Norman</td>\n",
       "      <td>Televisions</td>\n",
       "      <td>AUD</td>\n",
       "      <td>https://azcd.harveynorman.com.au/media/catalog...</td>\n",
       "    </tr>\n",
       "    <tr>\n",
       "      <th>8</th>\n",
       "      <td>LG 55-inch Nano80 4K NanoCell Ai ThinQ Smart TV</td>\n",
       "      <td>1495</td>\n",
       "      <td>55NANO80TNA</td>\n",
       "      <td>LG</td>\n",
       "      <td>55</td>\n",
       "      <td>Harvey Norman</td>\n",
       "      <td>Televisions</td>\n",
       "      <td>AUD</td>\n",
       "      <td>https://azcd.harveynorman.com.au/media/catalog...</td>\n",
       "    </tr>\n",
       "    <tr>\n",
       "      <th>9</th>\n",
       "      <td>Hisense 75-inch S8 4K LED LCD Smart TV</td>\n",
       "      <td>1895</td>\n",
       "      <td>75S8</td>\n",
       "      <td>Hisense</td>\n",
       "      <td>75</td>\n",
       "      <td>Harvey Norman</td>\n",
       "      <td>Televisions</td>\n",
       "      <td>AUD</td>\n",
       "      <td>https://azcd.harveynorman.com.au/media/catalog...</td>\n",
       "    </tr>\n",
       "    <tr>\n",
       "      <th>10</th>\n",
       "      <td>TCL 65-inch C715 4K QLED Smart TV</td>\n",
       "      <td>1595</td>\n",
       "      <td>65C715</td>\n",
       "      <td>TCL</td>\n",
       "      <td>65</td>\n",
       "      <td>Harvey Norman</td>\n",
       "      <td>Televisions</td>\n",
       "      <td>AUD</td>\n",
       "      <td>https://azcd.harveynorman.com.au/media/catalog...</td>\n",
       "    </tr>\n",
       "  </tbody>\n",
       "</table>\n",
       "</div>"
      ],
      "text/plain": [
       "                                               Name  \\\n",
       "6         Sony 65-inch X95H 4K UHD LED LCD Smart TV   \n",
       "7            Hisense 65-inch S8 4K LED LCD Smart TV   \n",
       "8   LG 55-inch Nano80 4K NanoCell Ai ThinQ Smart TV   \n",
       "9            Hisense 75-inch S8 4K LED LCD Smart TV   \n",
       "10                TCL 65-inch C715 4K QLED Smart TV   \n",
       "\n",
       "                           Price        Model    Brand Size       Retailer  \\\n",
       "6   2995                           KD65X9500H     Sony   65  Harvey Norman   \n",
       "7                           1395         65S8  Hisense   65  Harvey Norman   \n",
       "8                           1495  55NANO80TNA       LG   55  Harvey Norman   \n",
       "9   1895                                 75S8  Hisense   75  Harvey Norman   \n",
       "10  1595                               65C715      TCL   65  Harvey Norman   \n",
       "\n",
       "     Categories Currencies                                              Image  \n",
       "6   Televisions        AUD  https://azcd.harveynorman.com.au/media/catalog...  \n",
       "7   Televisions        AUD  https://azcd.harveynorman.com.au/media/catalog...  \n",
       "8   Televisions        AUD  https://azcd.harveynorman.com.au/media/catalog...  \n",
       "9   Televisions        AUD  https://azcd.harveynorman.com.au/media/catalog...  \n",
       "10  Televisions        AUD  https://azcd.harveynorman.com.au/media/catalog...  "
      ]
     },
     "execution_count": 43,
     "metadata": {},
     "output_type": "execute_result"
    }
   ],
   "source": [
    "df.head()"
   ]
  },
  {
   "cell_type": "code",
   "execution_count": 42,
   "metadata": {},
   "outputs": [],
   "source": [
    "#export dataframe as csv\n",
    "df.to_csv(\"output/Extract_Harvey_Norman.csv\")"
   ]
  },
  {
   "cell_type": "code",
   "execution_count": null,
   "metadata": {},
   "outputs": [],
   "source": []
  }
 ],
 "metadata": {
  "kernelspec": {
   "display_name": "Python [conda env:PythonData]",
   "language": "python",
   "name": "conda-env-PythonData-py"
  },
  "language_info": {
   "codemirror_mode": {
    "name": "ipython",
    "version": 3
   },
   "file_extension": ".py",
   "mimetype": "text/x-python",
   "name": "python",
   "nbconvert_exporter": "python",
   "pygments_lexer": "ipython3",
   "version": "3.7.6"
  }
 },
 "nbformat": 4,
 "nbformat_minor": 4
}
